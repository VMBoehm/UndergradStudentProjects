{
  "nbformat": 4,
  "nbformat_minor": 0,
  "metadata": {
    "kernelspec": {
      "display_name": "MnuLFI",
      "language": "python",
      "name": "mnulfi"
    },
    "language_info": {
      "codemirror_mode": {
        "name": "ipython",
        "version": 3
      },
      "file_extension": ".py",
      "mimetype": "text/x-python",
      "name": "python",
      "nbconvert_exporter": "python",
      "pygments_lexer": "ipython3",
      "version": "3.7.4"
    },
    "colab": {
      "name": "Copy of (D=2, 50) Convergence Properties of PyDelfi_VanessasChanges.ipynb",
      "provenance": [],
      "collapsed_sections": [
        "vEQKBYwNQ0Qk",
        "E2u6IbbSQ0Ql"
      ],
      "include_colab_link": true
    },
    "widgets": {
      "application/vnd.jupyter.widget-state+json": {
        "44d797929ed1434599296a615c024ee7": {
          "model_module": "@jupyter-widgets/controls",
          "model_name": "HBoxModel",
          "state": {
            "_view_name": "HBoxView",
            "_dom_classes": [],
            "_model_name": "HBoxModel",
            "_view_module": "@jupyter-widgets/controls",
            "_model_module_version": "1.5.0",
            "_view_count": null,
            "_view_module_version": "1.5.0",
            "box_style": "",
            "layout": "IPY_MODEL_26a54e3774184e14aae74c45d2c07ec9",
            "_model_module": "@jupyter-widgets/controls",
            "children": [
              "IPY_MODEL_720e3f764b564ea696b52126d5fa021b",
              "IPY_MODEL_e7c00eaad4724546998f14f069dd97c7"
            ]
          }
        },
        "26a54e3774184e14aae74c45d2c07ec9": {
          "model_module": "@jupyter-widgets/base",
          "model_name": "LayoutModel",
          "state": {
            "_view_name": "LayoutView",
            "grid_template_rows": null,
            "right": null,
            "justify_content": null,
            "_view_module": "@jupyter-widgets/base",
            "overflow": null,
            "_model_module_version": "1.2.0",
            "_view_count": null,
            "flex_flow": null,
            "width": null,
            "min_width": null,
            "border": null,
            "align_items": null,
            "bottom": null,
            "_model_module": "@jupyter-widgets/base",
            "top": null,
            "grid_column": null,
            "overflow_y": null,
            "overflow_x": null,
            "grid_auto_flow": null,
            "grid_area": null,
            "grid_template_columns": null,
            "flex": null,
            "_model_name": "LayoutModel",
            "justify_items": null,
            "grid_row": null,
            "max_height": null,
            "align_content": null,
            "visibility": null,
            "align_self": null,
            "height": null,
            "min_height": null,
            "padding": null,
            "grid_auto_rows": null,
            "grid_gap": null,
            "max_width": null,
            "order": null,
            "_view_module_version": "1.2.0",
            "grid_template_areas": null,
            "object_position": null,
            "object_fit": null,
            "grid_auto_columns": null,
            "margin": null,
            "display": null,
            "left": null
          }
        },
        "720e3f764b564ea696b52126d5fa021b": {
          "model_module": "@jupyter-widgets/controls",
          "model_name": "IntProgressModel",
          "state": {
            "_view_name": "ProgressView",
            "style": "IPY_MODEL_e0bf815aa4ab43269705c0b233340bb4",
            "_dom_classes": [],
            "description": "Training:  64%",
            "_model_name": "IntProgressModel",
            "bar_style": "",
            "max": 500,
            "_view_module": "@jupyter-widgets/controls",
            "_model_module_version": "1.5.0",
            "value": 320,
            "_view_count": null,
            "_view_module_version": "1.5.0",
            "orientation": "horizontal",
            "min": 0,
            "description_tooltip": null,
            "_model_module": "@jupyter-widgets/controls",
            "layout": "IPY_MODEL_c49a1e7ebe19411fa1684f20743aaf9f"
          }
        },
        "e7c00eaad4724546998f14f069dd97c7": {
          "model_module": "@jupyter-widgets/controls",
          "model_name": "HTMLModel",
          "state": {
            "_view_name": "HTMLView",
            "style": "IPY_MODEL_5931031c753643978b5998bf6d5a2c87",
            "_dom_classes": [],
            "description": "",
            "_model_name": "HTMLModel",
            "placeholder": "​",
            "_view_module": "@jupyter-widgets/controls",
            "_model_module_version": "1.5.0",
            "value": " 320/500 [00:50&lt;00:11, 15.52it/s, train loss=-2.15, val loss=-2.15]",
            "_view_count": null,
            "_view_module_version": "1.5.0",
            "description_tooltip": null,
            "_model_module": "@jupyter-widgets/controls",
            "layout": "IPY_MODEL_b4c0c3cb9df748d6ac1da064b906f2bb"
          }
        },
        "e0bf815aa4ab43269705c0b233340bb4": {
          "model_module": "@jupyter-widgets/controls",
          "model_name": "ProgressStyleModel",
          "state": {
            "_view_name": "StyleView",
            "_model_name": "ProgressStyleModel",
            "description_width": "initial",
            "_view_module": "@jupyter-widgets/base",
            "_model_module_version": "1.5.0",
            "_view_count": null,
            "_view_module_version": "1.2.0",
            "bar_color": null,
            "_model_module": "@jupyter-widgets/controls"
          }
        },
        "c49a1e7ebe19411fa1684f20743aaf9f": {
          "model_module": "@jupyter-widgets/base",
          "model_name": "LayoutModel",
          "state": {
            "_view_name": "LayoutView",
            "grid_template_rows": null,
            "right": null,
            "justify_content": null,
            "_view_module": "@jupyter-widgets/base",
            "overflow": null,
            "_model_module_version": "1.2.0",
            "_view_count": null,
            "flex_flow": null,
            "width": null,
            "min_width": null,
            "border": null,
            "align_items": null,
            "bottom": null,
            "_model_module": "@jupyter-widgets/base",
            "top": null,
            "grid_column": null,
            "overflow_y": null,
            "overflow_x": null,
            "grid_auto_flow": null,
            "grid_area": null,
            "grid_template_columns": null,
            "flex": null,
            "_model_name": "LayoutModel",
            "justify_items": null,
            "grid_row": null,
            "max_height": null,
            "align_content": null,
            "visibility": null,
            "align_self": null,
            "height": null,
            "min_height": null,
            "padding": null,
            "grid_auto_rows": null,
            "grid_gap": null,
            "max_width": null,
            "order": null,
            "_view_module_version": "1.2.0",
            "grid_template_areas": null,
            "object_position": null,
            "object_fit": null,
            "grid_auto_columns": null,
            "margin": null,
            "display": null,
            "left": null
          }
        },
        "5931031c753643978b5998bf6d5a2c87": {
          "model_module": "@jupyter-widgets/controls",
          "model_name": "DescriptionStyleModel",
          "state": {
            "_view_name": "StyleView",
            "_model_name": "DescriptionStyleModel",
            "description_width": "",
            "_view_module": "@jupyter-widgets/base",
            "_model_module_version": "1.5.0",
            "_view_count": null,
            "_view_module_version": "1.2.0",
            "_model_module": "@jupyter-widgets/controls"
          }
        },
        "b4c0c3cb9df748d6ac1da064b906f2bb": {
          "model_module": "@jupyter-widgets/base",
          "model_name": "LayoutModel",
          "state": {
            "_view_name": "LayoutView",
            "grid_template_rows": null,
            "right": null,
            "justify_content": null,
            "_view_module": "@jupyter-widgets/base",
            "overflow": null,
            "_model_module_version": "1.2.0",
            "_view_count": null,
            "flex_flow": null,
            "width": null,
            "min_width": null,
            "border": null,
            "align_items": null,
            "bottom": null,
            "_model_module": "@jupyter-widgets/base",
            "top": null,
            "grid_column": null,
            "overflow_y": null,
            "overflow_x": null,
            "grid_auto_flow": null,
            "grid_area": null,
            "grid_template_columns": null,
            "flex": null,
            "_model_name": "LayoutModel",
            "justify_items": null,
            "grid_row": null,
            "max_height": null,
            "align_content": null,
            "visibility": null,
            "align_self": null,
            "height": null,
            "min_height": null,
            "padding": null,
            "grid_auto_rows": null,
            "grid_gap": null,
            "max_width": null,
            "order": null,
            "_view_module_version": "1.2.0",
            "grid_template_areas": null,
            "object_position": null,
            "object_fit": null,
            "grid_auto_columns": null,
            "margin": null,
            "display": null,
            "left": null
          }
        }
      }
    }
  },
  "cells": [
    {
      "cell_type": "markdown",
      "metadata": {
        "id": "view-in-github",
        "colab_type": "text"
      },
      "source": [
        "<a href=\"https://colab.research.google.com/github/VMBoehm/UndergradStudentProjects/blob/master/Copy_of_(D%3D2%2C_50)_Convergence_Properties_of_PyDelfi_VanessasChanges.ipynb\" target=\"_parent\"><img src=\"https://colab.research.google.com/assets/colab-badge.svg\" alt=\"Open In Colab\"/></a>"
      ]
    },
    {
      "cell_type": "code",
      "metadata": {
        "id": "IPZkQIfuQ0Ol",
        "colab_type": "code",
        "colab": {}
      },
      "source": [
        "import matplotlib.pyplot as plt\n",
        "import numpy as np"
      ],
      "execution_count": 0,
      "outputs": []
    },
    {
      "cell_type": "markdown",
      "metadata": {
        "id": "hD-oVbP5Q0Ox",
        "colab_type": "text"
      },
      "source": [
        "#### Problem statement:    \n",
        "Our forward model for the data is d=Ax+b + n, where n is Gaussian noise, A is a prefactor, x is the underlying signal. We are interested in inferring b (possible A). x follows a standard normal distribution, n follows a Gaussian distribution with mean zero and variance sigma^2.\n",
        "\n",
        "#### Week 1:   \n",
        "Questions:\n",
        "- What is the expression for P(x)? \n",
        "- What is the expression for P(d|x,A,b) (The probability of the data given a realization of x)?\n",
        "- How do we compute P(b|d,A)? (Hint: Bayesian theorem and marginalization. how is P(b|d,A) related to  P(x,d|A,b)?, How is P(x,d|b,A) related to P(d|x,A,b)?)\n",
        "- Can you find the actual expression for P(b|d,b)?\n",
        "- How does PyDelfi compute P(A|d)?\n",
        "\n",
        "Coding:  \n",
        "- write a function that generates realizations of 'x'. (for now x, n and d are just scalars)\n",
        "- write a function that generates realizations of 'n'.\n",
        "- write a function that calls these two functions to generate data.\n",
        "- Generate many (N=1000) realizations of the data and plot the distribution."
      ]
    },
    {
      "cell_type": "markdown",
      "metadata": {
        "id": "iJaJ6UwoQ0Oy",
        "colab_type": "text"
      },
      "source": [
        "#### data generating functions"
      ]
    },
    {
      "cell_type": "code",
      "metadata": {
        "id": "s2Wa-zxKQ0O2",
        "colab_type": "code",
        "colab": {}
      },
      "source": [
        "def generate_signal(dims=2, n_sample=100, random_seed=None):\n",
        "    \n",
        "    np.random.seed(random_seed)\n",
        "    x = np.random.randn(n_sample,dims)\n",
        "    return x\n",
        "\n",
        "def generate_noise(sigma, dims=2, n_sample=100, random_seed=None):\n",
        "    \n",
        "    np.random.seed(random_seed)\n",
        "    n = np.random.randn(n_sample,dims)*sigma\n",
        "    return n\n",
        "\n",
        "def generate_data(A, b, sigma, dims, n_sample, random_seeds=[None,None]):\n",
        "    signal= generate_signal(dims, n_sample, random_seed=random_seeds[0])\n",
        "    noise = generate_noise(sigma, dims, n_sample, random_seed=random_seeds[1])\n",
        "    data  = A*signal+b+noise\n",
        "    \n",
        "    return data"
      ],
      "execution_count": 0,
      "outputs": []
    },
    {
      "cell_type": "markdown",
      "metadata": {
        "id": "ivCmQJfYQ0O-",
        "colab_type": "text"
      },
      "source": [
        "#### problem specifications"
      ]
    },
    {
      "cell_type": "code",
      "metadata": {
        "id": "COWfSh1gQ0PA",
        "colab_type": "code",
        "colab": {}
      },
      "source": [
        "# this is the dimensionality of the data\n",
        "dims      = 2\n",
        "# this is the noise level in our measurement\n",
        "sigma     = 0.1\n",
        "# this is the amplitude parameter\n",
        "A_true    = 0.5\n",
        "# this is the mean value parameter (the parameter we are interested in inferring from the data)\n",
        "b_true    = np.asarray([-3,3])"
      ],
      "execution_count": 0,
      "outputs": []
    },
    {
      "cell_type": "code",
      "metadata": {
        "id": "VULebxRJQ0PG",
        "colab_type": "code",
        "colab": {}
      },
      "source": [
        "# now we generate the data, that will be our 'measurement'. \n",
        "# The aim is to infer the parameter of interest from this measurement.\n",
        "data      = generate_data(A_true,b_true,sigma,dims,n_sample=1, random_seeds=[568,176])"
      ],
      "execution_count": 0,
      "outputs": []
    },
    {
      "cell_type": "markdown",
      "metadata": {
        "id": "7_qQB5owQ0PP",
        "colab_type": "text"
      },
      "source": [
        "For the solution to P(b|d,A), see the notes I'll be sending alongside with this. \n",
        "In the specific case we are considering here, P(b|d,A) is Gaussian, but in general this is not the case.\n",
        "Btw, just because the data is Gaussian distributed, doesnt mean the posterior for the parameters P(params|data) is Gaussian.\n",
        "\n",
        "From our calculation we find that P(d|b) is Gaussian with mean b and covariance (sigma^2+A^2), let's empirically check if this is true, by plotting the histogram:  \n"
      ]
    },
    {
      "cell_type": "code",
      "metadata": {
        "id": "0ArMuTTjQ0PP",
        "colab_type": "code",
        "outputId": "538b53fd-5937-4f39-a161-9a049ea6abe5",
        "colab": {
          "base_uri": "https://localhost:8080/",
          "height": 531
        }
      },
      "source": [
        "def Gaussian_per_dim(x,Mu,Sigma):\n",
        "    return 1/np.sqrt(np.pi*2.)/Sigma*np.exp(-0.5*(x-Mu)**2/Sigma**2)\n",
        "\n",
        "# draw a large data sample to visualize the data distribution\n",
        "data_sample = generate_data(A_true,b_true,sigma,dims,n_sample=10000)\n",
        "# and plot it for each dimension\n",
        "plt.figure()\n",
        "for ii in range(dims):\n",
        "    plt.subplot(dims,1,ii+1)\n",
        "    _, bins,_ = plt.hist(data_sample[:,ii], density=True,bins=100)\n",
        "    delta = np.diff(bins) \n",
        "    bins  = bins[0:-1]+delta\n",
        "    plt.plot(bins,np.squeeze(Gaussian_per_dim(bins,b_true[ii],(A_true**2+sigma**2)**(0.5))))\n",
        "    plt.xlim(-6,6)\n",
        "plt.show()\n",
        "\n",
        "## -> spot on!\n",
        "\n",
        "# in 2 d a scatter plot also helps us visualize what the data distribution looks like and if our 'measurement' is a typical data point\n",
        "\n",
        "plt.scatter(data_sample[:,0],data_sample[:,1])\n",
        "plt.scatter(data[:,0],data[:,1])"
      ],
      "execution_count": 0,
      "outputs": [
        {
          "output_type": "display_data",
          "data": {
            "image/png": "[encoded data removed]",
            "text/plain": [
              "<Figure size 432x288 with 2 Axes>"
            ]
          },
          "metadata": {
            "tags": [],
            "needs_background": "light"
          }
        },
        {
          "output_type": "execute_result",
          "data": {
            "text/plain": [
              "<matplotlib.collections.PathCollection at 0x7f26f286aa58>"
            ]
          },
          "metadata": {
            "tags": []
          },
          "execution_count": 6
        },
        {
          "output_type": "display_data",
          "data": {
            "image/png": "[encoded data removed]",
            "text/plain": [
              "<Figure size 432x288 with 1 Axes>"
            ]
          },
          "metadata": {
            "tags": [],
            "needs_background": "light"
          }
        }
      ]
    },
    {
      "cell_type": "markdown",
      "metadata": {
        "id": "jJRNihJcQ0Pa",
        "colab_type": "text"
      },
      "source": [
        "#### How does Pydelfi compute P(b|d)?    \n",
        "Pydelfi learns P(d|b) from simulations that generate data from given parameter values. It then multiplies it with a given prior to obtain P(d,b) and then evaluates it at a given data point to get P(b|d)."
      ]
    },
    {
      "cell_type": "code",
      "metadata": {
        "id": "Uq3TxtohR2hy",
        "colab_type": "code",
        "outputId": "44428987-abb4-4728-b9dd-ce489a97c5b8",
        "colab": {
          "base_uri": "https://localhost:8080/",
          "height": 71
        }
      },
      "source": [
        "%tensorflow_version 1.x\n",
        "import tensorflow\n",
        "print(tensorflow.__version__)\n",
        "\n",
        "!pip install -q https://github.com/justinalsing/pydelfi/archive/master.zip"
      ],
      "execution_count": 0,
      "outputs": [
        {
          "output_type": "stream",
          "text": [
            "TensorFlow 1.x selected.\n",
            "1.15.2\n",
            "  Building wheel for pydelfi (setup.py) ... \u001b[?25l\u001b[?25hdone\n"
          ],
          "name": "stdout"
        }
      ]
    },
    {
      "cell_type": "markdown",
      "metadata": {
        "id": "zRjyyrhhQ0Pb",
        "colab_type": "text"
      },
      "source": [
        "#### pydelfi on our example"
      ]
    },
    {
      "cell_type": "code",
      "metadata": {
        "id": "6-YjLVPGQ0Pd",
        "colab_type": "code",
        "outputId": "05cf6c6e-e76e-44bb-8440-452a6544c5a4",
        "colab": {
          "base_uri": "https://localhost:8080/",
          "height": 53
        }
      },
      "source": [
        "import pydelfi.priors as priors\n",
        "import pydelfi.ndes as ndes\n",
        "import pydelfi.delfi as delfi\n",
        "import tensorflow as tf"
      ],
      "execution_count": 0,
      "outputs": [
        {
          "output_type": "stream",
          "text": [
            "WARNING:tensorflow:From /usr/local/lib/python3.6/dist-packages/pydelfi/train.py:9: The name tf.train.AdamOptimizer is deprecated. Please use tf.compat.v1.train.AdamOptimizer instead.\n",
            "\n"
          ],
          "name": "stdout"
        }
      ]
    },
    {
      "cell_type": "code",
      "metadata": {
        "id": "Kg_9mwMpQ0Pj",
        "colab_type": "code",
        "outputId": "1114b9b8-6e2d-43f8-aba2-e0ca9f2780ff",
        "colab": {
          "base_uri": "https://localhost:8080/",
          "height": 265
        }
      },
      "source": [
        "# we first have to create training data, i.e. pairs (data, b), that we can feed into pydelfi for training\n",
        "\n",
        "# let's just sample values for b on a grid for now\n",
        "# trying different sampling methods is what the other students are gonna look at, but you are free to also test how they influence the result\n",
        "\n",
        "lower = -10\n",
        "upper = 10\n",
        "\n",
        "#randomly drawing training sampled from uniform distribution to speed up things\n",
        "num_training_samples = 80**2\n",
        "upper_sample = upper+1\n",
        "lower_sample = lower-1\n",
        "bs = (np.random.rand(num_training_samples, b_true.shape[-1])-0.5)*(upper_sample-lower_sample)+(upper_sample+lower_sample)/2.\n",
        "\n",
        "#plot to see that they are actually well unirfomly distributed\n",
        "plt.figure()\n",
        "plt.scatter(bs[:,0],bs[:,1])\n",
        "plt.show()\n",
        "\n",
        "# if that takes too long you can think about parallizing it with 'map' and 'pool'. \n",
        "training_data = []\n",
        "training_params = []\n",
        "for b in bs:\n",
        "    training_params.append(b)\n",
        "    training_data.append(generate_data(A_true,b,sigma,dims,n_sample=1))\n",
        "training_params = np.squeeze(np.asarray(training_params))\n",
        "training_data   = np.squeeze(np.asarray(training_data))\n",
        "\n"
      ],
      "execution_count": 0,
      "outputs": [
        {
          "output_type": "display_data",
          "data": {
            "image/png": "[encoded data removed]",
            "text/plain": [
              "<Figure size 432x288 with 1 Axes>"
            ]
          },
          "metadata": {
            "tags": [],
            "needs_background": "light"
          }
        }
      ]
    },
    {
      "cell_type": "code",
      "metadata": {
        "id": "a3gmhwB5xZSj",
        "colab_type": "code",
        "colab": {}
      },
      "source": [
        "# num_training_samples = 50**2\n",
        "# bs = np.linspace(-7,7,np.int(np.sqrt(num_training_samples)))\n",
        "# lower = -7\n",
        "# upper = 7\n",
        "# training_data = []\n",
        "# training_params = []\n",
        "# for b_0 in bs:\n",
        "#     for b_1 in bs:\n",
        "#         training_params.append(np.asarray([b_0,b_1]))\n",
        "#         training_data.append(generate_data(A_true,training_params[-1],sigma,dims,n_sample=1))\n",
        "# training_params = np.squeeze(np.asarray(training_params))\n",
        "# training_data   = np.squeeze(np.asarray(training_data))"
      ],
      "execution_count": 0,
      "outputs": []
    },
    {
      "cell_type": "code",
      "metadata": {
        "id": "ZInHi12lQ0Pn",
        "colab_type": "code",
        "colab": {}
      },
      "source": [
        "# next we define our prior \n",
        "# do we have any preknowledge about the parameter values?\n",
        "# for now let's assume we now that they are bigger than -6 and smaller than 6\n",
        "lower_array = np.repeat(lower,b_true.shape[-1])\n",
        "upper_array = np.repeat(upper,b_true.shape[-1])\n",
        "prior = priors.Uniform(lower_array, upper_array)"
      ],
      "execution_count": 0,
      "outputs": []
    },
    {
      "cell_type": "markdown",
      "metadata": {
        "id": "QL3FeOXqQ0P5",
        "colab_type": "text"
      },
      "source": [
        "now we need to design our networks\n",
        "let's use a gaussian mixture model with one Gaussian (because we know that this should be sufficient)\n",
        "\n",
        "mixture density network takes the data and feeds it through a neural network. The output of the neural network are the parameters of a Gaussian mixture model (means, covariances, weights) which represents P(d,params). It then evaluates P(d,params) for the current training pair. The network parameters are chosen to maximize this probability."
      ]
    },
    {
      "cell_type": "code",
      "metadata": {
        "id": "InJ6pB_AQ0P6",
        "colab_type": "code",
        "outputId": "f3be211d-1bb3-4fad-d2ad-d51629cb6e40",
        "colab": {
          "base_uri": "https://localhost:8080/",
          "height": 392
        }
      },
      "source": [
        "# we need to specify the number of parameters, the datat dimensionality, the number of components in the Gaussian mixture model, and the number of hidden layers in the network\n",
        "NDEs = [ndes.MixtureDensityNetwork(n_parameters=len(b_true), n_data=dims, n_components=1, n_hidden=[2,2], activations=[tf.tanh,tf.tanh], index=0)]"
      ],
      "execution_count": 0,
      "outputs": [
        {
          "output_type": "stream",
          "text": [
            "WARNING:tensorflow:From /usr/local/lib/python3.6/dist-packages/pydelfi/ndes.py:293: The name tf.placeholder is deprecated. Please use tf.compat.v1.placeholder instead.\n",
            "\n",
            "WARNING:tensorflow:From /usr/local/lib/python3.6/dist-packages/pydelfi/ndes.py:302: The name tf.variable_scope is deprecated. Please use tf.compat.v1.variable_scope instead.\n",
            "\n",
            "WARNING:tensorflow:From /usr/local/lib/python3.6/dist-packages/pydelfi/ndes.py:304: The name tf.get_variable is deprecated. Please use tf.compat.v1.get_variable instead.\n",
            "\n",
            "WARNING:tensorflow:\n",
            "The TensorFlow contrib module will not be included in TensorFlow 2.0.\n",
            "For more information, please see:\n",
            "  * https://github.com/tensorflow/community/blob/master/rfcs/20180907-contrib-sunset.md\n",
            "  * https://github.com/tensorflow/addons\n",
            "  * https://github.com/tensorflow/io (for I/O related ops)\n",
            "If you depend on functionality not listed there, please file an issue.\n",
            "\n",
            "WARNING:tensorflow:From /usr/local/lib/python3.6/dist-packages/pydelfi/ndes.py:332: The name tf.log is deprecated. Please use tf.math.log instead.\n",
            "\n",
            "WARNING:tensorflow:From /usr/local/lib/python3.6/dist-packages/pydelfi/ndes.py:336: The name tf.losses.mean_squared_error is deprecated. Please use tf.compat.v1.losses.mean_squared_error instead.\n",
            "\n",
            "WARNING:tensorflow:From /tensorflow-1.15.2/python3.6/tensorflow_core/python/ops/losses/losses_impl.py:121: where (from tensorflow.python.ops.array_ops) is deprecated and will be removed in a future version.\n",
            "Instructions for updating:\n",
            "Use tf.where in 2.0, which has the same broadcast rule as np.where\n"
          ],
          "name": "stdout"
        }
      ]
    },
    {
      "cell_type": "code",
      "metadata": {
        "id": "lCnJH3oRQ0QB",
        "colab_type": "code",
        "outputId": "1f996de7-18ea-4921-b9f3-758913377f55",
        "colab": {
          "base_uri": "https://localhost:8080/",
          "height": 178
        }
      },
      "source": [
        "# next we define a pydelfi estimator object\n",
        "# we feed in our measurement, our prior and the parameter limits and names\n",
        "param_names = ['b'+str(ii) for ii in range(b_true.shape[-1])]\n",
        "\n",
        "DelfiEnsemble = delfi.Delfi(np.squeeze(data), prior, NDEs, \n",
        "                            Finv = None, \n",
        "                            theta_fiducial = None, \n",
        "                            param_limits = [lower_array,upper_array],\n",
        "                            param_names = param_names, \n",
        "                            input_normalization=None,restore=False)"
      ],
      "execution_count": 0,
      "outputs": [
        {
          "output_type": "stream",
          "text": [
            "WARNING:tensorflow:From /tensorflow-1.15.2/python3.6/tensorflow_core/python/ops/math_grad.py:281: setdiff1d (from tensorflow.python.ops.array_ops) is deprecated and will be removed after 2018-11-30.\n",
            "Instructions for updating:\n",
            "This op will be removed after the deprecation date. Please switch to tf.sets.difference().\n",
            "WARNING:tensorflow:From /usr/local/lib/python3.6/dist-packages/pydelfi/delfi.py:68: The name tf.Session is deprecated. Please use tf.compat.v1.Session instead.\n",
            "\n",
            "WARNING:tensorflow:From /usr/local/lib/python3.6/dist-packages/pydelfi/delfi.py:68: The name tf.ConfigProto is deprecated. Please use tf.compat.v1.ConfigProto instead.\n",
            "\n",
            "WARNING:tensorflow:From /usr/local/lib/python3.6/dist-packages/pydelfi/delfi.py:69: The name tf.global_variables_initializer is deprecated. Please use tf.compat.v1.global_variables_initializer instead.\n",
            "\n"
          ],
          "name": "stdout"
        }
      ]
    },
    {
      "cell_type": "code",
      "metadata": {
        "id": "0ZxGAR2hQ0QG",
        "colab_type": "code",
        "colab": {}
      },
      "source": [
        "## then we feed in our training data\n",
        "DelfiEnsemble.load_simulations(training_data,training_params)"
      ],
      "execution_count": 0,
      "outputs": []
    },
    {
      "cell_type": "code",
      "metadata": {
        "id": "od2FBujnQ0QL",
        "colab_type": "code",
        "outputId": "a812afa2-edc6-42bc-ae00-d0e569f33ee4",
        "colab": {
          "base_uri": "https://localhost:8080/",
          "height": 103,
          "referenced_widgets": [
            "44d797929ed1434599296a615c024ee7",
            "26a54e3774184e14aae74c45d2c07ec9",
            "720e3f764b564ea696b52126d5fa021b",
            "e7c00eaad4724546998f14f069dd97c7",
            "e0bf815aa4ab43269705c0b233340bb4",
            "c49a1e7ebe19411fa1684f20743aaf9f",
            "5931031c753643978b5998bf6d5a2c87",
            "b4c0c3cb9df748d6ac1da064b906f2bb"
          ]
        }
      },
      "source": [
        "## and train\n",
        "DelfiEnsemble.train_ndes()"
      ],
      "execution_count": 0,
      "outputs": [
        {
          "output_type": "stream",
          "text": [
            "WARNING:tensorflow:From /usr/local/lib/python3.6/dist-packages/pydelfi/train.py:61: The name tf.train.Saver is deprecated. Please use tf.compat.v1.train.Saver instead.\n",
            "\n"
          ],
          "name": "stdout"
        },
        {
          "output_type": "display_data",
          "data": {
            "application/vnd.jupyter.widget-view+json": {
              "model_id": "44d797929ed1434599296a615c024ee7",
              "version_minor": 0,
              "version_major": 2
            },
            "text/plain": [
              "HBox(children=(IntProgress(value=0, description='Training', max=500, style=ProgressStyle(description_width='in…"
            ]
          },
          "metadata": {
            "tags": []
          }
        },
        {
          "output_type": "stream",
          "text": [
            "INFO:tensorflow:Restoring parameters from graph_checkpoint\n"
          ],
          "name": "stdout"
        }
      ]
    },
    {
      "cell_type": "code",
      "metadata": {
        "id": "ZrR3zQFY4mfd",
        "colab_type": "code",
        "colab": {}
      },
      "source": [
        "del training_data\n",
        "del training_params"
      ],
      "execution_count": 0,
      "outputs": []
    },
    {
      "cell_type": "code",
      "metadata": {
        "id": "qegQt6ss51KT",
        "colab_type": "code",
        "outputId": "02a1aa58-5c57-46c2-998c-ff3c8dd51d23",
        "colab": {
          "base_uri": "https://localhost:8080/",
          "height": 172
        }
      },
      "source": [
        ""
      ],
      "execution_count": 0,
      "outputs": [
        {
          "output_type": "error",
          "ename": "NameError",
          "evalue": "ignored",
          "traceback": [
            "\u001b[0;31m---------------------------------------------------------------------------\u001b[0m",
            "\u001b[0;31mNameError\u001b[0m                                 Traceback (most recent call last)",
            "\u001b[0;32m<ipython-input-23-9c08658398d8>\u001b[0m in \u001b[0;36m<module>\u001b[0;34m()\u001b[0m\n\u001b[0;32m----> 1\u001b[0;31m \u001b[0mtraining_params\u001b[0m\u001b[0;34m\u001b[0m\u001b[0;34m\u001b[0m\u001b[0m\n\u001b[0m",
            "\u001b[0;31mNameError\u001b[0m: name 'training_params' is not defined"
          ]
        }
      ]
    },
    {
      "cell_type": "code",
      "metadata": {
        "id": "3Z-LkoihQ0QR",
        "colab_type": "code",
        "colab": {}
      },
      "source": [
        "### to analyze the resulting model we draw samples from it\n",
        "posterior_samples = DelfiEnsemble.emcee_sample()"
      ],
      "execution_count": 0,
      "outputs": []
    },
    {
      "cell_type": "code",
      "metadata": {
        "id": "n3cyV_PqQ0QV",
        "colab_type": "code",
        "outputId": "59bb7732-e53c-4fcc-dfdc-02af14a77c5b",
        "colab": {
          "base_uri": "https://localhost:8080/",
          "height": 939
        }
      },
      "source": [
        "### and plot these samples\n",
        "DelfiEnsemble.triangle_plot([posterior_samples])"
      ],
      "execution_count": 0,
      "outputs": [
        {
          "output_type": "stream",
          "text": [
            "Removed no burn in\n"
          ],
          "name": "stdout"
        },
        {
          "output_type": "stream",
          "text": [
            "/usr/local/lib/python3.6/dist-packages/pydelfi/delfi.py:626: UserWarning: This figure includes Axes that are not compatible with tight_layout, so results might be incorrect.\n",
            "  plt.tight_layout()\n"
          ],
          "name": "stderr"
        },
        {
          "output_type": "display_data",
          "data": {
            "image/png": "[encoded data removed]",
            "text/plain": [
              "<Figure size 864x864 with 3 Axes>"
            ]
          },
          "metadata": {
            "tags": [],
            "needs_background": "light"
          }
        }
      ]
    },
    {
      "cell_type": "code",
      "metadata": {
        "id": "1f_9gBpnTrx1",
        "colab_type": "code",
        "outputId": "e6d872de-e4b0-4fb8-ad4c-f6767c114988",
        "colab": {
          "base_uri": "https://localhost:8080/",
          "height": 35
        }
      },
      "source": [
        "#### this is the posterior that pydelfi fits\n",
        "### this might not be normalized? \n",
        "#log_likelihood = lambda x: DelfiEnsemble.log_posterior_stacked(x, data)[0]\n",
        "#log_likelihood(b_true)\n",
        "\n",
        "\n",
        "## this is the likelihood that pydelfi fits (= posterior for flat prior that extends far enough), should be correctly normalized\n",
        "pydelfi_log_posterior = lambda x: DelfiEnsemble.log_posterior_stacked(x, data)[0]\n",
        "pydelfi_log_posterior(b_true)"
      ],
      "execution_count": 0,
      "outputs": [
        {
          "output_type": "execute_result",
          "data": {
            "text/plain": [
              "array([8.45357769])"
            ]
          },
          "metadata": {
            "tags": []
          },
          "execution_count": 33
        }
      ]
    },
    {
      "cell_type": "code",
      "metadata": {
        "id": "XjrHRxeL4y5Q",
        "colab_type": "code",
        "outputId": "a886200b-52da-4d48-b405-2a219f7c1025",
        "colab": {
          "base_uri": "https://localhost:8080/",
          "height": 35
        }
      },
      "source": [
        "len(posterior_samples)"
      ],
      "execution_count": 0,
      "outputs": [
        {
          "output_type": "execute_result",
          "data": {
            "text/plain": [
              "100000"
            ]
          },
          "metadata": {
            "tags": []
          },
          "execution_count": 34
        }
      ]
    },
    {
      "cell_type": "code",
      "metadata": {
        "id": "EL6RyvFRZeyo",
        "colab_type": "code",
        "colab": {}
      },
      "source": [
        "#draw sample from true posterior\n",
        "def true_posterior_samples(n_samples, mean, cov):\n",
        "  L = np.linalg.cholesky(cov)\n",
        "\n",
        "  samples = np.random.randn(n_samples,mean.shape[-1])\n",
        "  samples = np.dot(samples,L)+mean\n",
        "\n",
        "  return samples\n",
        "\n",
        "true_posterior_samples = true_posterior_samples(10000, data, np.diag(np.ones(data.shape[-1])*(A_true**2+sigma**2)))"
      ],
      "execution_count": 0,
      "outputs": []
    },
    {
      "cell_type": "code",
      "metadata": {
        "id": "ijZuHNQIbHB2",
        "colab_type": "code",
        "outputId": "1815e42c-96d7-4d11-9a92-75f100c4d4e4",
        "colab": {
          "base_uri": "https://localhost:8080/",
          "height": 283
        }
      },
      "source": [
        "plt.scatter(true_posterior_samples[:,0],true_posterior_samples[:,1])\n",
        "plt.scatter(posterior_samples[:,0],posterior_samples[:,1])"
      ],
      "execution_count": 0,
      "outputs": [
        {
          "output_type": "execute_result",
          "data": {
            "text/plain": [
              "<matplotlib.collections.PathCollection at 0x7f269dc333c8>"
            ]
          },
          "metadata": {
            "tags": []
          },
          "execution_count": 41
        },
        {
          "output_type": "display_data",
          "data": {
            "image/png": "[encoded data removed]",
            "text/plain": [
              "<Figure size 432x288 with 1 Axes>"
            ]
          },
          "metadata": {
            "tags": [],
            "needs_background": "light"
          }
        }
      ]
    },
    {
      "cell_type": "code",
      "metadata": {
        "id": "g7uzKwPY-eqw",
        "colab_type": "code",
        "outputId": "d5bb2cda-3bba-47d7-898c-03586531ea43",
        "colab": {
          "base_uri": "https://localhost:8080/",
          "height": 35
        }
      },
      "source": [
        ""
      ],
      "execution_count": 0,
      "outputs": [
        {
          "output_type": "stream",
          "text": [
            "[-2.60679601  2.58999584]\n"
          ],
          "name": "stdout"
        }
      ]
    },
    {
      "cell_type": "code",
      "metadata": {
        "id": "IBEbeOGn-NUY",
        "colab_type": "code",
        "colab": {}
      },
      "source": [
        "pydelfi_mean = np.mean(posterior_samples[-10000::],axis=0)\n",
        "print(pydelfi_mean)\n",
        "pydelfi_covariance = np.dot((posterior_samples[-10000::]-pydelfi_mean[None,:]).T,(posterior_samples[-10000::]-pydelfi_mean[None,:]))/(10000-1)"
      ],
      "execution_count": 0,
      "outputs": []
    },
    {
      "cell_type": "code",
      "metadata": {
        "id": "2-SooddA-V1H",
        "colab_type": "code",
        "colab": {}
      },
      "source": [
        "def KL_Gaussians(mean0,cov0,mean1, cov1):\n",
        "  cov1inv=np.linalg.inv(cov1)\n",
        "  mm = (mean1-mean0)\n",
        "  return 0.5*(np.trace(np.dot(cov1inv,cov0))+np.dot(mm.T, np.dot(cov1inv,mm))-2+np.log(np.linalg.det(cov1)/np.linalg.det(cov0)))"
      ],
      "execution_count": 0,
      "outputs": []
    },
    {
      "cell_type": "code",
      "metadata": {
        "id": "-JrHNMz1BC7K",
        "colab_type": "code",
        "outputId": "bf164610-b1a3-418c-bdc7-f2b18f571e2d",
        "colab": {
          "base_uri": "https://localhost:8080/",
          "height": 35
        }
      },
      "source": [
        "# this is the KL divergence between the pydelfi posterior and the true posterior (better way to estimate this?)\n",
        "KL_Gaussians(b_true,np.diag([(A_true**2+sigma**2),(A_true**2+sigma**2)]),pydelfi_mean, pydelfi_covariance)"
      ],
      "execution_count": 0,
      "outputs": [
        {
          "output_type": "execute_result",
          "data": {
            "text/plain": [
              "0.6681496618213307"
            ]
          },
          "metadata": {
            "tags": []
          },
          "execution_count": 58
        }
      ]
    },
    {
      "cell_type": "code",
      "metadata": {
        "id": "G1iep9VDQ0Qa",
        "colab_type": "code",
        "outputId": "e36bdb31-a29d-4449-f44f-23bd5a4a526d",
        "colab": {
          "base_uri": "https://localhost:8080/",
          "height": 513
        }
      },
      "source": [
        "# since we know the correct solution, let's overplot\n",
        "for ii in range(len(b_true)):\n",
        "    _, bins, _ =plt.hist(posterior_samples[:,ii], density=True, bins=100)\n",
        "    _ =plt.hist(posterior_samples[:,ii], density=True, bins=bins)\n",
        "    delta = np.diff(bins) \n",
        "    bins  = bins[0:-1]+delta\n",
        "    plt.plot(bins,np.squeeze(Gaussian_per_dim(bins,data[:,ii],(A_true**2+sigma**2)**(0.5))))\n",
        "    plt.show()\n",
        "## and they agree!"
      ],
      "execution_count": 0,
      "outputs": [
        {
          "output_type": "display_data",
          "data": {
            "image/png": "[encoded data removed]",
            "text/plain": [
              "<Figure size 432x288 with 1 Axes>"
            ]
          },
          "metadata": {
            "tags": [],
            "needs_background": "light"
          }
        },
        {
          "output_type": "display_data",
          "data": {
            "image/png": "[encoded data removed]",
            "text/plain": [
              "<Figure size 432x288 with 1 Axes>"
            ]
          },
          "metadata": {
            "tags": [],
            "needs_background": "light"
          }
        }
      ]
    },
    {
      "cell_type": "markdown",
      "metadata": {
        "id": "wzqRDJD6Q0Qf",
        "colab_type": "text"
      },
      "source": [
        "### Now let's estimate the same Gaussian from the data in a conventional fashion (this is what we should actually be comparing against). For this we would also need to run simulations, typically at a fiducial parameter value, which we think is roughly true. Measure the covariance of that data and use it as covariance in our posterior approximation."
      ]
    },
    {
      "cell_type": "code",
      "metadata": {
        "id": "ogLLPVgPQ0Qg",
        "colab_type": "code",
        "outputId": "f0f9bc7f-0efe-4bf3-d68b-d2b16921ee73",
        "colab": {
          "base_uri": "https://localhost:8080/",
          "height": 1000
        }
      },
      "source": [
        "# fiducial parameter values \n",
        "b_fid = [0,0]\n",
        "\n",
        "# generate as many data samples at this value as we used training samples for pydelfi\n",
        "training_data_fid = generate_data(A_true,b_fid,sigma,dims,n_sample=num_training_samples)\n",
        "\n",
        "print('shape:', training_data_fid.shape)\n",
        "\n",
        "#compute mean and covariance of this training data\n",
        "mean = np.mean(training_data_fid, axis=0)\n",
        "cov  = np.dot((training_data_fid-mean).T,(training_data_fid-mean))/(len(training_data_fid)-1)\n",
        "\n",
        "# inspect the results\n",
        "print('mean:', mean, pydelfi_mean)\n",
        "plt.figure()\n",
        "plt.imshow(cov)\n",
        "plt.colorbar()\n",
        "plt.show()\n",
        "# the covariance is diagonal, which is expected, because the different data space dimensions should be uncorrelated. That's how we defined our model.\n",
        "\n",
        "# in our case we know the true covariance, so we can compare against it. Turns out, the covariance estimation is very good!\n",
        "print('covariances')\n",
        "print((A_true**2+sigma**2))\n",
        "print(np.diag(cov))\n",
        "plt.figure()\n",
        "plt.title('fractions')\n",
        "plt.plot(np.diag(cov)/(A_true**2+sigma**2),ls='',marker='o', label='estimated values')\n",
        "plt.axhline((A_true**2+sigma**2)/(A_true**2+sigma**2),label='true value')\n",
        "plt.legend()\n",
        "plt.show()\n",
        "\n",
        "#now let's compare our estimated distribution with the truth and the pydelfi samples.\n",
        "for ii in range(len(b_true)):\n",
        "    _, bins, _ =plt.hist(posterior_samples[:,ii], density=True, bins=100, range=(-6,6),label='pydelfi samples')\n",
        "    delta = np.diff(bins) \n",
        "    bins  = bins[0:-1]+delta\n",
        "    plt.plot(bins,np.squeeze(Gaussian_per_dim(bins,data[:,ii],(A_true**2+sigma**2)**(0.5))), label='exact distribution')\n",
        "    plt.plot(bins,np.squeeze(Gaussian_per_dim(bins,data[:,ii],np.diag(cov)[ii]**(0.5))),label='fiducial estimate', ls='--')\n",
        "    plt.xlim(-6,6)\n",
        "    plt.legend()\n",
        "    plt.show()\n",
        "\n",
        "\n",
        "# can you fit a Gaussian to the pydelfi samples?"
      ],
      "execution_count": 0,
      "outputs": [
        {
          "output_type": "stream",
          "text": [
            "shape: (6400, 2)\n",
            "mean: [ 0.00555942 -0.0041602 ] [-2.60679601  2.58999584]\n"
          ],
          "name": "stdout"
        },
        {
          "output_type": "display_data",
          "data": {
            "image/png": "[encoded data removed]",
            "text/plain": [
              "<Figure size 432x288 with 2 Axes>"
            ]
          },
          "metadata": {
            "tags": [],
            "needs_background": "light"
          }
        },
        {
          "output_type": "stream",
          "text": [
            "covariances\n",
            "0.26\n",
            "[0.25182517 0.25541068]\n"
          ],
          "name": "stdout"
        },
        {
          "output_type": "display_data",
          "data": {
            "image/png": "[encoded data removed]",
            "text/plain": [
              "<Figure size 432x288 with 1 Axes>"
            ]
          },
          "metadata": {
            "tags": [],
            "needs_background": "light"
          }
        },
        {
          "output_type": "display_data",
          "data": {
            "image/png": "[encoded data removed]",
            "text/plain": [
              "<Figure size 432x288 with 1 Axes>"
            ]
          },
          "metadata": {
            "tags": [],
            "needs_background": "light"
          }
        },
        {
          "output_type": "display_data",
          "data": {
            "image/png": "[encoded data removed]",
            "text/plain": [
              "<Figure size 432x288 with 1 Axes>"
            ]
          },
          "metadata": {
            "tags": [],
            "needs_background": "light"
          }
        }
      ]
    },
    {
      "cell_type": "code",
      "metadata": {
        "id": "364tQPqSC0g7",
        "colab_type": "code",
        "outputId": "ac65accb-1327-4c1e-9e07-01b8aa7ab102",
        "colab": {
          "base_uri": "https://localhost:8080/",
          "height": 35
        }
      },
      "source": [
        "# this is the KL divergence between the 'traditional' posterior and the true posterior (better way to estimate this?)\n",
        "KL_Gaussians(b_true,np.diag([(A_true**2+sigma**2),(A_true**2+sigma**2)]),np.squeeze(data), cov)"
      ],
      "execution_count": 0,
      "outputs": [
        {
          "output_type": "execute_result",
          "data": {
            "text/plain": [
              "0.5397452691619284"
            ]
          },
          "metadata": {
            "tags": []
          },
          "execution_count": 69
        }
      ]
    },
    {
      "cell_type": "markdown",
      "metadata": {
        "id": "vEQKBYwNQ0Qk",
        "colab_type": "text"
      },
      "source": [
        "#### For next week: \n",
        "- go through and ask yourself if you understand all the steps in the code above. Let me know if there's something you do not understand.\n",
        "- go through the quadratic completion that I sent. Did you get the same result? :)\n",
        "- Try to make changes to the above example:\n",
        "    - what happens if you increase the data dimensionality? (note that for our example dim(b) has to be dim(data), wil will change that in the future)\n",
        "    - what happens if you decrease the number of training samples?\n",
        "    - can you identify breaks points? If the number of training samples is less, equal, bigger or much bigger than the data dimensionality?\n",
        "    - how can we measure the discrepancy between the Gaussian that pydelfi fitted and the true distribution? Can you fit a Gaussian to the pydelfi samples? Have you heard about the KL divergence? Can you compute it for two Gaussians?\n",
        "- make sure you record/save all of your findings!"
      ]
    },
    {
      "cell_type": "markdown",
      "metadata": {
        "id": "E2u6IbbSQ0Ql",
        "colab_type": "text"
      },
      "source": [
        "#### Next steps:\n",
        "- Think of an example (and code it up), where dim(b)<dim(d), but our posterior is still Gaussian in b. Run the same tests on this example. What happens as you change dim(b) with respect to dim(d) and the number of training samples?\n",
        "- Think of and code an example where dim(signal)>dim(data). (Hint you might want to make A a fixed matrix). How does  P(b|d,A) look like if A is a matrix (hint it makes sense to also make sigma a diagonal matrix)?\n",
        "- Now look at how well pydelfi does as we increase the dimenionality of the signal.\n",
        "\n",
        "At this point we should schedule a project wide call to report our results!\n",
        "\n",
        "- Depending on what we find, we can go into several directions:\n",
        "    - we can move to non-Gaussian distributions (non gaussian in data and non-gaussian in parameters).\n",
        "    - we can try different data compression schemes (pydelfi uses score compression, this might be subpotimal, if we dont have enough data samples).\n"
      ]
    },
    {
      "cell_type": "code",
      "metadata": {
        "id": "gnbQlmRZQ0Qn",
        "colab_type": "code",
        "colab": {}
      },
      "source": [
        ""
      ],
      "execution_count": 0,
      "outputs": []
    },
    {
      "cell_type": "code",
      "metadata": {
        "id": "9f2OKDX-Q0Qy",
        "colab_type": "code",
        "colab": {}
      },
      "source": [
        ""
      ],
      "execution_count": 0,
      "outputs": []
    }
  ]
}