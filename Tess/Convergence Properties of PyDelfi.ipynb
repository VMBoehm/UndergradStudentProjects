{
 "cells": [
  {
   "cell_type": "code",
   "execution_count": 1,
   "metadata": {},
   "outputs": [],
   "source": [
    "import matplotlib.pyplot as plt\n",
    "import numpy as np"
   ]
  },
  {
   "cell_type": "markdown",
   "metadata": {},
   "source": [
    "#### Problem statement:    \n",
    "Our forward model for the data is d=Ax+n, where n is Gaussian noise, A is a prefactor, x is the underlying signal. We are interested in inferring A. x follows a standard normal distribution, n follows a Gaussian distribution with mean zero and variance sigma^2.\n",
    "\n",
    "#### Week 1:   \n",
    "Questions:\n",
    "- What is the expression for P(x)? \n",
    "- What is the expression for P(d|x) (The probability of the data given a realization of x)?\n",
    "- How do we compute P(A|d)? (Hint: Bayesian theorem and marginalization)\n",
    "- Can you find the actual expression for P(A|d)?\n",
    "- How does PyDelfi compute P(A|d)?\n",
    "\n",
    "Coding:  \n",
    "- write a function that generates realizations of 'x'. (for now x, n and d are just scalars)\n",
    "- write a function that generates realizations of 'n'.\n",
    "- write a function that calls these two functions to generate data.\n",
    "- Generate many (N=1000) realizations of the data and plot the distribution.\n",
    "\n",
    "\n",
    "#### Week 2: \n",
    "We now add another parameter to the forward model d = Ax+b+n.   \n",
    "Questions:\n",
    "- What is P(A,b|d), what is P(A|d)? (expressions)\n",
    "- What would a Fisher analysis give you? (A Fisher analysis is when you aproximate P(A,b|d) as a Gaussian, with mean= max_a,b(P(A,b|d) and covariance_ij=partial_i partial_j P(A,b|d), where (i,j) are indices that run through the parameters (a,b))\n",
    "\n",
    "Coding:\n",
    "- Run PyDelfi on the problem. How does the result compare to the exact expression?\n",
    "- Sample the distribution and run a Kernel Density Estimation (KDE) on it. \n",
    "\n",
    "#### Week 3:\n",
    "We now move to higher dimensional data. dim(x)=dim(n)=dim(d)=M. Remember, we have two numbers here: the dimensionality M and the number of realizations N.\n",
    "\n",
    "Coding:\n",
    "- Run PyDelfi on our vanilla problem for N<<M, N<M, N=M, N>M, N>>M. Choose M = 10,50. What do you observe?\n",
    "- Do the same thing, but increase the number of parameters that you want to determine, e.g. make A a diagonal matrix with M entries, and you want to determine each of these entries.\n",
    "- How does sampling+KDE scale here?\n",
    "\n"
   ]
  },
  {
   "cell_type": "code",
   "execution_count": null,
   "metadata": {},
   "outputs": [],
   "source": []
  }
 ],
 "metadata": {
  "kernelspec": {
   "display_name": "Python 3",
   "language": "python",
   "name": "python3"
  },
  "language_info": {
   "codemirror_mode": {
    "name": "ipython",
    "version": 3
   },
   "file_extension": ".py",
   "mimetype": "text/x-python",
   "name": "python",
   "nbconvert_exporter": "python",
   "pygments_lexer": "ipython3",
   "version": "3.7.4"
  }
 },
 "nbformat": 4,
 "nbformat_minor": 2
}
