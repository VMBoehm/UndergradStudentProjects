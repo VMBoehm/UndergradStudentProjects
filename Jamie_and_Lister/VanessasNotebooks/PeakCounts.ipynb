{
 "cells": [
  {
   "cell_type": "markdown",
   "metadata": {
    "colab_type": "text",
    "id": "view-in-github"
   },
   "source": [
    "<a href=\"https://colab.research.google.com/github/VMBoehm/UndergradStudentProjects/blob/master/Jamie_and_Lister/VanessasNotebooks/PeakCounts.ipynb\" target=\"_parent\"><img src=\"https://colab.research.google.com/assets/colab-badge.svg\" alt=\"Open In Colab\"/></a>"
   ]
  },
  {
   "cell_type": "markdown",
   "metadata": {
    "colab_type": "text",
    "id": "0WMeoMlSGZZQ"
   },
   "source": [
    "# applying our methods to lensing convergence peak counts"
   ]
  },
  {
   "cell_type": "code",
   "execution_count": 15,
   "metadata": {
    "colab": {},
    "colab_type": "code",
    "id": "cAdh2R-2GZZS"
   },
   "outputs": [],
   "source": [
    "import numpy as np\n",
    "import pickle\n",
    "import matplotlib.pyplot as plt"
   ]
  },
  {
   "cell_type": "code",
   "execution_count": 82,
   "metadata": {},
   "outputs": [],
   "source": [
    "from matplotlib import rc\n",
    "rc('font',**{'family':'sans-serif','sans-serif':['Helvetica'],'size':18})\n",
    "\n",
    "\n",
    "rc('text', usetex=True)"
   ]
  },
  {
   "cell_type": "code",
   "execution_count": 70,
   "metadata": {
    "colab": {},
    "colab_type": "code",
    "id": "py9yvEKmG7De"
   },
   "outputs": [],
   "source": [
    "\n",
    "datapath='../data/'\n"
   ]
  },
  {
   "cell_type": "markdown",
   "metadata": {},
   "source": [
    "### the paper: https://arxiv.org/pdf/1810.01781.pdf"
   ]
  },
  {
   "cell_type": "markdown",
   "metadata": {
    "colab_type": "text",
    "id": "zHYs33i5GZZV"
   },
   "source": [
    "### load the data"
   ]
  },
  {
   "cell_type": "code",
   "execution_count": 71,
   "metadata": {
    "colab": {},
    "colab_type": "code",
    "id": "nQpuWfzIHCyT"
   },
   "outputs": [],
   "source": [
    "# these are the peaks counts\n",
    "data_scaled = np.load(datapath+'peakcnts_lhc.scaled.npy',allow_pickle=True)\n",
    "# these are the cosmo params\n",
    "cosmo_params = np.load(datapath+'params.npy')\n",
    "# this is the covariance for the likleihood\n",
    "covariance = np.load(datapath+'covariance.npy',allow_pickle=True)"
   ]
  },
  {
   "cell_type": "code",
   "execution_count": 72,
   "metadata": {},
   "outputs": [
    {
     "data": {
      "text/plain": [
       "(101, 9999, 50)"
      ]
     },
     "execution_count": 72,
     "metadata": {},
     "output_type": "execute_result"
    }
   ],
   "source": [
    "# 101 cosmologies, 10000 simulations per cosmology, 50 density bins (levels of 'flooding')\n",
    "data_scaled.shape"
   ]
  },
  {
   "cell_type": "code",
   "execution_count": 73,
   "metadata": {},
   "outputs": [
    {
     "data": {
      "image/png": "[encoded data removed]",
      "text/plain": [
       "<Figure size 432x288 with 1 Axes>"
      ]
     },
     "metadata": {
      "needs_background": "light"
     },
     "output_type": "display_data"
    }
   ],
   "source": [
    "# this is what the data looks like for 2 different cosmologies\n",
    "plt.plot(data_scaled[40,0:100,:].T)\n",
    "plt.plot(data_scaled[44,0:100,:].T)\n",
    "plt.show()"
   ]
  },
  {
   "cell_type": "markdown",
   "metadata": {},
   "source": [
    "### The data"
   ]
  },
  {
   "cell_type": "code",
   "execution_count": 74,
   "metadata": {},
   "outputs": [
    {
     "name": "stdout",
     "output_type": "stream",
     "text": [
      "[0.124  0.3028 2.3174]\n"
     ]
    }
   ],
   "source": [
    "# We pick a realization at a specific cosmology to be our data (you can change this!)\n",
    "# right now we choose a cosmology which is fairly close to the fiducial one (see below)\n",
    "index = 54\n",
    "data  = data_scaled[index][0]\n",
    "true_params = cosmo_params[index]\n",
    "print(true_params)"
   ]
  },
  {
   "cell_type": "markdown",
   "metadata": {
    "colab_type": "text",
    "id": "t587YJ6QGZZh"
   },
   "source": [
    "### Covariance Matrix"
   ]
  },
  {
   "cell_type": "code",
   "execution_count": 75,
   "metadata": {
    "colab": {},
    "colab_type": "code",
    "id": "fFdi_Vn7GZZi"
   },
   "outputs": [],
   "source": [
    "# compute covariance from covariance sims\n",
    "Cinv = np.linalg.inv(covariance)"
   ]
  },
  {
   "cell_type": "code",
   "execution_count": 78,
   "metadata": {},
   "outputs": [
    {
     "name": "stdout",
     "output_type": "stream",
     "text": [
      "[0.1 0.3 2.1]\n"
     ]
    }
   ],
   "source": [
    "# these are the fiducial parameter, i.e. the parameters the covariance was measured at \n",
    "fid_params = np.load(datapath+'theta.fid.npy',allow_pickle=True)\n",
    "print(fid_params)\n",
    "labels =[r'$m_\\mu$',r'$\\Omega_m$',r'$A_s$']"
   ]
  },
  {
   "cell_type": "markdown",
   "metadata": {},
   "source": [
    "### Constructing the data likelihood"
   ]
  },
  {
   "cell_type": "code",
   "execution_count": 23,
   "metadata": {
    "colab": {
     "base_uri": "https://localhost:8080/",
     "height": 35
    },
    "colab_type": "code",
    "id": "GOYnkJ-lGZZY",
    "outputId": "206646ae-e82c-4545-8372-f46a084ef8c6"
   },
   "outputs": [],
   "source": [
    "# average over all simulations for each cosmology\n",
    "means      = np.mean(data_scaled, axis=1)"
   ]
  },
  {
   "cell_type": "markdown",
   "metadata": {
    "colab_type": "text",
    "id": "sApfK474GZZn"
   },
   "source": [
    "#### Forward Model: Gaussian process interpolation of  means"
   ]
  },
  {
   "cell_type": "code",
   "execution_count": 24,
   "metadata": {
    "colab": {},
    "colab_type": "code",
    "id": "lXPnyXxHGZZo"
   },
   "outputs": [],
   "source": [
    "# A Gaussian process is a regression model, it learns to map x-> f(x) from some training data. \n",
    "# In our case x are the cosmological parameters and f(x) are the peak counts\n",
    "\n",
    "import sklearn\n",
    "from sklearn.gaussian_process import GaussianProcessRegressor\n",
    "from sklearn.gaussian_process.kernels import RBF, ConstantKernel as C\n",
    "\n",
    "\n",
    "kernel = C(1.0, (1e-4, 1e4)) * RBF(1, (1e-4, 1e4))\n",
    "#Instanciate a Gaussian Process model\n",
    "gp     = GaussianProcessRegressor(kernel=kernel, n_restarts_optimizer=10)\n",
    "\n",
    "\n",
    "# fit on means and parameters\n",
    "gp.fit(cosmo_params,means)\n",
    "\n",
    "#use the GP prediction to build the model\n",
    "def fwdmodel(theta):\n",
    "    pred, stdev = gp.predict(np.array(theta).reshape(1,3),return_std=True)\n",
    "    return np.squeeze(pred.T)\n",
    "\n",
    "\n"
   ]
  },
  {
   "cell_type": "code",
   "execution_count": 25,
   "metadata": {
    "colab": {
     "base_uri": "https://localhost:8080/",
     "height": 283
    },
    "colab_type": "code",
    "id": "fn1uKx-F3Lbq",
    "outputId": "9c1b680b-00d4-46ba-afbe-fc8395efb3d5"
   },
   "outputs": [
    {
     "data": {
      "image/png": "[encoded data removed]",
      "text/plain": [
       "<Figure size 432x288 with 1 Axes>"
      ]
     },
     "metadata": {
      "needs_background": "light"
     },
     "output_type": "display_data"
    }
   ],
   "source": [
    "# Check how well the Gaussian process is doing\n",
    "\n",
    "plt.plot(fwdmodel(fid_params), label='mean at fiducial')\n",
    "plt.plot(fwdmodel(fid_params*1.01), label= 'fiducial+1%')\n",
    "plt.plot(fwdmodel(true_params), label='mean at truth')\n",
    "plt.plot(data, label='data')\n",
    "plt.legend()\n",
    "plt.show()"
   ]
  },
  {
   "cell_type": "code",
   "execution_count": 37,
   "metadata": {
    "colab": {},
    "colab_type": "code",
    "id": "ChPG_BOAGZZq"
   },
   "outputs": [],
   "source": [
    "# likelihood\n",
    "# We assume a Gaussian likelihood for the peak counts. \n",
    "# Can you think of reasons why this is a reasonable assumption?\n",
    "# Hint: Peak counts are a binned statistic (a sum of a random number)\n",
    "\n",
    "def log_likelihood(data, params):\n",
    "    mu  = fwdmodel(params)\n",
    "    x   = data - mu\n",
    "    # linalg.slogdet is numerically more stable than np.log(linalg.det())\n",
    "    _, logdet = np.linalg.slogdet(Cinv)\n",
    "    x   = np.squeeze(x)\n",
    "    logp= -0.5*np.dot(np.dot(x, Cinv),x)+0.5*logdet-0.5*len(x)*np.log(2*np.pi)\n",
    "    return np.squeeze(logp)"
   ]
  },
  {
   "cell_type": "code",
   "execution_count": 88,
   "metadata": {},
   "outputs": [],
   "source": [
    "def log_prior(params, params_fid):\n",
    "    sigma = np.sqrt(params_fid*10)\n",
    "    Cinv  = np.diag(1./sigma**2)\n",
    "    _, logdet = np.linalg.slogdet(Cinv)\n",
    "    x = params-params_fid\n",
    "    log_prior = -0.5*np.dot(np.dot(x, Cinv),x)+0.5*logdet-0.5*len(x)*np.log(2*np.pi)\n",
    "    return log_prior"
   ]
  },
  {
   "cell_type": "code",
   "execution_count": 57,
   "metadata": {},
   "outputs": [
    {
     "name": "stdout",
     "output_type": "stream",
     "text": [
      "426.4627767277797\n",
      "4.151078130383086\n",
      "430.6159924922331\n"
     ]
    }
   ],
   "source": [
    "# check if output makes sense\n",
    "print(-log_likelihood(data,true_params))\n",
    "print(-log_prior(fid_params,fid_params))\n",
    "print(-log_prior(true_params,fid_params)-likelihood(data,true_params))"
   ]
  },
  {
   "cell_type": "markdown",
   "metadata": {},
   "source": [
    "### posterior"
   ]
  },
  {
   "cell_type": "code",
   "execution_count": 58,
   "metadata": {
    "colab": {},
    "colab_type": "code",
    "id": "wEZqNtDt0_tL"
   },
   "outputs": [],
   "source": [
    "neglogpost = lambda x: -log_likelihood(data, x)-log_prior(x,fid_params)"
   ]
  },
  {
   "cell_type": "markdown",
   "metadata": {},
   "source": [
    "### derivatives"
   ]
  },
  {
   "cell_type": "code",
   "execution_count": 59,
   "metadata": {
    "colab": {},
    "colab_type": "code",
    "id": "DaxVztXG4RSh"
   },
   "outputs": [],
   "source": [
    "import numdifftools as nd\n",
    "# gradient\n",
    "grad = nd.Gradient(neglogpost)\n",
    "# hessian\n",
    "hess = nd.Hessian(neglogpost)"
   ]
  },
  {
   "cell_type": "markdown",
   "metadata": {},
   "source": [
    "### find minima"
   ]
  },
  {
   "cell_type": "code",
   "execution_count": 95,
   "metadata": {
    "colab": {
     "base_uri": "https://localhost:8080/",
     "height": 1000
    },
    "colab_type": "code",
    "id": "NaYQZ-0VGZZt",
    "outputId": "710fe96d-7180-4c31-fa9d-abae71c5908b"
   },
   "outputs": [
    {
     "name": "stdout",
     "output_type": "stream",
     "text": [
      "0\n",
      "minimum found\n",
      "1\n",
      "2\n",
      "minimum found\n",
      "3\n",
      "minimum found\n",
      "4\n",
      "minimum found\n",
      "5\n",
      "minimum found\n",
      "6\n",
      "minimum found\n",
      "7\n",
      "minimum found\n",
      "8\n",
      "minimum found\n",
      "9\n",
      "minimum found\n"
     ]
    }
   ],
   "source": [
    "import warnings\n",
    "from scipy.optimize import minimize\n",
    "\n",
    "log_posts = [] \n",
    "param_ests= []\n",
    "with warnings.catch_warnings(record=True):\n",
    "    for jj, theta_ini in enumerate(np.sqrt(fid_params*10)*np.random.randn(10,3)+fid_params):\n",
    "        print(jj)\n",
    "        for method in ['Nelder-Mead']:#,'Nelder-Mead','Powell','CG','BFGS','Newton-CG','L-BFGS-B','TNC','COBYLA','SLSQP','trust-constr','dogleg','trust-ncg','trust-exact','trust-krylov']:\n",
    "            res = minimize(neglogpost,theta_ini,jac=grad,hess=hess,method=method)\n",
    "            if res['success']:\n",
    "                sign,_ = np.linalg.slogdet(hess(res['x']))\n",
    "                if sign >0:\n",
    "                    log_posts.append(neglogpost(res['x']))\n",
    "                    param_ests.append(res['x'])\n",
    "                    print('minimum found')\n",
    "param_ests= np.asarray(param_ests)\n",
    "log_posts= np.asarray(log_posts)"
   ]
  },
  {
   "cell_type": "code",
   "execution_count": 96,
   "metadata": {},
   "outputs": [
    {
     "data": {
      "image/png": "[encoded data removed]",
      "text/plain": [
       "<Figure size 432x288 with 1 Axes>"
      ]
     },
     "metadata": {
      "needs_background": "light"
     },
     "output_type": "display_data"
    },
    {
     "data": {
      "image/png": "[encoded data removed]",
      "text/plain": [
       "<Figure size 432x288 with 1 Axes>"
      ]
     },
     "metadata": {
      "needs_background": "light"
     },
     "output_type": "display_data"
    },
    {
     "data": {
      "image/png": "[encoded data removed]",
      "text/plain": [
       "<Figure size 432x288 with 1 Axes>"
      ]
     },
     "metadata": {
      "needs_background": "light"
     },
     "output_type": "display_data"
    },
    {
     "data": {
      "image/png": "[encoded data removed]",
      "text/plain": [
       "<Figure size 432x288 with 1 Axes>"
      ]
     },
     "metadata": {
      "needs_background": "light"
     },
     "output_type": "display_data"
    }
   ],
   "source": [
    "# did they all land in the same minimum?\n",
    "index       = np.argsort((log_posts))\n",
    "plt.title('Minima')\n",
    "plt.plot(log_posts[index],ls='', marker='o')\n",
    "plt.ylabel('value of neg log posterior')\n",
    "plt.show()\n",
    "\n",
    "for ii in range(param_ests.shape[-1]):\n",
    "    if ii==2:\n",
    "        plt.scatter(param_ests[index,ii],param_ests[index,0])\n",
    "        plt.xlabel(labels[ii])\n",
    "        plt.ylabel(labels[0])\n",
    "    else:\n",
    "        plt.scatter(param_ests[index,ii],param_ests[index,ii+1])\n",
    "        plt.xlabel(labels[ii])\n",
    "        plt.ylabel(labels[ii+1])\n",
    "    plt.show()\n",
    "# parameters are pretty much all over the place"
   ]
  },
  {
   "cell_type": "code",
   "execution_count": 97,
   "metadata": {
    "colab": {},
    "colab_type": "code",
    "id": "p4rAUaQo-5b7"
   },
   "outputs": [
    {
     "name": "stdout",
     "output_type": "stream",
     "text": [
      "431.2999625534561\n",
      "[0.13926462 0.26785645 2.15690184] [0.124  0.3028 2.3174] [0.1 0.3 2.1]\n"
     ]
    }
   ],
   "source": [
    "### let's look at the lowest minimum\n",
    "index       = np.argsort((log_posts))\n",
    "print(log_posts[index[0]])\n",
    "best_params = param_ests[index[0]]\n",
    "print(best_params, true_params, fid_params)"
   ]
  },
  {
   "cell_type": "code",
   "execution_count": 98,
   "metadata": {
    "colab": {
     "base_uri": "https://localhost:8080/",
     "height": 283
    },
    "colab_type": "code",
    "id": "rjcmsnQ54sVm",
    "outputId": "0d7d0530-0bee-4e78-e470-4b1ed7573d26"
   },
   "outputs": [
    {
     "data": {
      "text/plain": [
       "[<matplotlib.lines.Line2D at 0x7f54a9d50e10>]"
      ]
     },
     "execution_count": 98,
     "metadata": {},
     "output_type": "execute_result"
    },
    {
     "data": {
      "image/png": "[encoded data removed]",
      "text/plain": [
       "<Figure size 432x288 with 1 Axes>"
      ]
     },
     "metadata": {
      "needs_background": "light"
     },
     "output_type": "display_data"
    }
   ],
   "source": [
    "plt.plot(data)\n",
    "plt.plot(fwdmodel(best_params))"
   ]
  },
  {
   "cell_type": "code",
   "execution_count": 99,
   "metadata": {},
   "outputs": [
    {
     "data": {
      "image/png": "[encoded data removed]",
      "text/plain": [
       "<Figure size 432x288 with 1 Axes>"
      ]
     },
     "metadata": {
      "needs_background": "light"
     },
     "output_type": "display_data"
    }
   ],
   "source": [
    "# let's look at all minima:\n",
    "plt.plot(data)\n",
    "for ii in range(len(param_ests)):\n",
    "    plt.plot(fwdmodel(param_ests[ii]))\n",
    "    plt.plot(data)\n",
    "## all of them seem to be consistent with the data!"
   ]
  },
  {
   "cell_type": "code",
   "execution_count": 101,
   "metadata": {},
   "outputs": [],
   "source": [
    "def log_Gaussian(x,mu,cov):\n",
    "    mu   = fwdmodel(params)\n",
    "    x    = x - mu\n",
    "    Cinv = np.linalg.inv(cov)\n",
    "    _, logdet = np.linalg.slogdet(Cinv)\n",
    "    logp = -0.5*np.dot(np.dot(x, Cinv),x)+0.5*logdet-0.5*len(x)*np.log(2*np.pi)\n",
    "    return logp"
   ]
  },
  {
   "cell_type": "markdown",
   "metadata": {},
   "source": [
    "### Task: use the log_Gaussian function, the parameters at the lowest minimum and the hessian around this minimum to build your approximation to the posterior as we did in the other example."
   ]
  },
  {
   "cell_type": "code",
   "execution_count": null,
   "metadata": {},
   "outputs": [],
   "source": []
  }
 ],
 "metadata": {
  "colab": {
   "collapsed_sections": [],
   "include_colab_link": true,
   "name": "UpgradeLFI_hack-scaled-subsample-score-compression.ipynb",
   "provenance": []
  },
  "kernelspec": {
   "display_name": "fwdmodel",
   "language": "python",
   "name": "fwdmodel"
  },
  "language_info": {
   "codemirror_mode": {
    "name": "ipython",
    "version": 3
   },
   "file_extension": ".py",
   "mimetype": "text/x-python",
   "name": "python",
   "nbconvert_exporter": "python",
   "pygments_lexer": "ipython3",
   "version": "3.7.4"
  }
 },
 "nbformat": 4,
 "nbformat_minor": 1
}
