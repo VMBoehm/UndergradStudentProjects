{
 "cells": [
  {
   "cell_type": "markdown",
   "metadata": {
    "colab_type": "text",
    "id": "view-in-github"
   },
   "source": [
    "<a href=\"https://colab.research.google.com/github/VMBoehm/UndergradStudentProjects/blob/master/Jamie_and_Lister/VanessasNotebooks/PeakCounts.ipynb\" target=\"_parent\"><img src=\"https://colab.research.google.com/assets/colab-badge.svg\" alt=\"Open In Colab\"/></a>"
   ]
  },
  {
   "cell_type": "markdown",
   "metadata": {
    "colab_type": "text",
    "id": "0WMeoMlSGZZQ"
   },
   "source": [
    "# applying our methods to lensing convergence peak counts"
   ]
  },
  {
   "cell_type": "code",
   "execution_count": 1,
   "metadata": {
    "colab": {},
    "colab_type": "code",
    "id": "cAdh2R-2GZZS"
   },
   "outputs": [],
   "source": [
    "import numpy as np\n",
    "import pickle\n",
    "import matplotlib.pyplot as plt"
   ]
  },
  {
   "cell_type": "code",
   "execution_count": 2,
   "metadata": {
    "colab": {},
    "colab_type": "code",
    "id": "py9yvEKmG7De"
   },
   "outputs": [],
   "source": [
    "\n",
    "datapath='../data/'\n"
   ]
  },
  {
   "cell_type": "markdown",
   "metadata": {
    "colab_type": "text",
    "id": "zHYs33i5GZZV"
   },
   "source": [
    "### load the data"
   ]
  },
  {
   "cell_type": "code",
   "execution_count": 3,
   "metadata": {
    "colab": {},
    "colab_type": "code",
    "id": "nQpuWfzIHCyT"
   },
   "outputs": [],
   "source": [
    "data_scaled = np.load(datapath+'peakcnts_lhc.scaled.npy',allow_pickle=True)\n",
    "cosmo_params = np.load(datapath+'params.npy')\n",
    "covariance = np.load(datapath+'covariance.npy',allow_pickle=True)"
   ]
  },
  {
   "cell_type": "code",
   "execution_count": 39,
   "metadata": {},
   "outputs": [
    {
     "data": {
      "text/plain": [
       "(101, 9999, 50)"
      ]
     },
     "execution_count": 39,
     "metadata": {},
     "output_type": "execute_result"
    }
   ],
   "source": [
    "data_scaled.shape"
   ]
  },
  {
   "cell_type": "code",
   "execution_count": 42,
   "metadata": {},
   "outputs": [
    {
     "data": {
      "image/png": "[encoded data removed]",
      "text/plain": [
       "<Figure size 432x288 with 1 Axes>"
      ]
     },
     "metadata": {
      "needs_background": "light"
     },
     "output_type": "display_data"
    }
   ],
   "source": [
    "plt.plot(data_scaled[40,0:100,:].T)\n",
    "plt.plot(data_scaled[44,0:100,:].T)\n",
    "plt.show()"
   ]
  },
  {
   "cell_type": "code",
   "execution_count": 4,
   "metadata": {
    "colab": {
     "base_uri": "https://localhost:8080/",
     "height": 35
    },
    "colab_type": "code",
    "id": "GOYnkJ-lGZZY",
    "outputId": "206646ae-e82c-4545-8372-f46a084ef8c6"
   },
   "outputs": [],
   "source": [
    "means = np.mean(data_scaled, axis=1)"
   ]
  },
  {
   "cell_type": "code",
   "execution_count": 5,
   "metadata": {},
   "outputs": [],
   "source": [
    "fid_params = np.load(datapath+'theta.fid.npy',allow_pickle=True)"
   ]
  },
  {
   "cell_type": "code",
   "execution_count": 6,
   "metadata": {},
   "outputs": [
    {
     "name": "stdout",
     "output_type": "stream",
     "text": [
      "[0.41504 0.3097  2.3486 ]\n"
     ]
    }
   ],
   "source": [
    "index = 55\n",
    "data  = data_scaled[index][0]\n",
    "true_params = cosmo_params[index]\n",
    "print(true_params)"
   ]
  },
  {
   "cell_type": "code",
   "execution_count": 29,
   "metadata": {},
   "outputs": [
    {
     "data": {
      "text/plain": [
       "array([  422.63443438,   627.17921939,   915.61574727,  1295.38198784,\n",
       "        1775.66157106,  2349.76998717,  3092.96851238,  3991.80893946,\n",
       "        5076.74537642,  6163.37739276,  7332.17063374,  8575.51826722,\n",
       "        9860.35061095, 11332.58326042, 12390.42996868, 13429.73357219,\n",
       "       14311.04987402, 15081.83888297, 15477.21007133, 15586.26187853,\n",
       "       15572.94526727, 15716.62726201, 15365.37615507, 14692.96820015,\n",
       "       14013.73482947, 13181.37847406, 12417.44516468, 11364.34864681,\n",
       "       10458.89824266,  9480.50751018,  8692.53442811,  7727.36597727,\n",
       "        6949.02254444,  6099.64281882,  5469.32980071,  4887.01714029,\n",
       "        4349.51397556,  3917.0589052 ,  3425.55773301,  2922.37613815,\n",
       "        2594.08643363,  2212.15063808,  1930.40094747,  1678.85731486,\n",
       "        1510.49388639,  1299.07127736,  1160.39568242,  1005.77276006,\n",
       "         865.29211421,   770.9846507 ])"
      ]
     },
     "execution_count": 29,
     "metadata": {},
     "output_type": "execute_result"
    }
   ],
   "source": [
    "data"
   ]
  },
  {
   "cell_type": "markdown",
   "metadata": {
    "colab_type": "text",
    "id": "t587YJ6QGZZh"
   },
   "source": [
    "### Covariance Matrix"
   ]
  },
  {
   "cell_type": "code",
   "execution_count": 7,
   "metadata": {
    "colab": {},
    "colab_type": "code",
    "id": "fFdi_Vn7GZZi"
   },
   "outputs": [],
   "source": [
    "# compute covariance from covariance sims\n",
    "Cinv = np.linalg.inv(covariance)"
   ]
  },
  {
   "cell_type": "markdown",
   "metadata": {
    "colab_type": "text",
    "id": "sApfK474GZZn"
   },
   "source": [
    "### Gaussian process interpolation of (precompressed) data"
   ]
  },
  {
   "cell_type": "code",
   "execution_count": 8,
   "metadata": {
    "colab": {},
    "colab_type": "code",
    "id": "lXPnyXxHGZZo"
   },
   "outputs": [],
   "source": [
    "import sklearn\n",
    "from sklearn.gaussian_process import GaussianProcessRegressor\n",
    "from sklearn.gaussian_process.kernels import RBF, ConstantKernel as C\n",
    "\n",
    "\n",
    "kernel = C(1.0, (1e-4, 1e4)) * RBF(1, (1e-4, 1e4))\n",
    "#Instanciate a Gaussian Process model\n",
    "gp     = GaussianProcessRegressor(kernel=kernel, n_restarts_optimizer=10)\n",
    "\n",
    "\n",
    "# fit on averages of full rescaled set\n",
    "gp.fit(cosmo_params,means)\n",
    "\n",
    "#use the GP prediction to build the model\n",
    "def fwdmodel(theta):\n",
    "    pred, stdev = gp.predict(np.array(theta).reshape(1,3),return_std=True)\n",
    "    return np.squeeze(pred.T)\n",
    "\n",
    "# compute derivative of mean at fiducial model with finite differencing\n"
   ]
  },
  {
   "cell_type": "code",
   "execution_count": 30,
   "metadata": {
    "colab": {},
    "colab_type": "code",
    "id": "ChPG_BOAGZZq"
   },
   "outputs": [],
   "source": [
    "# likelihood\n",
    "def likelihood(data, params):\n",
    "    mu  = fwdmodel(params)\n",
    "    x   = data - mu\n",
    "    logp= -0.5*np.dot(np.dot(x, Cinv),x)#+0.5*np.log(np.linalg.det(Cinv))-0.5*np.log(2*np.pi)\n",
    "    return np.squeeze(logp)"
   ]
  },
  {
   "cell_type": "code",
   "execution_count": null,
   "metadata": {
    "colab": {},
    "colab_type": "code",
    "id": "f1yyIsj5yzZ9"
   },
   "outputs": [],
   "source": [
    "# posterior= prior*likelihood\n",
    "# add a prior\n",
    "\n"
   ]
  },
  {
   "cell_type": "code",
   "execution_count": 31,
   "metadata": {
    "colab": {
     "base_uri": "https://localhost:8080/",
     "height": 283
    },
    "colab_type": "code",
    "id": "fn1uKx-F3Lbq",
    "outputId": "9c1b680b-00d4-46ba-afbe-fc8395efb3d5"
   },
   "outputs": [
    {
     "data": {
      "text/plain": [
       "<matplotlib.legend.Legend at 0x7fb55cab4e90>"
      ]
     },
     "execution_count": 31,
     "metadata": {},
     "output_type": "execute_result"
    },
    {
     "data": {
      "image/png": "[encoded data removed]",
      "text/plain": [
       "<Figure size 432x288 with 1 Axes>"
      ]
     },
     "metadata": {
      "needs_background": "light"
     },
     "output_type": "display_data"
    }
   ],
   "source": [
    "plt.plot(fwdmodel(fid_params), label='mean at fiducial')\n",
    "plt.plot(fwdmodel(fid_params*1.01), label= 'fiducial+1%')\n",
    "plt.plot(fwdmodel(true_params), label='mean at truth')\n",
    "plt.plot(data, label='data')\n",
    "plt.legend()"
   ]
  },
  {
   "cell_type": "code",
   "execution_count": 32,
   "metadata": {
    "colab": {},
    "colab_type": "code",
    "id": "wEZqNtDt0_tL"
   },
   "outputs": [],
   "source": [
    "neglogpost = lambda x: -likelihood(data, x)"
   ]
  },
  {
   "cell_type": "code",
   "execution_count": 33,
   "metadata": {
    "colab": {},
    "colab_type": "code",
    "id": "DaxVztXG4RSh"
   },
   "outputs": [],
   "source": [
    "import numdifftools as nd"
   ]
  },
  {
   "cell_type": "code",
   "execution_count": 34,
   "metadata": {
    "colab": {},
    "colab_type": "code",
    "id": "DMG74zlB4Zjg"
   },
   "outputs": [],
   "source": [
    "grad = nd.Gradient(neglogpost)"
   ]
  },
  {
   "cell_type": "code",
   "execution_count": 35,
   "metadata": {
    "colab": {},
    "colab_type": "code",
    "id": "GS2RSTEq4d0s"
   },
   "outputs": [],
   "source": [
    "hess = nd.Hessian(neglogpost)"
   ]
  },
  {
   "cell_type": "code",
   "execution_count": 36,
   "metadata": {
    "colab": {},
    "colab_type": "code",
    "id": "yNb8BGyfy_j_"
   },
   "outputs": [],
   "source": [
    "def derivative(params):\n",
    "    delta_params=0.001*fid_params\n",
    "    deriv = np.zeros(len(params))\n",
    "    for ii in range(len(params)):\n",
    "        deltas = np.zeros(len(params))\n",
    "        deltas[ii]+=delta_params[ii]\n",
    "        deriv[ii] = (neglogpost(params+deltas)-neglogpost(params-deltas))/(2*delta_params[ii])\n",
    "    return deriv"
   ]
  },
  {
   "cell_type": "code",
   "execution_count": 37,
   "metadata": {
    "colab": {
     "base_uri": "https://localhost:8080/",
     "height": 53
    },
    "colab_type": "code",
    "id": "bSkQ-yPv19tD",
    "outputId": "6c9d86fc-5ac2-44f8-b2c0-8675923daf18"
   },
   "outputs": [
    {
     "data": {
      "text/plain": [
       "(array([ 0.57586184, -0.03298548,  1.09513708]),\n",
       " array([ 0.57610767, -0.03447856,  1.87808741]))"
      ]
     },
     "execution_count": 37,
     "metadata": {},
     "output_type": "execute_result"
    }
   ],
   "source": [
    "grad(true_params), derivative(true_params)"
   ]
  },
  {
   "cell_type": "code",
   "execution_count": 158,
   "metadata": {
    "colab": {
     "base_uri": "https://localhost:8080/",
     "height": 1000
    },
    "colab_type": "code",
    "id": "NaYQZ-0VGZZt",
    "outputId": "710fe96d-7180-4c31-fa9d-abae71c5908b"
   },
   "outputs": [
    {
     "name": "stdout",
     "output_type": "stream",
     "text": [
      "[ 0.29216898 -0.24259243  2.30772382]\n",
      "Powell 0.03370247919753608\n",
      "[-0.53346392  1.07019946  0.02602707]\n",
      "Powell 33.94867904728181\n",
      "[0.52270522 0.78504397 3.10765817]\n"
     ]
    },
    {
     "name": "stderr",
     "output_type": "stream",
     "text": [
      "/usr/local/lib/python3.6/dist-packages/scipy/optimize/_minimize.py:506: RuntimeWarning: Method Powell does not use gradient information (jac).\n",
      "  RuntimeWarning)\n",
      "/usr/local/lib/python3.6/dist-packages/scipy/optimize/_minimize.py:511: RuntimeWarning: Method Powell does not use Hessian information (hess).\n",
      "  RuntimeWarning)\n",
      "/usr/local/lib/python3.6/dist-packages/scipy/optimize/_minimize.py:506: RuntimeWarning: Method Powell does not use gradient information (jac).\n",
      "  RuntimeWarning)\n",
      "/usr/local/lib/python3.6/dist-packages/scipy/optimize/_minimize.py:511: RuntimeWarning: Method Powell does not use Hessian information (hess).\n",
      "  RuntimeWarning)\n",
      "/usr/local/lib/python3.6/dist-packages/scipy/optimize/_minimize.py:506: RuntimeWarning: Method Powell does not use gradient information (jac).\n",
      "  RuntimeWarning)\n",
      "/usr/local/lib/python3.6/dist-packages/scipy/optimize/_minimize.py:511: RuntimeWarning: Method Powell does not use Hessian information (hess).\n",
      "  RuntimeWarning)\n"
     ]
    },
    {
     "name": "stdout",
     "output_type": "stream",
     "text": [
      "Powell 0.020701571927158696\n",
      "[ 0.21653883  0.92299313 -0.10584775]\n",
      "Powell 39.65814215672481\n",
      "[ 0.0136755  -0.17375627  0.60340296]\n"
     ]
    },
    {
     "name": "stderr",
     "output_type": "stream",
     "text": [
      "/usr/local/lib/python3.6/dist-packages/scipy/optimize/_minimize.py:506: RuntimeWarning: Method Powell does not use gradient information (jac).\n",
      "  RuntimeWarning)\n",
      "/usr/local/lib/python3.6/dist-packages/scipy/optimize/_minimize.py:511: RuntimeWarning: Method Powell does not use Hessian information (hess).\n",
      "  RuntimeWarning)\n",
      "/usr/local/lib/python3.6/dist-packages/scipy/optimize/_minimize.py:506: RuntimeWarning: Method Powell does not use gradient information (jac).\n",
      "  RuntimeWarning)\n",
      "/usr/local/lib/python3.6/dist-packages/scipy/optimize/_minimize.py:511: RuntimeWarning: Method Powell does not use Hessian information (hess).\n",
      "  RuntimeWarning)\n"
     ]
    },
    {
     "name": "stdout",
     "output_type": "stream",
     "text": [
      "Powell 0.03377883583456115\n",
      "[-0.43702737  0.0990827   1.62911691]\n",
      "Powell 0.11326632832565463\n",
      "[0.47143827 0.87576294 2.96016304]\n"
     ]
    },
    {
     "name": "stderr",
     "output_type": "stream",
     "text": [
      "/usr/local/lib/python3.6/dist-packages/scipy/optimize/_minimize.py:506: RuntimeWarning: Method Powell does not use gradient information (jac).\n",
      "  RuntimeWarning)\n",
      "/usr/local/lib/python3.6/dist-packages/scipy/optimize/_minimize.py:511: RuntimeWarning: Method Powell does not use Hessian information (hess).\n",
      "  RuntimeWarning)\n",
      "/usr/local/lib/python3.6/dist-packages/scipy/optimize/_minimize.py:506: RuntimeWarning: Method Powell does not use gradient information (jac).\n",
      "  RuntimeWarning)\n",
      "/usr/local/lib/python3.6/dist-packages/scipy/optimize/_minimize.py:511: RuntimeWarning: Method Powell does not use Hessian information (hess).\n",
      "  RuntimeWarning)\n"
     ]
    },
    {
     "name": "stdout",
     "output_type": "stream",
     "text": [
      "Powell 0.020664425873722105\n",
      "[0.40136408 0.97320782 2.67746087]\n",
      "Powell 0.16682321992694893\n",
      "[-0.60274434  0.14132331  3.23786896]\n"
     ]
    },
    {
     "name": "stderr",
     "output_type": "stream",
     "text": [
      "/usr/local/lib/python3.6/dist-packages/scipy/optimize/_minimize.py:506: RuntimeWarning: Method Powell does not use gradient information (jac).\n",
      "  RuntimeWarning)\n",
      "/usr/local/lib/python3.6/dist-packages/scipy/optimize/_minimize.py:511: RuntimeWarning: Method Powell does not use Hessian information (hess).\n",
      "  RuntimeWarning)\n",
      "/usr/local/lib/python3.6/dist-packages/scipy/optimize/_minimize.py:506: RuntimeWarning: Method Powell does not use gradient information (jac).\n",
      "  RuntimeWarning)\n",
      "/usr/local/lib/python3.6/dist-packages/scipy/optimize/_minimize.py:511: RuntimeWarning: Method Powell does not use Hessian information (hess).\n",
      "  RuntimeWarning)\n"
     ]
    },
    {
     "name": "stdout",
     "output_type": "stream",
     "text": [
      "Powell 0.020735770540413923\n",
      "[-0.0173851  -0.2678118   2.11251385]\n",
      "Powell 0.0036251789026392994\n"
     ]
    },
    {
     "name": "stderr",
     "output_type": "stream",
     "text": [
      "/usr/local/lib/python3.6/dist-packages/scipy/optimize/_minimize.py:506: RuntimeWarning: Method Powell does not use gradient information (jac).\n",
      "  RuntimeWarning)\n",
      "/usr/local/lib/python3.6/dist-packages/scipy/optimize/_minimize.py:511: RuntimeWarning: Method Powell does not use Hessian information (hess).\n",
      "  RuntimeWarning)\n"
     ]
    }
   ],
   "source": [
    "from scipy.optimize import minimize\n",
    "\n",
    "log_posts = [] \n",
    "results = []\n",
    "for theta_ini in np.sqrt(theta_fiducial)*np.random.randn(10,3)+theta_fiducial:\n",
    "  print(theta_ini)\n",
    "  for method in ['Powell']:#['Nelder-Mead','Powell','CG','BFGS','Newton-CG','L-BFGS-B','TNC','COBYLA','SLSQP','trust-constr','dogleg','trust-ncg','trust-exact','trust-krylov']:\n",
    "    res = minimize(neglogpost,theta_ini,jac=grad,hess=hess,method=method)\n",
    "    log_posts.append(neglogpost(res['x']))\n",
    "    results.append(res['x'])"
   ]
  },
  {
   "cell_type": "code",
   "execution_count": 0,
   "metadata": {
    "colab": {},
    "colab_type": "code",
    "id": "p4rAUaQo-5b7"
   },
   "outputs": [],
   "source": [
    "index       = np.argsort((log_posts))\n",
    "best_params = results[index[0]]"
   ]
  },
  {
   "cell_type": "code",
   "execution_count": 163,
   "metadata": {
    "colab": {
     "base_uri": "https://localhost:8080/",
     "height": 283
    },
    "colab_type": "code",
    "id": "rjcmsnQ54sVm",
    "outputId": "0d7d0530-0bee-4e78-e470-4b1ed7573d26"
   },
   "outputs": [
    {
     "data": {
      "text/plain": [
       "[<matplotlib.lines.Line2D at 0x7ff43eabac50>]"
      ]
     },
     "execution_count": 163,
     "metadata": {
      "tags": []
     },
     "output_type": "execute_result"
    },
    {
     "data": {
      "image/png": "[encoded data removed]",
      "text/plain": [
       "<Figure size 432x288 with 1 Axes>"
      ]
     },
     "metadata": {
      "needs_background": "light",
      "tags": []
     },
     "output_type": "display_data"
    }
   ],
   "source": [
    "plt.plot(data)\n",
    "plt.plot(fwdmodel(best_params))"
   ]
  },
  {
   "cell_type": "code",
   "execution_count": 0,
   "metadata": {
    "colab": {},
    "colab_type": "code",
    "id": "kFHlosvd8Gtg"
   },
   "outputs": [],
   "source": []
  }
 ],
 "metadata": {
  "colab": {
   "collapsed_sections": [],
   "include_colab_link": true,
   "name": "UpgradeLFI_hack-scaled-subsample-score-compression.ipynb",
   "provenance": []
  },
  "kernelspec": {
   "display_name": "fwdmodel",
   "language": "python",
   "name": "fwdmodel"
  },
  "language_info": {
   "codemirror_mode": {
    "name": "ipython",
    "version": 3
   },
   "file_extension": ".py",
   "mimetype": "text/x-python",
   "name": "python",
   "nbconvert_exporter": "python",
   "pygments_lexer": "ipython3",
   "version": "3.7.4"
  }
 },
 "nbformat": 4,
 "nbformat_minor": 1
}
