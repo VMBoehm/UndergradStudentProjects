{
  "nbformat": 4,
  "nbformat_minor": 0,
  "metadata": {
    "colab": {
      "name": "UpgradeLFI_hack-scaled-subsample-score-compression.ipynb",
      "provenance": [],
      "collapsed_sections": [],
      "include_colab_link": true
    },
    "kernelspec": {
      "name": "python3",
      "display_name": "Python 3"
    }
  },
  "cells": [
    {
      "cell_type": "markdown",
      "metadata": {
        "id": "view-in-github",
        "colab_type": "text"
      },
      "source": [
        "<a href=\"https://colab.research.google.com/github/VMBoehm/UndergradStudentProjects/blob/master/Jamie_and_Lister/VanessasNotebooks/PeakCounts.ipynb\" target=\"_parent\"><img src=\"https://colab.research.google.com/assets/colab-badge.svg\" alt=\"Open In Colab\"/></a>"
      ]
    },
    {
      "cell_type": "markdown",
      "metadata": {
        "id": "0WMeoMlSGZZQ",
        "colab_type": "text"
      },
      "source": [
        "# applying our methods to lensing convergence peak counts"
      ]
    },
    {
      "cell_type": "code",
      "metadata": {
        "id": "cAdh2R-2GZZS",
        "colab_type": "code",
        "colab": {}
      },
      "source": [
        "import numpy as np\n",
        "import pickle\n",
        "import matplotlib.pyplot as plt"
      ],
      "execution_count": 0,
      "outputs": []
    },
    {
      "cell_type": "code",
      "metadata": {
        "id": "yUTKd1JP54gE",
        "colab_type": "code",
        "colab": {}
      },
      "source": [
        "! pip install numdifftools"
      ],
      "execution_count": 0,
      "outputs": []
    },
    {
      "cell_type": "code",
      "metadata": {
        "id": "Mh4_RKeeGxN7",
        "colab_type": "code",
        "outputId": "ca2af01c-d9e1-4c7f-e865-5242129cd717",
        "colab": {
          "base_uri": "https://localhost:8080/",
          "height": 126
        }
      },
      "source": [
        "from google.colab import drive\n",
        "drive.mount('/content/gdrive')"
      ],
      "execution_count": 3,
      "outputs": [
        {
          "output_type": "stream",
          "text": [
            "Go to this URL in a browser: https://accounts.google.com/o/oauth2/auth?client_id=947318989803-6bn6qk8qdgf4n4g3pfee6491hc0brc4i.apps.googleusercontent.com&redirect_uri=urn%3aietf%3awg%3aoauth%3a2.0%3aoob&response_type=code&scope=email%20https%3a%2f%2fwww.googleapis.com%2fauth%2fdocs.test%20https%3a%2f%2fwww.googleapis.com%2fauth%2fdrive%20https%3a%2f%2fwww.googleapis.com%2fauth%2fdrive.photos.readonly%20https%3a%2f%2fwww.googleapis.com%2fauth%2fpeopleapi.readonly\n",
            "\n",
            "Enter your authorization code:\n",
            "··········\n",
            "Mounted at /content/gdrive\n"
          ],
          "name": "stdout"
        }
      ]
    },
    {
      "cell_type": "code",
      "metadata": {
        "id": "py9yvEKmG7De",
        "colab_type": "code",
        "colab": {}
      },
      "source": [
        "\n",
        "datapath='./gdrive/My Drive/LFIwithMnus/data/'\n"
      ],
      "execution_count": 0,
      "outputs": []
    },
    {
      "cell_type": "markdown",
      "metadata": {
        "id": "zHYs33i5GZZV",
        "colab_type": "text"
      },
      "source": [
        "### load the data"
      ]
    },
    {
      "cell_type": "code",
      "metadata": {
        "id": "nQpuWfzIHCyT",
        "colab_type": "code",
        "colab": {}
      },
      "source": [
        "# load data (note that order of params is not the same as data_sim)\n",
        "data_scaled        = np.load(datapath+'data_full_set_scaled.npy')\n",
        "data_scaled_means   = np.load(datapath+'data_scaled_means.npy')\n",
        "data_scaled_cosmos = np.load(datapath+'params_conc_old.npy')\n",
        "data_scaled_cosmos_means = np.load(datapath+'params_conc_means.npy')\n",
        "\n",
        "covariance = np.load(datapath+'covariance.npy')"
      ],
      "execution_count": 0,
      "outputs": []
    },
    {
      "cell_type": "code",
      "metadata": {
        "id": "GOYnkJ-lGZZY",
        "colab_type": "code",
        "outputId": "206646ae-e82c-4545-8372-f46a084ef8c6",
        "colab": {
          "base_uri": "https://localhost:8080/",
          "height": 35
        }
      },
      "source": [
        "data_scaled_cosmos.shape\n",
        "data_scaled.shape"
      ],
      "execution_count": 7,
      "outputs": [
        {
          "output_type": "execute_result",
          "data": {
            "text/plain": [
              "(101, 9999, 50)"
            ]
          },
          "metadata": {
            "tags": []
          },
          "execution_count": 7
        }
      ]
    },
    {
      "cell_type": "code",
      "metadata": {
        "id": "_R9AZ6CmGZZc",
        "colab_type": "code",
        "outputId": "3675f88a-2266-4969-81de-9506470c5896",
        "colab": {
          "base_uri": "https://localhost:8080/",
          "height": 35
        }
      },
      "source": [
        "# fiducial parameters (for compression)\n",
        "index   = 51\n",
        "theta_fiducial = data_scaled_cosmos[index]\n",
        "print(theta_fiducial)\n",
        "data    = data_scaled[index,0]\n"
      ],
      "execution_count": 8,
      "outputs": [
        {
          "output_type": "stream",
          "text": [
            "[0.1 0.3 2.1]\n"
          ],
          "name": "stdout"
        }
      ]
    },
    {
      "cell_type": "code",
      "metadata": {
        "id": "S9o_8In737oh",
        "colab_type": "code",
        "colab": {}
      },
      "source": [
        ""
      ],
      "execution_count": 0,
      "outputs": []
    },
    {
      "cell_type": "code",
      "metadata": {
        "id": "awkMGdEh1kZN",
        "colab_type": "code",
        "colab": {
          "base_uri": "https://localhost:8080/",
          "height": 35
        },
        "outputId": "043f0f66-57c4-4638-8907-f7caf69e18e3"
      },
      "source": [
        "data.shape"
      ],
      "execution_count": 11,
      "outputs": [
        {
          "output_type": "execute_result",
          "data": {
            "text/plain": [
              "(50,)"
            ]
          },
          "metadata": {
            "tags": []
          },
          "execution_count": 11
        }
      ]
    },
    {
      "cell_type": "markdown",
      "metadata": {
        "id": "t587YJ6QGZZh",
        "colab_type": "text"
      },
      "source": [
        "### Covariance Matrix"
      ]
    },
    {
      "cell_type": "code",
      "metadata": {
        "id": "fFdi_Vn7GZZi",
        "colab_type": "code",
        "colab": {}
      },
      "source": [
        "# compute covariance from covariance sims\n",
        "Cinv = np.linalg.inv(covariance)"
      ],
      "execution_count": 0,
      "outputs": []
    },
    {
      "cell_type": "code",
      "metadata": {
        "id": "dfsUGt1XGZZk",
        "colab_type": "code",
        "colab": {}
      },
      "source": [
        ""
      ],
      "execution_count": 0,
      "outputs": []
    },
    {
      "cell_type": "markdown",
      "metadata": {
        "id": "sApfK474GZZn",
        "colab_type": "text"
      },
      "source": [
        "### Gaussian process interpolation of (precompressed) data"
      ]
    },
    {
      "cell_type": "code",
      "metadata": {
        "id": "lXPnyXxHGZZo",
        "colab_type": "code",
        "colab": {}
      },
      "source": [
        "from sklearn.gaussian_process import GaussianProcessRegressor\n",
        "from sklearn.gaussian_process.kernels import RBF, ConstantKernel as C\n",
        "\n",
        "\n",
        "kernel = C(1.0, (1e-4, 1e4)) * RBF(1, (1e-4, 1e4))\n",
        "#Instanciate a Gaussian Process model\n",
        "gp     = GaussianProcessRegressor(kernel=kernel, n_restarts_optimizer=10)\n",
        "\n",
        "\n",
        "# fit on averages of full rescaled set\n",
        "gp.fit(data_scaled_cosmos_means,data_scaled_means)\n",
        "\n",
        "#use the GP prediction to build the model\n",
        "def fwdmodel(theta):\n",
        "    pred, stdev = gp.predict(np.array(theta).reshape(1,3),return_std=True)\n",
        "    return np.squeeze(pred.T)\n",
        "\n",
        "# compute derivative of mean at fiducial model with finite differencing\n"
      ],
      "execution_count": 0,
      "outputs": []
    },
    {
      "cell_type": "code",
      "metadata": {
        "id": "ChPG_BOAGZZq",
        "colab_type": "code",
        "colab": {}
      },
      "source": [
        "# set up scrore compression\n",
        "\n",
        "\n",
        "def likelihood(data, params):\n",
        "  mu  = fwdmodel(params)\n",
        "  x   = data - mu\n",
        "  logp= -0.5*np.dot(np.dot(x, Cinv),x)#+0.5*np.log(np.linalg.det(Cinv))-0.5*np.log(2*np.pi)\n",
        "  return np.squeeze(logp)"
      ],
      "execution_count": 0,
      "outputs": []
    },
    {
      "cell_type": "code",
      "metadata": {
        "id": "f1yyIsj5yzZ9",
        "colab_type": "code",
        "colab": {}
      },
      "source": [
        "\n"
      ],
      "execution_count": 0,
      "outputs": []
    },
    {
      "cell_type": "code",
      "metadata": {
        "id": "fn1uKx-F3Lbq",
        "colab_type": "code",
        "colab": {
          "base_uri": "https://localhost:8080/",
          "height": 283
        },
        "outputId": "9c1b680b-00d4-46ba-afbe-fc8395efb3d5"
      },
      "source": [
        "plt.plot(data-fwdmodel(theta_fiducial))\n",
        "plt.plot(data-fwdmodel(theta_fiducial*1.01))"
      ],
      "execution_count": 107,
      "outputs": [
        {
          "output_type": "execute_result",
          "data": {
            "text/plain": [
              "[<matplotlib.lines.Line2D at 0x7ff43ebedba8>]"
            ]
          },
          "metadata": {
            "tags": []
          },
          "execution_count": 107
        },
        {
          "output_type": "display_data",
          "data": {
            "image/png": "[encoded data removed]",
            "text/plain": [
              "<Figure size 432x288 with 1 Axes>"
            ]
          },
          "metadata": {
            "tags": [],
            "needs_background": "light"
          }
        }
      ]
    },
    {
      "cell_type": "code",
      "metadata": {
        "id": "wEZqNtDt0_tL",
        "colab_type": "code",
        "colab": {}
      },
      "source": [
        "neglogpost = lambda x: -likelihood(data, x)"
      ],
      "execution_count": 0,
      "outputs": []
    },
    {
      "cell_type": "markdown",
      "metadata": {
        "id": "3vCsO4fi7AFJ",
        "colab_type": "text"
      },
      "source": [
        ""
      ]
    },
    {
      "cell_type": "code",
      "metadata": {
        "id": "DaxVztXG4RSh",
        "colab_type": "code",
        "colab": {}
      },
      "source": [
        "import numdifftools as nd"
      ],
      "execution_count": 0,
      "outputs": []
    },
    {
      "cell_type": "code",
      "metadata": {
        "id": "DMG74zlB4Zjg",
        "colab_type": "code",
        "colab": {}
      },
      "source": [
        "grad = nd.Gradient(neglogpost)"
      ],
      "execution_count": 0,
      "outputs": []
    },
    {
      "cell_type": "code",
      "metadata": {
        "id": "GS2RSTEq4d0s",
        "colab_type": "code",
        "colab": {}
      },
      "source": [
        "hess = nd.Hessian(neglogpost)"
      ],
      "execution_count": 0,
      "outputs": []
    },
    {
      "cell_type": "code",
      "metadata": {
        "id": "yNb8BGyfy_j_",
        "colab_type": "code",
        "colab": {}
      },
      "source": [
        "def derivative(params):\n",
        "  delta_params=0.001*theta_fiducial\n",
        "  deriv = np.zeros(len(params))\n",
        "  for ii in range(len(params)):\n",
        "    deltas = np.zeros(len(params))\n",
        "    deltas[ii]+=delta_params[ii]\n",
        "    deriv[ii] = (neglogpost(params+deltas)-neglogpost(params-deltas))/(2*delta_params[ii])\n",
        "  return deriv"
      ],
      "execution_count": 0,
      "outputs": []
    },
    {
      "cell_type": "code",
      "metadata": {
        "id": "bSkQ-yPv19tD",
        "colab_type": "code",
        "colab": {
          "base_uri": "https://localhost:8080/",
          "height": 53
        },
        "outputId": "6c9d86fc-5ac2-44f8-b2c0-8675923daf18"
      },
      "source": [
        "grad(theta_fiducial), derivative(theta_fiducial)"
      ],
      "execution_count": 136,
      "outputs": [
        {
          "output_type": "execute_result",
          "data": {
            "text/plain": [
              "(array([-190.03950902, 3396.44212396,  375.23995954]),\n",
              " array([-190.03881232, 3395.94137023,  374.75877361]))"
            ]
          },
          "metadata": {
            "tags": []
          },
          "execution_count": 136
        }
      ]
    },
    {
      "cell_type": "code",
      "metadata": {
        "id": "NaYQZ-0VGZZt",
        "colab_type": "code",
        "outputId": "710fe96d-7180-4c31-fa9d-abae71c5908b",
        "colab": {
          "base_uri": "https://localhost:8080/",
          "height": 1000
        }
      },
      "source": [
        "from scipy.optimize import minimize\n",
        "\n",
        "log_posts = [] \n",
        "results = []\n",
        "for theta_ini in np.sqrt(theta_fiducial)*np.random.randn(10,3)+theta_fiducial:\n",
        "  print(theta_ini)\n",
        "  for method in ['Powell']:#['Nelder-Mead','Powell','CG','BFGS','Newton-CG','L-BFGS-B','TNC','COBYLA','SLSQP','trust-constr','dogleg','trust-ncg','trust-exact','trust-krylov']:\n",
        "    res = minimize(neglogpost,theta_ini,jac=grad,hess=hess,method=method)\n",
        "    log_posts.append(neglogpost(res['x']))\n",
        "    results.append(res['x'])"
      ],
      "execution_count": 158,
      "outputs": [
        {
          "output_type": "stream",
          "text": [
            "[ 0.29216898 -0.24259243  2.30772382]\n",
            "Powell 0.03370247919753608\n",
            "[-0.53346392  1.07019946  0.02602707]\n",
            "Powell 33.94867904728181\n",
            "[0.52270522 0.78504397 3.10765817]\n"
          ],
          "name": "stdout"
        },
        {
          "output_type": "stream",
          "text": [
            "/usr/local/lib/python3.6/dist-packages/scipy/optimize/_minimize.py:506: RuntimeWarning: Method Powell does not use gradient information (jac).\n",
            "  RuntimeWarning)\n",
            "/usr/local/lib/python3.6/dist-packages/scipy/optimize/_minimize.py:511: RuntimeWarning: Method Powell does not use Hessian information (hess).\n",
            "  RuntimeWarning)\n",
            "/usr/local/lib/python3.6/dist-packages/scipy/optimize/_minimize.py:506: RuntimeWarning: Method Powell does not use gradient information (jac).\n",
            "  RuntimeWarning)\n",
            "/usr/local/lib/python3.6/dist-packages/scipy/optimize/_minimize.py:511: RuntimeWarning: Method Powell does not use Hessian information (hess).\n",
            "  RuntimeWarning)\n",
            "/usr/local/lib/python3.6/dist-packages/scipy/optimize/_minimize.py:506: RuntimeWarning: Method Powell does not use gradient information (jac).\n",
            "  RuntimeWarning)\n",
            "/usr/local/lib/python3.6/dist-packages/scipy/optimize/_minimize.py:511: RuntimeWarning: Method Powell does not use Hessian information (hess).\n",
            "  RuntimeWarning)\n"
          ],
          "name": "stderr"
        },
        {
          "output_type": "stream",
          "text": [
            "Powell 0.020701571927158696\n",
            "[ 0.21653883  0.92299313 -0.10584775]\n",
            "Powell 39.65814215672481\n",
            "[ 0.0136755  -0.17375627  0.60340296]\n"
          ],
          "name": "stdout"
        },
        {
          "output_type": "stream",
          "text": [
            "/usr/local/lib/python3.6/dist-packages/scipy/optimize/_minimize.py:506: RuntimeWarning: Method Powell does not use gradient information (jac).\n",
            "  RuntimeWarning)\n",
            "/usr/local/lib/python3.6/dist-packages/scipy/optimize/_minimize.py:511: RuntimeWarning: Method Powell does not use Hessian information (hess).\n",
            "  RuntimeWarning)\n",
            "/usr/local/lib/python3.6/dist-packages/scipy/optimize/_minimize.py:506: RuntimeWarning: Method Powell does not use gradient information (jac).\n",
            "  RuntimeWarning)\n",
            "/usr/local/lib/python3.6/dist-packages/scipy/optimize/_minimize.py:511: RuntimeWarning: Method Powell does not use Hessian information (hess).\n",
            "  RuntimeWarning)\n"
          ],
          "name": "stderr"
        },
        {
          "output_type": "stream",
          "text": [
            "Powell 0.03377883583456115\n",
            "[-0.43702737  0.0990827   1.62911691]\n",
            "Powell 0.11326632832565463\n",
            "[0.47143827 0.87576294 2.96016304]\n"
          ],
          "name": "stdout"
        },
        {
          "output_type": "stream",
          "text": [
            "/usr/local/lib/python3.6/dist-packages/scipy/optimize/_minimize.py:506: RuntimeWarning: Method Powell does not use gradient information (jac).\n",
            "  RuntimeWarning)\n",
            "/usr/local/lib/python3.6/dist-packages/scipy/optimize/_minimize.py:511: RuntimeWarning: Method Powell does not use Hessian information (hess).\n",
            "  RuntimeWarning)\n",
            "/usr/local/lib/python3.6/dist-packages/scipy/optimize/_minimize.py:506: RuntimeWarning: Method Powell does not use gradient information (jac).\n",
            "  RuntimeWarning)\n",
            "/usr/local/lib/python3.6/dist-packages/scipy/optimize/_minimize.py:511: RuntimeWarning: Method Powell does not use Hessian information (hess).\n",
            "  RuntimeWarning)\n"
          ],
          "name": "stderr"
        },
        {
          "output_type": "stream",
          "text": [
            "Powell 0.020664425873722105\n",
            "[0.40136408 0.97320782 2.67746087]\n",
            "Powell 0.16682321992694893\n",
            "[-0.60274434  0.14132331  3.23786896]\n"
          ],
          "name": "stdout"
        },
        {
          "output_type": "stream",
          "text": [
            "/usr/local/lib/python3.6/dist-packages/scipy/optimize/_minimize.py:506: RuntimeWarning: Method Powell does not use gradient information (jac).\n",
            "  RuntimeWarning)\n",
            "/usr/local/lib/python3.6/dist-packages/scipy/optimize/_minimize.py:511: RuntimeWarning: Method Powell does not use Hessian information (hess).\n",
            "  RuntimeWarning)\n",
            "/usr/local/lib/python3.6/dist-packages/scipy/optimize/_minimize.py:506: RuntimeWarning: Method Powell does not use gradient information (jac).\n",
            "  RuntimeWarning)\n",
            "/usr/local/lib/python3.6/dist-packages/scipy/optimize/_minimize.py:511: RuntimeWarning: Method Powell does not use Hessian information (hess).\n",
            "  RuntimeWarning)\n"
          ],
          "name": "stderr"
        },
        {
          "output_type": "stream",
          "text": [
            "Powell 0.020735770540413923\n",
            "[-0.0173851  -0.2678118   2.11251385]\n",
            "Powell 0.0036251789026392994\n"
          ],
          "name": "stdout"
        },
        {
          "output_type": "stream",
          "text": [
            "/usr/local/lib/python3.6/dist-packages/scipy/optimize/_minimize.py:506: RuntimeWarning: Method Powell does not use gradient information (jac).\n",
            "  RuntimeWarning)\n",
            "/usr/local/lib/python3.6/dist-packages/scipy/optimize/_minimize.py:511: RuntimeWarning: Method Powell does not use Hessian information (hess).\n",
            "  RuntimeWarning)\n"
          ],
          "name": "stderr"
        }
      ]
    },
    {
      "cell_type": "code",
      "metadata": {
        "id": "p4rAUaQo-5b7",
        "colab_type": "code",
        "colab": {}
      },
      "source": [
        "index       = np.argsort((log_posts))\n",
        "best_params = results[index[0]]"
      ],
      "execution_count": 0,
      "outputs": []
    },
    {
      "cell_type": "code",
      "metadata": {
        "id": "rjcmsnQ54sVm",
        "colab_type": "code",
        "colab": {
          "base_uri": "https://localhost:8080/",
          "height": 283
        },
        "outputId": "0d7d0530-0bee-4e78-e470-4b1ed7573d26"
      },
      "source": [
        "plt.plot(data)\n",
        "plt.plot(fwdmodel(best_params))"
      ],
      "execution_count": 163,
      "outputs": [
        {
          "output_type": "execute_result",
          "data": {
            "text/plain": [
              "[<matplotlib.lines.Line2D at 0x7ff43eabac50>]"
            ]
          },
          "metadata": {
            "tags": []
          },
          "execution_count": 163
        },
        {
          "output_type": "display_data",
          "data": {
            "image/png": "[encoded data removed]",
            "text/plain": [
              "<Figure size 432x288 with 1 Axes>"
            ]
          },
          "metadata": {
            "tags": [],
            "needs_background": "light"
          }
        }
      ]
    },
    {
      "cell_type": "code",
      "metadata": {
        "id": "kFHlosvd8Gtg",
        "colab_type": "code",
        "colab": {}
      },
      "source": [
        ""
      ],
      "execution_count": 0,
      "outputs": []
    }
  ]
}