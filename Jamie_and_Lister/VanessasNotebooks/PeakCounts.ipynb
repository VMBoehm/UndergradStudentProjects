{
 "cells": [
  {
   "cell_type": "markdown",
   "metadata": {
    "colab_type": "text",
    "id": "view-in-github"
   },
   "source": [
    "<a href=\"https://colab.research.google.com/github/VMBoehm/UndergradStudentProjects/blob/master/Jamie_and_Lister/VanessasNotebooks/PeakCounts.ipynb\" target=\"_parent\"><img src=\"https://colab.research.google.com/assets/colab-badge.svg\" alt=\"Open In Colab\"/></a>"
   ]
  },
  {
   "cell_type": "markdown",
   "metadata": {
    "colab_type": "text",
    "id": "0WMeoMlSGZZQ"
   },
   "source": [
    "# applying our methods to lensing convergence peak counts"
   ]
  },
  {
   "cell_type": "code",
   "execution_count": 2,
   "metadata": {
    "colab": {},
    "colab_type": "code",
    "id": "cAdh2R-2GZZS"
   },
   "outputs": [],
   "source": [
    "import numpy as np\n",
    "import pickle\n",
    "import matplotlib.pyplot as plt"
   ]
  },
  {
   "cell_type": "code",
   "execution_count": 3,
   "metadata": {
    "colab": {},
    "colab_type": "code",
    "id": "py9yvEKmG7De"
   },
   "outputs": [],
   "source": [
    "\n",
    "datapath='../data/'\n"
   ]
  },
  {
   "cell_type": "markdown",
   "metadata": {},
   "source": [
    "### the paper: https://arxiv.org/pdf/1810.01781.pdf"
   ]
  },
  {
   "cell_type": "markdown",
   "metadata": {
    "colab_type": "text",
    "id": "zHYs33i5GZZV"
   },
   "source": [
    "### load the data"
   ]
  },
  {
   "cell_type": "code",
   "execution_count": 4,
   "metadata": {
    "colab": {},
    "colab_type": "code",
    "id": "nQpuWfzIHCyT"
   },
   "outputs": [],
   "source": [
    "# these are the peaks counts\n",
    "data_scaled = np.load(datapath+'peakcnts_lhc.scaled.npy',allow_pickle=True)\n",
    "# these are the cosmo params\n",
    "cosmo_params = np.load(datapath+'params.npy')\n",
    "# this is the covariance for the likleihood\n",
    "covariance = np.load(datapath+'covariance.npy',allow_pickle=True)"
   ]
  },
  {
   "cell_type": "code",
   "execution_count": 5,
   "metadata": {},
   "outputs": [
    {
     "data": {
      "text/plain": [
       "(101, 9999, 50)"
      ]
     },
     "execution_count": 5,
     "metadata": {},
     "output_type": "execute_result"
    }
   ],
   "source": [
    "# 101 cosmologies, 10000 simulations per cosmology, 50 density bins (levels of 'flooding')\n",
    "data_scaled.shape"
   ]
  },
  {
   "cell_type": "code",
   "execution_count": 149,
   "metadata": {},
   "outputs": [
    {
     "data": {
      "image/png": "[encoded data removed]",
      "text/plain": [
       "<Figure size 432x288 with 1 Axes>"
      ]
     },
     "metadata": {
      "needs_background": "light"
     },
     "output_type": "display_data"
    }
   ],
   "source": [
    "# this is what the data looks like for 2 different cosmologies\n",
    "plt.plot(data_scaled[40,0:100,:].T)\n",
    "plt.plot(data_scaled[44,0:100,:].T)\n",
    "plt.show()"
   ]
  },
  {
   "cell_type": "markdown",
   "metadata": {},
   "source": [
    "### The data"
   ]
  },
  {
   "cell_type": "code",
   "execution_count": 173,
   "metadata": {},
   "outputs": [
    {
     "name": "stdout",
     "output_type": "stream",
     "text": [
      "[0.124  0.3028 2.3174]\n"
     ]
    }
   ],
   "source": [
    "# We pick a realization at a specific cosmology to be our data (you can change this!)\n",
    "# right now we choose a cosmology which is fairly close to the fiducial one (see below)\n",
    "index = 54\n",
    "data  = data_scaled[index][0]\n",
    "true_params = cosmo_params[index]\n",
    "print(true_params)"
   ]
  },
  {
   "cell_type": "markdown",
   "metadata": {
    "colab_type": "text",
    "id": "t587YJ6QGZZh"
   },
   "source": [
    "### Covariance Matrix"
   ]
  },
  {
   "cell_type": "code",
   "execution_count": 171,
   "metadata": {
    "colab": {},
    "colab_type": "code",
    "id": "fFdi_Vn7GZZi"
   },
   "outputs": [],
   "source": [
    "# compute covariance from covariance sims\n",
    "Cinv = np.linalg.inv(covariance)"
   ]
  },
  {
   "cell_type": "code",
   "execution_count": 172,
   "metadata": {},
   "outputs": [
    {
     "name": "stdout",
     "output_type": "stream",
     "text": [
      "[0.1 0.3 2.1]\n"
     ]
    }
   ],
   "source": [
    "# these are the fiducial parameter, i.e. the parameters the covariance was measured at \n",
    "fid_params = np.load(datapath+'theta.fid.npy',allow_pickle=True)\n",
    "print(fid_params)"
   ]
  },
  {
   "cell_type": "markdown",
   "metadata": {},
   "source": [
    "### Constructing the data likelihood"
   ]
  },
  {
   "cell_type": "code",
   "execution_count": 153,
   "metadata": {
    "colab": {
     "base_uri": "https://localhost:8080/",
     "height": 35
    },
    "colab_type": "code",
    "id": "GOYnkJ-lGZZY",
    "outputId": "206646ae-e82c-4545-8372-f46a084ef8c6"
   },
   "outputs": [],
   "source": [
    "# average over all simulations for each cosmology\n",
    "means      = np.mean(data_scaled, axis=1)"
   ]
  },
  {
   "cell_type": "markdown",
   "metadata": {
    "colab_type": "text",
    "id": "sApfK474GZZn"
   },
   "source": [
    "#### Forward Model: Gaussian process interpolation of  means"
   ]
  },
  {
   "cell_type": "code",
   "execution_count": 154,
   "metadata": {
    "colab": {},
    "colab_type": "code",
    "id": "lXPnyXxHGZZo"
   },
   "outputs": [],
   "source": [
    "# A Gaussian process is a regression model, it learns to map x-> f(x) from some training data. \n",
    "# In our case x are the cosmological parameters and f(x) are the peak counts\n",
    "\n",
    "import sklearn\n",
    "from sklearn.gaussian_process import GaussianProcessRegressor\n",
    "from sklearn.gaussian_process.kernels import RBF, ConstantKernel as C\n",
    "\n",
    "\n",
    "kernel = C(1.0, (1e-4, 1e4)) * RBF(1, (1e-4, 1e4))\n",
    "#Instanciate a Gaussian Process model\n",
    "gp     = GaussianProcessRegressor(kernel=kernel, n_restarts_optimizer=10)\n",
    "\n",
    "\n",
    "# fit on means and parameters\n",
    "gp.fit(cosmo_params,means)\n",
    "\n",
    "#use the GP prediction to build the model\n",
    "def fwdmodel(theta):\n",
    "    pred, stdev = gp.predict(np.array(theta).reshape(1,3),return_std=True)\n",
    "    return np.squeeze(pred.T)\n",
    "\n",
    "\n"
   ]
  },
  {
   "cell_type": "code",
   "execution_count": 155,
   "metadata": {
    "colab": {
     "base_uri": "https://localhost:8080/",
     "height": 283
    },
    "colab_type": "code",
    "id": "fn1uKx-F3Lbq",
    "outputId": "9c1b680b-00d4-46ba-afbe-fc8395efb3d5"
   },
   "outputs": [
    {
     "data": {
      "image/png": "[encoded data removed]",
      "text/plain": [
       "<Figure size 432x288 with 1 Axes>"
      ]
     },
     "metadata": {
      "needs_background": "light"
     },
     "output_type": "display_data"
    }
   ],
   "source": [
    "# Check how well the Gaussian process is doing\n",
    "\n",
    "plt.plot(fwdmodel(fid_params), label='mean at fiducial')\n",
    "plt.plot(fwdmodel(fid_params*1.01), label= 'fiducial+1%')\n",
    "plt.plot(fwdmodel(true_params), label='mean at truth')\n",
    "plt.plot(data, label='data')\n",
    "plt.legend()\n",
    "plt.show()"
   ]
  },
  {
   "cell_type": "code",
   "execution_count": 156,
   "metadata": {
    "colab": {},
    "colab_type": "code",
    "id": "ChPG_BOAGZZq"
   },
   "outputs": [],
   "source": [
    "# likelihood\n",
    "# We assume a Gaussian likelihood for the peak counts. \n",
    "# Can you think of reasons why this is a reasonable assumption?\n",
    "# Hint: Peak counts are a binned statistic (a sum of a random number)\n",
    "\n",
    "def likelihood(data, params):\n",
    "    mu  = fwdmodel(params)\n",
    "    x   = data - mu\n",
    "    # linalg.slogdet is numerically more stable than np.log(linalg.det())\n",
    "    _, logdet = np.linalg.slogdet(Cinv)\n",
    "    x   = np.squeeze(x)\n",
    "    logp= -0.5*np.dot(np.dot(x, Cinv),x)+0.5*logdet-0.5*len(x)*np.log(2*np.pi)\n",
    "    return np.squeeze(logp)"
   ]
  },
  {
   "cell_type": "code",
   "execution_count": 157,
   "metadata": {},
   "outputs": [
    {
     "data": {
      "text/plain": [
       "426.4627767277797"
      ]
     },
     "execution_count": 157,
     "metadata": {},
     "output_type": "execute_result"
    }
   ],
   "source": [
    "# check if output makes sense\n",
    "-likelihood(data,true_params)"
   ]
  },
  {
   "cell_type": "markdown",
   "metadata": {},
   "source": [
    "### posterior"
   ]
  },
  {
   "cell_type": "code",
   "execution_count": 158,
   "metadata": {
    "colab": {},
    "colab_type": "code",
    "id": "f1yyIsj5yzZ9"
   },
   "outputs": [],
   "source": [
    "# posterior    = prior*likelihood\n",
    "# logposterior = loglikelihood+logprior\n",
    "# task: add a Gaussian prior on the parameters. This prior shouls be centered around the fiducial parameter values,\n",
    "# for now let's assume the parameters are uncorrelated, and the sigma is 10% of the parameter value\n",
    "# construct the posterior\n",
    "\n"
   ]
  },
  {
   "cell_type": "code",
   "execution_count": 159,
   "metadata": {
    "colab": {},
    "colab_type": "code",
    "id": "wEZqNtDt0_tL"
   },
   "outputs": [],
   "source": [
    "# replace likelihood by posterior\n",
    "neglogpost = lambda x: -likelihood(data, x)"
   ]
  },
  {
   "cell_type": "markdown",
   "metadata": {},
   "source": [
    "### derivatives"
   ]
  },
  {
   "cell_type": "code",
   "execution_count": 160,
   "metadata": {
    "colab": {},
    "colab_type": "code",
    "id": "DaxVztXG4RSh"
   },
   "outputs": [],
   "source": [
    "import numdifftools as nd"
   ]
  },
  {
   "cell_type": "code",
   "execution_count": 161,
   "metadata": {
    "colab": {},
    "colab_type": "code",
    "id": "DMG74zlB4Zjg"
   },
   "outputs": [],
   "source": [
    "# gradient\n",
    "grad = nd.Gradient(neglogpost)"
   ]
  },
  {
   "cell_type": "code",
   "execution_count": 162,
   "metadata": {
    "colab": {},
    "colab_type": "code",
    "id": "GS2RSTEq4d0s"
   },
   "outputs": [],
   "source": [
    "# hessian\n",
    "hess = nd.Hessian(neglogpost)"
   ]
  },
  {
   "cell_type": "code",
   "execution_count": 163,
   "metadata": {
    "colab": {},
    "colab_type": "code",
    "id": "yNb8BGyfy_j_"
   },
   "outputs": [],
   "source": [
    "# derivative by hand\n",
    "def derivative(params):\n",
    "    # have to choose delta really small here\n",
    "    delta_params=1e-5*fid_params\n",
    "    deriv = np.zeros(len(params))\n",
    "    for ii in range(len(params)):\n",
    "        deltas = np.zeros(len(params))\n",
    "        deltas[ii]+=delta_params[ii]\n",
    "        deriv[ii] = (neglogpost(params+deltas)-neglogpost(params-deltas))/(2*delta_params[ii])\n",
    "    return deriv"
   ]
  },
  {
   "cell_type": "code",
   "execution_count": 164,
   "metadata": {
    "colab": {
     "base_uri": "https://localhost:8080/",
     "height": 53
    },
    "colab_type": "code",
    "id": "bSkQ-yPv19tD",
    "outputId": "6c9d86fc-5ac2-44f8-b2c0-8675923daf18"
   },
   "outputs": [
    {
     "data": {
      "text/plain": [
       "(array([ 2.59371136,  0.98967232, -2.43481201]),\n",
       " array([ 2.59371132,  0.98967206, -2.43481161]))"
      ]
     },
     "execution_count": 164,
     "metadata": {},
     "output_type": "execute_result"
    }
   ],
   "source": [
    "## numerical differences! (points towards nasty likleihood surface)\n",
    "grad(true_params), derivative(true_params)"
   ]
  },
  {
   "cell_type": "markdown",
   "metadata": {},
   "source": [
    "### find minima"
   ]
  },
  {
   "cell_type": "code",
   "execution_count": 178,
   "metadata": {
    "colab": {
     "base_uri": "https://localhost:8080/",
     "height": 1000
    },
    "colab_type": "code",
    "id": "NaYQZ-0VGZZt",
    "outputId": "710fe96d-7180-4c31-fa9d-abae71c5908b"
   },
   "outputs": [
    {
     "name": "stdout",
     "output_type": "stream",
     "text": [
      "[0.0862971  0.31140915 2.28362292]\n",
      "[0.06745684 0.30287448 1.97523773]\n",
      "[0.08271176 0.34952296 2.01380068]\n",
      "[0.0689691  0.22060138 2.0966175 ]\n",
      "[0.09127015 0.3394548  2.01353999]\n",
      "[0.10669133 0.21253595 2.48224656]\n",
      "[0.111456   0.27534288 1.84426215]\n",
      "[0.1039816  0.29013474 1.94422725]\n",
      "[0.08842917 0.25540761 2.00608995]\n",
      "[0.12160869 0.32801672 2.11355238]\n"
     ]
    }
   ],
   "source": [
    "## you can try different minimizers here. Do they all find the same minima? Which ones work and which ones fail?\n",
    "## what happens is the fiducial parameters are far from the truth?\n",
    "\n",
    "import warnings\n",
    "from scipy.optimize import minimize\n",
    "\n",
    "log_posts = [] \n",
    "param_ests= []\n",
    "with warnings.catch_warnings(record=True):\n",
    "    for theta_ini in 0.15*np.sqrt(fid_params)*np.random.randn(10,3)+fid_params:\n",
    "        for method in ['CG']:#,'Nelder-Mead','Powell','CG','BFGS','Newton-CG','L-BFGS-B','TNC','COBYLA','SLSQP','trust-constr','dogleg','trust-ncg','trust-exact','trust-krylov']:\n",
    "            res = minimize(neglogpost,theta_ini,jac=grad,hess=hess,method=method)\n",
    "            if res['success']:\n",
    "                log_posts.append(neglogpost(res['x']))\n",
    "                param_ests.append(res['x'])\n",
    "param_ests= np.asarray(param_ests)"
   ]
  },
  {
   "cell_type": "code",
   "execution_count": 182,
   "metadata": {},
   "outputs": [
    {
     "name": "stdout",
     "output_type": "stream",
     "text": [
      "[426.51497879413256, 426.46634644263344, 426.46379098286496, 426.4664166120845, 426.4649013800206, 426.48679474119814, 426.4663464426335, 426.46767844950864]\n"
     ]
    },
    {
     "data": {
      "image/png": "[encoded data removed]",
      "text/plain": [
       "<Figure size 432x288 with 1 Axes>"
      ]
     },
     "metadata": {
      "needs_background": "light"
     },
     "output_type": "display_data"
    },
    {
     "data": {
      "image/png": "[encoded data removed]",
      "text/plain": [
       "<Figure size 432x288 with 1 Axes>"
      ]
     },
     "metadata": {
      "needs_background": "light"
     },
     "output_type": "display_data"
    },
    {
     "data": {
      "image/png": "[encoded data removed]",
      "text/plain": [
       "<Figure size 432x288 with 1 Axes>"
      ]
     },
     "metadata": {
      "needs_background": "light"
     },
     "output_type": "display_data"
    },
    {
     "data": {
      "image/png": "[encoded data removed]",
      "text/plain": [
       "<Figure size 432x288 with 1 Axes>"
      ]
     },
     "metadata": {
      "needs_background": "light"
     },
     "output_type": "display_data"
    }
   ],
   "source": [
    "# did they all land in the same minimum?\n",
    "print(log_posts)\n",
    "plt.plot(log_posts,ls='', marker='o')\n",
    "plt.show()\n",
    "\n",
    "for ii in range(param_ests.shape[-1]):\n",
    "    if ii==2:\n",
    "        plt.scatter(param_ests[:,ii],param_ests[:,0])\n",
    "    else:\n",
    "        plt.scatter(param_ests[:,ii],param_ests[:,ii+1])\n",
    "    plt.show()\n",
    "# parameters are pretty much all over the place"
   ]
  },
  {
   "cell_type": "code",
   "execution_count": 183,
   "metadata": {
    "colab": {},
    "colab_type": "code",
    "id": "p4rAUaQo-5b7"
   },
   "outputs": [
    {
     "name": "stdout",
     "output_type": "stream",
     "text": [
      "426.46379098286496\n",
      "[0.09432592 0.29296634 2.08533811] [0.124  0.3028 2.3174] [0.1 0.3 2.1]\n"
     ]
    }
   ],
   "source": [
    "### let's look at the lowest minimum\n",
    "index       = np.argsort((log_posts))\n",
    "print(log_posts[index[0]])\n",
    "best_params = param_ests[index[0]]\n",
    "print(best_params, true_params, fid_params)"
   ]
  },
  {
   "cell_type": "code",
   "execution_count": 168,
   "metadata": {
    "colab": {
     "base_uri": "https://localhost:8080/",
     "height": 283
    },
    "colab_type": "code",
    "id": "rjcmsnQ54sVm",
    "outputId": "0d7d0530-0bee-4e78-e470-4b1ed7573d26"
   },
   "outputs": [
    {
     "data": {
      "text/plain": [
       "[<matplotlib.lines.Line2D at 0x7f126b1fcc50>]"
      ]
     },
     "execution_count": 168,
     "metadata": {},
     "output_type": "execute_result"
    },
    {
     "data": {
      "image/png": "[encoded data removed]",
      "text/plain": [
       "<Figure size 432x288 with 1 Axes>"
      ]
     },
     "metadata": {
      "needs_background": "light"
     },
     "output_type": "display_data"
    }
   ],
   "source": [
    "plt.plot(data)\n",
    "plt.plot(fwdmodel(best_params))"
   ]
  },
  {
   "cell_type": "code",
   "execution_count": 186,
   "metadata": {},
   "outputs": [
    {
     "data": {
      "image/png": "[encoded data removed]",
      "text/plain": [
       "<Figure size 432x288 with 1 Axes>"
      ]
     },
     "metadata": {
      "needs_background": "light"
     },
     "output_type": "display_data"
    }
   ],
   "source": [
    "# let's look at all minima:\n",
    "plt.plot(data)\n",
    "for ii in range(len(param_ests)):\n",
    "    plt.plot(fwdmodel(param_ests[ii]))\n",
    "    plt.plot(data)\n",
    "## all of them seem to be consistent with the data!"
   ]
  },
  {
   "cell_type": "code",
   "execution_count": 187,
   "metadata": {
    "colab": {},
    "colab_type": "code",
    "id": "kFHlosvd8Gtg"
   },
   "outputs": [],
   "source": [
    "# what do we learn from this about the psoterior?"
   ]
  },
  {
   "cell_type": "code",
   "execution_count": null,
   "metadata": {},
   "outputs": [],
   "source": []
  }
 ],
 "metadata": {
  "colab": {
   "collapsed_sections": [],
   "include_colab_link": true,
   "name": "UpgradeLFI_hack-scaled-subsample-score-compression.ipynb",
   "provenance": []
  },
  "kernelspec": {
   "display_name": "fwdmodel",
   "language": "python",
   "name": "fwdmodel"
  },
  "language_info": {
   "codemirror_mode": {
    "name": "ipython",
    "version": 3
   },
   "file_extension": ".py",
   "mimetype": "text/x-python",
   "name": "python",
   "nbconvert_exporter": "python",
   "pygments_lexer": "ipython3",
   "version": "3.7.4"
  }
 },
 "nbformat": 4,
 "nbformat_minor": 1
}
