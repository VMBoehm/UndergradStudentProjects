{
 "cells": [
  {
   "cell_type": "code",
   "execution_count": 3,
   "metadata": {},
   "outputs": [],
   "source": [
    "import numpy as np\n",
    "import matplotlib.pyplot as plt"
   ]
  },
  {
   "cell_type": "markdown",
   "metadata": {},
   "source": [
    "Data Model: data = signal+noise    \n",
    "signal           = Ax+mu  \n",
    "x is a random number drawn from a standard normal distribution, < x >=0, <x^2>=1    \n",
    "the noise is Gaussian with mean =< noise >=0 and variance = < ( x-< x >)**2 >=sigma^2\n",
    "\n",
    "A and mu depend on the parameters a,b. a and b are the parameters we are interested in inferring."
   ]
  },
  {
   "cell_type": "code",
   "execution_count": 4,
   "metadata": {},
   "outputs": [],
   "source": [
    "#get A as a function of a,b\n",
    "def get_A(a,b,dim=1):\n",
    "    A = a**2*np.ones((dim,dim))+b/2.\n",
    "    return A"
   ]
  },
  {
   "cell_type": "code",
   "execution_count": 5,
   "metadata": {},
   "outputs": [],
   "source": [
    "#get mu as a function of a,b\n",
    "def get_mu(a,b, dim=1):\n",
    "    mu = a**3/np.exp(b)*np.ones(dim)\n",
    "    return mu"
   ]
  },
  {
   "cell_type": "markdown",
   "metadata": {},
   "source": [
    "Fiducial Parameters (this is the underlying truth)"
   ]
  },
  {
   "cell_type": "code",
   "execution_count": 6,
   "metadata": {},
   "outputs": [],
   "source": [
    "a_0=2; b_0=0.5"
   ]
  },
  {
   "cell_type": "code",
   "execution_count": 7,
   "metadata": {},
   "outputs": [],
   "source": [
    "A_0  = get_A(a_0,b_0)\n",
    "mu_0 = get_mu(a_0, b_0)"
   ]
  },
  {
   "cell_type": "markdown",
   "metadata": {},
   "source": [
    "Noise level"
   ]
  },
  {
   "cell_type": "code",
   "execution_count": 8,
   "metadata": {},
   "outputs": [],
   "source": [
    "sigma = 0.1"
   ]
  },
  {
   "cell_type": "code",
   "execution_count": 9,
   "metadata": {},
   "outputs": [],
   "source": [
    "def generate_noise(sigma,dim=1,nsamples=100,rand_seed=None):\n",
    "    np.random.seed(rand_seed)\n",
    "    noise = np.random.randn(nsamples,dim)*sigma\n",
    "    return noise"
   ]
  },
  {
   "cell_type": "code",
   "execution_count": 10,
   "metadata": {},
   "outputs": [],
   "source": [
    "def generate_signal(A,mu,sigma,dim=1, nsamples=100,rand_seed=None):\n",
    "    \n",
    "    np.random.seed(rand_seed)\n",
    "    x      = np.random.randn(nsamples,dim)\n",
    "    signal = A*x+mu\n",
    "    \n",
    "    return signal"
   ]
  },
  {
   "cell_type": "code",
   "execution_count": 11,
   "metadata": {},
   "outputs": [],
   "source": [
    "def generate_data(A,mu,sigma,dim,nsamples,rand_seed=None):\n",
    "    \n",
    "    signal = generate_signal(A,mu,sigma,dim,nsamples,rand_seed)\n",
    "    noise  = generate_noise(sigma,dim,nsamples,rand_seed)\n",
    "    data   = signal+noise\n",
    "    \n",
    "    return data"
   ]
  },
  {
   "cell_type": "markdown",
   "metadata": {},
   "source": [
    "fiducial data (that's the assumed truth)"
   ]
  },
  {
   "cell_type": "code",
   "execution_count": 12,
   "metadata": {},
   "outputs": [],
   "source": [
    "fid_data = generate_data(A_0,mu_0,sigma,dim=1, nsamples=1000,rand_seed=None)"
   ]
  },
  {
   "cell_type": "code",
   "execution_count": 13,
   "metadata": {},
   "outputs": [],
   "source": [
    "def Gaussian(x,Mu,Sigma):\n",
    "    return 1/np.sqrt(np.pi*2.)/Sigma*np.exp(-0.5*(x-Mu)**2/Sigma**2)"
   ]
  },
  {
   "cell_type": "code",
   "execution_count": 14,
   "metadata": {},
   "outputs": [
    {
     "data": {
      "image/png": "[encoded data removed]",
      "text/plain": [
       "<Figure size 432x288 with 1 Axes>"
      ]
     },
     "metadata": {
      "needs_background": "light"
     },
     "output_type": "display_data"
    }
   ],
   "source": [
    "_, bins,_ = plt.hist(fid_data, density=True,bins=100)\n",
    "plt.axvline(mu_0,color='orange')\n",
    "delta = np.diff(bins) \n",
    "bins  = bins[0:-1]+delta\n",
    "plt.plot(bins,np.squeeze(Gaussian(bins,mu_0,(A_0**2+sigma**2)**(0.5))))\n",
    "plt.show()"
   ]
  },
  {
   "cell_type": "markdown",
   "metadata": {},
   "source": [
    "#### Fit P(A|d) by Fisher Analysis"
   ]
  },
  {
   "cell_type": "markdown",
   "metadata": {},
   "source": [
    "Here, we assume that P(data|parameters) is given. The real data is one a sample drawn from this distribution. From this we want to infer the true parameter distribution P(params|data). The prior P(params) is flat.\n",
    "We want to look at P(params|data) in two ways:  \n",
    "1) brute-force evaluation (this is possible, because we only have two parameters, if we had more this would soon become computationally intractable)    \n",
    "2) Fisher analysis: find the maximum of P(params|data): argmax(P)=params* and fit a Gaussian with mean = param* and C= d/dparams_ij P(params|data)|params=params*"
   ]
  },
  {
   "cell_type": "code",
   "execution_count": 162,
   "metadata": {},
   "outputs": [],
   "source": [
    "#this function returns a 1d Gaussian\n",
    "def get_Gaussian_1d(mu,Sigma):\n",
    "    if np.isscalar(Sigma):\n",
    "        Sigma = np.asarray([Sigma])\n",
    "        mu    = np.asarray([mu])\n",
    "    Sigma = Sigma[np.newaxis,:]\n",
    "    mu = mu[np.newaxis, :] \n",
    "    def Gaussian(x):\n",
    "        if len(mu.shape)<3:\n",
    "            x = x[:,np.newaxis]\n",
    "        else: \n",
    "            x = x[:,np.newaxis, np.newaxis]\n",
    "        return np.prod(1/np.sqrt((2.*np.pi))/Sigma*np.exp(-0.5*(x-mu)**2/Sigma**2),axis=0)    \n",
    "    return Gaussian\n",
    "\n",
    "# 1,100,100 + 20, 1, 1 -> 20, 100, 100\n",
    "# broadcasting rules\n",
    "\n",
    "#this function returns an Nd Gaussian\n",
    "def get_Gaussian_nd(mu,C):\n",
    "    Cinv = np.linalg.inv(C)\n",
    "    N    = mu.shape[-1]\n",
    "    def Gaussian(x):\n",
    "        x_ = x-mu\n",
    "        return 1./np.sqrt(np.linalg.det(C))/np.sqrt((2*np.pi)**N)*np.exp(-0.5*np.einsum('ij,jk,ik->i',x_,Cinv,x_))\n",
    "    return Gaussian"
   ]
  },
  {
   "cell_type": "code",
   "execution_count": 164,
   "metadata": {},
   "outputs": [
    {
     "data": {
      "text/plain": [
       "array([4.3410494e-25])"
      ]
     },
     "execution_count": 164,
     "metadata": {},
     "output_type": "execute_result"
    }
   ],
   "source": [
    "p_of_params(true_params)"
   ]
  },
  {
   "cell_type": "code",
   "execution_count": 165,
   "metadata": {},
   "outputs": [],
   "source": [
    "def get_Sigma(params):\n",
    "    a,b = params\n",
    "    return a**2*3+1.\n",
    "\n",
    "def get_mu(params):\n",
    "    a,b = params\n",
    "    return (b-2)**2"
   ]
  },
  {
   "cell_type": "code",
   "execution_count": 166,
   "metadata": {},
   "outputs": [],
   "source": [
    "# this function returns P(data|params)\n",
    "def data_probability(params,data):\n",
    "    Sigma = get_Sigma(params)\n",
    "    mu    = get_mu(params)\n",
    "    prob  = get_Gaussian_1d(mu, Sigma)\n",
    "    return prob(data)"
   ]
  },
  {
   "cell_type": "code",
   "execution_count": 167,
   "metadata": {},
   "outputs": [],
   "source": [
    "# this function computes the derivative of a function wrt to params\n",
    "def finite_diff(params,func,h=1e-2):\n",
    "    result = np.zeros(len(params))\n",
    "    for ii in range(len(params)):\n",
    "        delta_params     = np.zeros_like(params)\n",
    "        delta_params[ii] = h\n",
    "        derivative       = (func(params+delta_params)-func(params-delta_params))/(2*h)\n",
    "        result[ii]       = derivative \n",
    "    return result"
   ]
  },
  {
   "cell_type": "code",
   "execution_count": 168,
   "metadata": {},
   "outputs": [],
   "source": [
    "from functools import partial"
   ]
  },
  {
   "cell_type": "code",
   "execution_count": 169,
   "metadata": {},
   "outputs": [],
   "source": [
    "# this function draws a data sample from P(data|params)\n",
    "def generate_data(params, dim=1):\n",
    "    Sigma = get_Sigma(params)\n",
    "    mu    = get_mu(params)\n",
    "    data  = Sigma*np.random.randn(dim)+mu\n",
    "    return data"
   ]
  },
  {
   "cell_type": "code",
   "execution_count": 170,
   "metadata": {},
   "outputs": [],
   "source": [
    "# these are pour true, underlying parameters\n",
    "true_params = [1,0.4]"
   ]
  },
  {
   "cell_type": "code",
   "execution_count": 171,
   "metadata": {},
   "outputs": [],
   "source": [
    "# which we use to create one single data sample\n",
    "#data = generate_data(true_params, 20)\n",
    "# to reproduce my results:\n",
    "# data= 3.90317064\n",
    "data = np.array([ 2.06090618,  4.48092513,  1.17320981,  3.04625453, -4.32258493,\n",
    "        0.40626448,  9.08606489, -2.47538908,  2.08928885,  2.66814155,\n",
    "       -0.79153709,  1.73098659, -3.5228314 ,  0.89265149,  8.76756977,\n",
    "        6.49474733,  0.67625195,  1.2988544 , -5.74326933, -1.13509913])"
   ]
  },
  {
   "cell_type": "code",
   "execution_count": 172,
   "metadata": {},
   "outputs": [],
   "source": [
    "p_of_params_log = lambda x: -np.log(partial(data_probability, data=data)(x))\n",
    "p_of_params = partial(data_probability, data=data)\n",
    "deriv       = partial(finite_diff,func=p_of_params, h=1e-3)"
   ]
  },
  {
   "cell_type": "code",
   "execution_count": 173,
   "metadata": {},
   "outputs": [
    {
     "data": {
      "text/plain": [
       "array([-1.05797857e-26,  2.11135770e-24])"
      ]
     },
     "execution_count": 173,
     "metadata": {},
     "output_type": "execute_result"
    }
   ],
   "source": [
    "deriv(true_params)"
   ]
  },
  {
   "cell_type": "code",
   "execution_count": 177,
   "metadata": {},
   "outputs": [
    {
     "name": "stdout",
     "output_type": "stream",
     "text": [
      "(100, 100)\n",
      "(20,)\n"
     ]
    },
    {
     "data": {
      "image/png": "[encoded data removed]",
      "text/plain": [
       "<Figure size 432x288 with 1 Axes>"
      ]
     },
     "metadata": {
      "needs_background": "light"
     },
     "output_type": "display_data"
    }
   ],
   "source": [
    "#  let's first sample P(params|data) on a grid\n",
    "a_ = np.linspace(-5,5,100)\n",
    "b_ = np.linspace(-2,6,100)\n",
    "a_, b_ = np.meshgrid(a_,b_)\n",
    "p  = p_of_params([a_,b_])\n",
    "print(a_.shape)\n",
    "print(data.shape)\n",
    "\n",
    "# and plot \n",
    "fig,ax=plt.subplots(1,1)\n",
    "cp = ax.contourf(a_, b_, p)\n",
    "plt.scatter(true_params[0],true_params[1],color='red')\n",
    "plt.show()"
   ]
  },
  {
   "cell_type": "code",
   "execution_count": 178,
   "metadata": {},
   "outputs": [],
   "source": [
    "# now let's turn to the Fisher analysis\n",
    "from scipy.optimize import fsolve, minimize"
   ]
  },
  {
   "cell_type": "code",
   "execution_count": 179,
   "metadata": {},
   "outputs": [],
   "source": [
    "# these are our starting guesses for the minimization\n",
    "params_init = [0.5,1.]"
   ]
  },
  {
   "cell_type": "code",
   "execution_count": 180,
   "metadata": {},
   "outputs": [
    {
     "name": "stdout",
     "output_type": "stream",
     "text": [
      "(array([1.17084916e-15, 2.00000000e+00]), {'nfev': 185, 'fjac': array([[-0.99976388, -0.02173001],\n",
      "       [ 0.02173001, -0.99976388]]), 'r': array([ 2.51356345e-76, -1.26748128e-78,  8.33612294e-78]), 'qtf': array([ 2.89919053e-89, -1.12094844e-89]), 'fvec': array([-0.00000000e+00, -2.24720465e-91])}, 1, 'The solution converged.')\n",
      "[1.17084916e-15 2.00000000e+00]\n",
      "[0.00000000e+00 2.24720465e-91]\n"
     ]
    },
    {
     "data": {
      "image/png": "[encoded data removed]",
      "text/plain": [
       "<Figure size 432x288 with 2 Axes>"
      ]
     },
     "metadata": {
      "needs_background": "light"
     },
     "output_type": "display_data"
    }
   ],
   "source": [
    "# this solver tries to minimize the derivative, to find the maximum\n",
    "output= fsolve(lambda x: -deriv(x),params_init,full_output=True,maxfev=1000,xtol=1e-10)\n",
    "print(output)\n",
    "best_params= output[0]\n",
    "print(best_params)\n",
    "print(deriv(best_params))\n",
    "\n",
    "fig,ax=plt.subplots(1,1)\n",
    "cp = ax.contourf(a_, b_, p)\n",
    "plt.scatter(best_params[0],best_params[1],color='red',label='best')\n",
    "plt.scatter(params_init[0],params_init[1],color='skyblue',label='init')\n",
    "plt.scatter(true_params[0],true_params[1],color='yellow',label='true')\n",
    "fig.colorbar(cp)\n",
    "plt.legend()\n",
    "plt.show()\n",
    "\n",
    "# for these starting values, it finds a saddle point and not the maximum!"
   ]
  },
  {
   "cell_type": "code",
   "execution_count": 181,
   "metadata": {},
   "outputs": [
    {
     "name": "stdout",
     "output_type": "stream",
     "text": [
      " final_simplex: (array([[0.96763151, 0.84065749],\n",
      "       [0.96765398, 0.84067613],\n",
      "       [0.96764634, 0.84061674]]), array([-1.14561122e-24, -1.14561122e-24, -1.14561122e-24]))\n",
      "           fun: -1.1456112172148218e-24\n",
      "       message: 'Optimization terminated successfully.'\n",
      "          nfev: 78\n",
      "           nit: 40\n",
      "        status: 0\n",
      "       success: True\n",
      "             x: array([0.96763151, 0.84065749])\n",
      "[0.96763151 0.84065749]\n",
      "[1.32100389e-27 2.10928778e-29]\n"
     ]
    },
    {
     "data": {
      "image/png": "[encoded data removed]",
      "text/plain": [
       "<Figure size 432x288 with 2 Axes>"
      ]
     },
     "metadata": {
      "needs_background": "light"
     },
     "output_type": "display_data"
    }
   ],
   "source": [
    "#let's switch to minimization instead. This is the Nelder-Mead algorithm\n",
    "result = minimize(lambda params: -p_of_params(params),params_init, method='Nelder-Mead')\n",
    "print(result)\n",
    "best_params=result['x']\n",
    "\n",
    "print(best_params)\n",
    "print(deriv(best_params))\n",
    "\n",
    "fig,ax=plt.subplots(1,1)\n",
    "cp = ax.contourf(a_, b_, p)\n",
    "plt.scatter(best_params[0],best_params[1],color='red',label='best')\n",
    "plt.scatter(params_init[0],params_init[1],color='skyblue',label='init')\n",
    "plt.scatter(true_params[0],true_params[1],color='yellow',label='true')\n",
    "fig.colorbar(cp)\n",
    "plt.legend()\n",
    "plt.show()\n",
    "## -> it works very well"
   ]
  },
  {
   "cell_type": "code",
   "execution_count": 182,
   "metadata": {},
   "outputs": [
    {
     "name": "stdout",
     "output_type": "stream",
     "text": [
      "      fun: array([-2.60027198e-34])\n",
      " hess_inv: <2x2 LbfgsInvHessProduct with dtype=float64>\n",
      "      jac: array([-3.37502381e-32,  1.16854478e-33])\n",
      "  message: b'ABNORMAL_TERMINATION_IN_LNSRCH'\n",
      "     nfev: 1\n",
      "      nit: 0\n",
      "   status: 2\n",
      "  success: False\n",
      "        x: array([0.5, 1. ])\n",
      "[0.5 1. ]\n",
      "[ 3.37502381e-32 -1.16854478e-33]\n"
     ]
    },
    {
     "data": {
      "image/png": "[encoded data removed]",
      "text/plain": [
       "<Figure size 432x288 with 2 Axes>"
      ]
     },
     "metadata": {
      "needs_background": "light"
     },
     "output_type": "display_data"
    }
   ],
   "source": [
    "#let's try another algorithm\n",
    "result = minimize(lambda params: -p_of_params(params),params_init, jac=lambda params: -deriv(params), method='L-BFGS-B', options=dict(gtol=1e-40,ftol=1e-40))\n",
    "print(result)\n",
    "best_params=result['x']\n",
    "\n",
    "print(best_params)\n",
    "print(deriv(best_params))\n",
    "\n",
    "fig,ax=plt.subplots(1,1)\n",
    "cp = ax.contourf(a_, b_, p)\n",
    "plt.scatter(best_params[0],best_params[1],color='red',label='best')\n",
    "plt.scatter(params_init[0],params_init[1],color='skyblue',label='init')\n",
    "plt.scatter(true_params[0],true_params[1],color='yellow',label='true')\n",
    "fig.colorbar(cp)\n",
    "plt.legend()\n",
    "plt.show()\n",
    "## -> it works very well, too, but try a different starting value: (2,2), what happens there?"
   ]
  },
  {
   "cell_type": "markdown",
   "metadata": {},
   "source": [
    "Can you try other algorithms? :) \n",
    "https://docs.scipy.org/doc/scipy/reference/generated/scipy.optimize.minimize.html\n",
    "Some of them require a Hessian - you might already have a finite differencing function for Hessians. (See also next question)\n",
    "Try to find out what these different algorithms do differently."
   ]
  },
  {
   "cell_type": "markdown",
   "metadata": {},
   "source": [
    "If you have coded the Hessian yourself and want to check your implementation, or if you want to skip that step and get the Hessian for free, check out 'numdifftools'. To install simply run \"pip install numdifftools\" after activating your conda environment.\n"
   ]
  },
  {
   "cell_type": "markdown",
   "metadata": {},
   "source": [
    "Can you compute the Fisher information from finite differencing and plot the Gaussian that we get to approximate P(params|data) from the Fisher analysis?"
   ]
  },
  {
   "cell_type": "code",
   "execution_count": 183,
   "metadata": {
    "scrolled": true,
    "tags": [
     "remove_cell"
    ]
   },
   "outputs": [
    {
     "name": "stdout",
     "output_type": "stream",
     "text": [
      "[[0.00194753 0.0013874 ]\n",
      " [0.0013874  0.04722373]] [[524.44711603 -15.40792945]\n",
      " [-15.40792945  21.62846956]]\n"
     ]
    },
    {
     "name": "stderr",
     "output_type": "stream",
     "text": [
      "/home/nessa/miniconda3/envs/fwdmodel/lib/python3.7/site-packages/ipykernel_launcher.py:1: RuntimeWarning: divide by zero encountered in log\n",
      "  \"\"\"Entry point for launching an IPython kernel.\n"
     ]
    }
   ],
   "source": [
    "import numdifftools as nd\n",
    "F           = nd.Hessian(p_of_params_log)(best_params)\n",
    "C           = np.linalg.inv(F)\n",
    "print(C, F)"
   ]
  },
  {
   "cell_type": "code",
   "execution_count": 184,
   "metadata": {
    "tags": [
     "remove_cell"
    ]
   },
   "outputs": [
    {
     "name": "stdout",
     "output_type": "stream",
     "text": [
      "[0.5 1. ]\n"
     ]
    }
   ],
   "source": [
    "approx_posterior = get_Gaussian_nd(best_params,C)\n",
    "print(best_params)"
   ]
  },
  {
   "cell_type": "code",
   "execution_count": 185,
   "metadata": {},
   "outputs": [
    {
     "data": {
      "text/plain": [
       "(array([0.5, 1. ]), array([[0.00194753, 0.0013874 ],\n",
       "        [0.0013874 , 0.04722373]]))"
      ]
     },
     "execution_count": 185,
     "metadata": {},
     "output_type": "execute_result"
    }
   ],
   "source": [
    "best_params, C"
   ]
  },
  {
   "cell_type": "code",
   "execution_count": 186,
   "metadata": {},
   "outputs": [
    {
     "data": {
      "text/plain": [
       "array([16.77223103])"
      ]
     },
     "execution_count": 186,
     "metadata": {},
     "output_type": "execute_result"
    }
   ],
   "source": [
    "approx_posterior(best_params[np.newaxis,:])"
   ]
  },
  {
   "cell_type": "code",
   "execution_count": 187,
   "metadata": {
    "tags": [
     "remove_cell"
    ]
   },
   "outputs": [],
   "source": [
    "pp = approx_posterior(np.vstack((a_.flatten(),b_.flatten())).T).reshape(a_.shape)"
   ]
  },
  {
   "cell_type": "code",
   "execution_count": 188,
   "metadata": {
    "tags": [
     "remove_cell"
    ]
   },
   "outputs": [
    {
     "data": {
      "image/png": "[encoded data removed]",
      "text/plain": [
       "<Figure size 432x288 with 2 Axes>"
      ]
     },
     "metadata": {
      "needs_background": "light"
     },
     "output_type": "display_data"
    }
   ],
   "source": [
    "fig,ax = plt.subplots(1,1)\n",
    "\n",
    "cp =ax.contourf(a_,b_,pp)\n",
    "fig.colorbar(cp)\n",
    "plt.show()"
   ]
  },
  {
   "cell_type": "markdown",
   "metadata": {},
   "source": [
    "What do you notice? Is it a good approximation? Why? Why not?\n",
    "How could we improve on this?"
   ]
  },
  {
   "cell_type": "markdown",
   "metadata": {},
   "source": [
    "Imagine we can do more than one measurement. How would we combine many data points? \n",
    "Can you get and plot the the posterior P(params|data1,data2,data3...) ?"
   ]
  },
  {
   "cell_type": "code",
   "execution_count": null,
   "metadata": {},
   "outputs": [],
   "source": []
  }
 ],
 "metadata": {
  "kernelspec": {
   "display_name": "fwdmodel",
   "language": "python",
   "name": "fwdmodel"
  },
  "language_info": {
   "codemirror_mode": {
    "name": "ipython",
    "version": 3
   },
   "file_extension": ".py",
   "mimetype": "text/x-python",
   "name": "python",
   "nbconvert_exporter": "python",
   "pygments_lexer": "ipython3",
   "version": "3.7.4"
  }
 },
 "nbformat": 4,
 "nbformat_minor": 4
}
