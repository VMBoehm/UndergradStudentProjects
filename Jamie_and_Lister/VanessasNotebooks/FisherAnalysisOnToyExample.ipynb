{
 "cells": [
  {
   "cell_type": "code",
   "execution_count": 2,
   "metadata": {},
   "outputs": [],
   "source": [
    "import numpy as np\n",
    "import matplotlib.pyplot as plt"
   ]
  },
  {
   "cell_type": "markdown",
   "metadata": {},
   "source": [
    "Data Model: data = signal+noise    \n",
    "signal           = Ax+mu  \n",
    "x is a random number drawn from a standard normal distribution, < x >=0, <x^2>=1    \n",
    "the noise is Gaussian with mean =< noise >=0 and variance = < ( x-< x >)**2 >=sigma^2\n",
    "\n",
    "A and mu depend on the parameters a,b. a and b are the parameters we are interested in inferring."
   ]
  },
  {
   "cell_type": "code",
   "execution_count": 3,
   "metadata": {},
   "outputs": [],
   "source": [
    "#get A as a function of a,b\n",
    "def get_A(a,b,dim=1):\n",
    "    A = a**2*np.ones((dim,dim))+b/2.\n",
    "    return A"
   ]
  },
  {
   "cell_type": "code",
   "execution_count": 4,
   "metadata": {},
   "outputs": [],
   "source": [
    "#get mu as a function of a,b\n",
    "def get_mu(a,b, dim=1):\n",
    "    mu = a**3/np.exp(b)*np.ones(dim)\n",
    "    return mu"
   ]
  },
  {
   "cell_type": "markdown",
   "metadata": {},
   "source": [
    "Fiducial Parameters (this is the underlying truth)"
   ]
  },
  {
   "cell_type": "code",
   "execution_count": 5,
   "metadata": {},
   "outputs": [],
   "source": [
    "a_0=2; b_0=0.5"
   ]
  },
  {
   "cell_type": "code",
   "execution_count": 6,
   "metadata": {},
   "outputs": [],
   "source": [
    "A_0  = get_A(a_0,b_0)\n",
    "mu_0 = get_mu(a_0, b_0)"
   ]
  },
  {
   "cell_type": "markdown",
   "metadata": {},
   "source": [
    "Noise level"
   ]
  },
  {
   "cell_type": "code",
   "execution_count": 7,
   "metadata": {},
   "outputs": [],
   "source": [
    "sigma = 0.1"
   ]
  },
  {
   "cell_type": "code",
   "execution_count": 8,
   "metadata": {},
   "outputs": [],
   "source": [
    "def generate_noise(sigma,dim=1,nsamples=100,rand_seed=None):\n",
    "    np.random.seed(rand_seed)\n",
    "    noise = np.random.randn(nsamples,dim)*sigma\n",
    "    return noise"
   ]
  },
  {
   "cell_type": "code",
   "execution_count": 9,
   "metadata": {},
   "outputs": [],
   "source": [
    "def generate_signal(A,mu,sigma,dim=1, nsamples=100,rand_seed=None):\n",
    "    np.random.seed(rand_seed)\n",
    "    x      = np.random.randn(nsamples,dim)\n",
    "    signal = A*x+mu\n",
    "    return signal"
   ]
  },
  {
   "cell_type": "code",
   "execution_count": 10,
   "metadata": {},
   "outputs": [],
   "source": [
    "def generate_data(A,mu,sigma,dim,nsamples,rand_seed=None):\n",
    "    \n",
    "    signal = generate_signal(A,mu,sigma,dim,nsamples,rand_seed)\n",
    "    noise  = generate_noise(sigma,dim,nsamples,rand_seed)\n",
    "    \n",
    "    data   = signal+noise\n",
    "    \n",
    "    return data"
   ]
  },
  {
   "cell_type": "markdown",
   "metadata": {},
   "source": [
    "fiducial data (that's the assumed truth)"
   ]
  },
  {
   "cell_type": "code",
   "execution_count": 11,
   "metadata": {},
   "outputs": [],
   "source": [
    "fid_data = generate_data(A_0,mu_0,sigma,dim=1, nsamples=1000,rand_seed=None)"
   ]
  },
  {
   "cell_type": "code",
   "execution_count": 12,
   "metadata": {},
   "outputs": [],
   "source": [
    "def Gaussian(x,Mu,Sigma):\n",
    "    return 1/np.sqrt(np.pi*2.)/Sigma*np.exp(-0.5*(x-Mu)**2/Sigma**2)"
   ]
  },
  {
   "cell_type": "code",
   "execution_count": 13,
   "metadata": {},
   "outputs": [
    {
     "data": {
      "image/png": "[encoded data removed]",
      "text/plain": [
       "<Figure size 432x288 with 1 Axes>"
      ]
     },
     "metadata": {
      "needs_background": "light"
     },
     "output_type": "display_data"
    }
   ],
   "source": [
    "_, bins,_ = plt.hist(fid_data, density=True,bins=100)\n",
    "plt.axvline(mu_0,color='orange')\n",
    "delta = np.diff(bins) \n",
    "bins  = bins[0:-1]+delta\n",
    "plt.plot(bins,np.squeeze(Gaussian(bins,mu_0,(A_0**2+sigma**2)**(0.5))))\n",
    "plt.show()"
   ]
  },
  {
   "cell_type": "markdown",
   "metadata": {},
   "source": [
    "#### Fit P(A|d) by Fisher Analysis"
   ]
  },
  {
   "cell_type": "code",
   "execution_count": 14,
   "metadata": {},
   "outputs": [],
   "source": [
    "def get_Gaussian(mu,Sigma):\n",
    "    \n",
    "    def Gaussian(x):\n",
    "        return 1/np.sqrt((2.*np.pi))/Sigma*np.exp(-0.5*(x-mu)**2/Sigma**2)\n",
    "    \n",
    "    return Gaussian"
   ]
  },
  {
   "cell_type": "code",
   "execution_count": 104,
   "metadata": {},
   "outputs": [],
   "source": [
    "def get_Sigma(params):\n",
    "    a,b = params\n",
    "    return a**2+1\n",
    "\n",
    "def get_mu(params):\n",
    "    a,b = params\n",
    "    return (b-2)**2"
   ]
  },
  {
   "cell_type": "code",
   "execution_count": 105,
   "metadata": {},
   "outputs": [],
   "source": [
    "def data_probability(params,data):\n",
    "    Sigma = get_Sigma(params)\n",
    "    mu    = get_mu(params)\n",
    "    prob  = get_Gaussian(mu, Sigma)\n",
    "    return prob(data)"
   ]
  },
  {
   "cell_type": "code",
   "execution_count": 106,
   "metadata": {},
   "outputs": [],
   "source": [
    "def finite_diff(params,func):\n",
    "    delta_params = np.asarray(params)*0.02\n",
    "    derivative = (func(params+delta_params)-func(params-delta_params))/(2*delta_params)\n",
    "    return derivative"
   ]
  },
  {
   "cell_type": "code",
   "execution_count": 107,
   "metadata": {},
   "outputs": [],
   "source": [
    "from functools import partial"
   ]
  },
  {
   "cell_type": "code",
   "execution_count": 108,
   "metadata": {},
   "outputs": [],
   "source": [
    "def generate_data(params):\n",
    "    Sigma = get_Sigma(params)\n",
    "    mu    = get_mu(params)\n",
    "    data  = Sigma*np.random.randn(1)+mu\n",
    "    return data"
   ]
  },
  {
   "cell_type": "code",
   "execution_count": 109,
   "metadata": {},
   "outputs": [],
   "source": [
    "true_params = [1.5,2]"
   ]
  },
  {
   "cell_type": "code",
   "execution_count": 110,
   "metadata": {},
   "outputs": [
    {
     "name": "stdout",
     "output_type": "stream",
     "text": [
      "[3.71343085]\n"
     ]
    }
   ],
   "source": [
    "data = generate_data(true_params)\n",
    "print(data)"
   ]
  },
  {
   "cell_type": "code",
   "execution_count": 111,
   "metadata": {},
   "outputs": [],
   "source": [
    "p_of_params = partial(data_probability, data=data)\n",
    "deriv       = partial(finite_diff,func=p_of_params)"
   ]
  },
  {
   "cell_type": "code",
   "execution_count": 112,
   "metadata": {},
   "outputs": [],
   "source": [
    "from scipy.optimize import fsolve, minimize"
   ]
  },
  {
   "cell_type": "code",
   "execution_count": 125,
   "metadata": {},
   "outputs": [],
   "source": [
    "params_init = [1.,2.]"
   ]
  },
  {
   "cell_type": "code",
   "execution_count": 141,
   "metadata": {},
   "outputs": [
    {
     "name": "stdout",
     "output_type": "stream",
     "text": [
      "(array([0.68824646, 1.37649296]), {'nfev': 14, 'fjac': array([[-0.59351745,  0.80482112],\n",
      "       [-0.80482112, -0.59351745]]), 'r': array([ 0.03951595, -0.08027564, -0.34883639]), 'qtf': array([2.40842233e-17, 1.38826461e-16]), 'fvec': array([-1.26024874e-16, -6.30124355e-17])}, 1, 'The solution converged.')\n",
      "[0.68824646 1.37649296]\n"
     ]
    }
   ],
   "source": [
    "# this solver is not working well, as you can see\n",
    "output= fsolve(deriv,params_init,full_output=True,maxfev=1000,xtol=1e-10)\n",
    "print(output)\n",
    "best_params= output[0]\n",
    "print(best_params)"
   ]
  },
  {
   "cell_type": "code",
   "execution_count": 151,
   "metadata": {},
   "outputs": [],
   "source": [
    "# here we sample the probability distribution on a grid\n",
    "# (I think that's what Lister tried to do, or maybe even did?)\n",
    "a_ = np.linspace(-5,5,100)\n",
    "b_ = np.linspace(-2,5,100)\n",
    "a_, b_ = np.meshgrid(a_,b_)\n",
    "p  = p_of_params([a_,b_])\n"
   ]
  },
  {
   "cell_type": "code",
   "execution_count": 152,
   "metadata": {},
   "outputs": [
    {
     "data": {
      "text/plain": [
       "<matplotlib.colorbar.Colorbar at 0x7ff46de8fd10>"
      ]
     },
     "execution_count": 152,
     "metadata": {},
     "output_type": "execute_result"
    },
    {
     "data": {
      "image/png": "[encoded data removed]",
      "text/plain": [
       "<Figure size 432x288 with 2 Axes>"
      ]
     },
     "metadata": {
      "needs_background": "light"
     },
     "output_type": "display_data"
    }
   ],
   "source": [
    "fig,ax=plt.subplots(1,1)\n",
    "cp = ax.contourf(a_, b_, p)\n",
    "plt.scatter(best_params[0],best_params[1],color='red')\n",
    "plt.scatter(params_init[0],params_init[1],color='skyblue')\n",
    "fig.colorbar(cp)"
   ]
  },
  {
   "cell_type": "code",
   "execution_count": 153,
   "metadata": {},
   "outputs": [
    {
     "name": "stdout",
     "output_type": "stream",
     "text": [
      " final_simplex: (array([[-9.50122415e-06,  3.92703944e+00],\n",
      "       [-3.71798453e-05,  3.92703253e+00],\n",
      "       [ 7.78472166e-05,  3.92701819e+00]]), array([-0.39894228, -0.39894228, -0.39894228]))\n",
      "           fun: -0.39894227986347475\n",
      "       message: 'Optimization terminated successfully.'\n",
      "          nfev: 96\n",
      "           nit: 49\n",
      "        status: 0\n",
      "       success: True\n",
      "             x: array([-9.50122415e-06,  3.92703944e+00])\n"
     ]
    }
   ],
   "source": [
    "#let's switch to minimization instead\n",
    "result = minimize(lambda params: -p_of_params(params),params_init, jac=lambda params: -deriv(params), method='Nelder-Mead')\n",
    "print(result)\n",
    "best_params=result['x']"
   ]
  },
  {
   "cell_type": "code",
   "execution_count": 154,
   "metadata": {},
   "outputs": [
    {
     "data": {
      "text/plain": [
       "<matplotlib.colorbar.Colorbar at 0x7ff46ddeecd0>"
      ]
     },
     "execution_count": 154,
     "metadata": {},
     "output_type": "execute_result"
    },
    {
     "data": {
      "image/png": "[encoded data removed]",
      "text/plain": [
       "<Figure size 432x288 with 2 Axes>"
      ]
     },
     "metadata": {
      "needs_background": "light"
     },
     "output_type": "display_data"
    }
   ],
   "source": [
    "fig,ax=plt.subplots(1,1)\n",
    "cp = ax.contourf(a_, b_, p)\n",
    "plt.scatter(best_params[0],best_params[1],color='red')\n",
    "plt.scatter(params_init[0],params_init[1],color='skyblue')\n",
    "fig.colorbar(cp)\n",
    "## -> works much better"
   ]
  },
  {
   "cell_type": "markdown",
   "metadata": {},
   "source": [
    "Can you compute the Fisher information from finite differencing and plot the Gaussian that we get for P(A) from the Fisher analysis?"
   ]
  },
  {
   "cell_type": "code",
   "execution_count": null,
   "metadata": {},
   "outputs": [],
   "source": []
  }
 ],
 "metadata": {
  "kernelspec": {
   "display_name": "Python 3",
   "language": "python",
   "name": "python3"
  },
  "language_info": {
   "codemirror_mode": {
    "name": "ipython",
    "version": 3
   },
   "file_extension": ".py",
   "mimetype": "text/x-python",
   "name": "python",
   "nbconvert_exporter": "python",
   "pygments_lexer": "ipython3",
   "version": "3.7.4"
  }
 },
 "nbformat": 4,
 "nbformat_minor": 4
}
