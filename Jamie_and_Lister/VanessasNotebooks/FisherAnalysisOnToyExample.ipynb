{
 "cells": [
  {
   "cell_type": "code",
   "execution_count": 1,
   "metadata": {},
   "outputs": [],
   "source": [
    "import numpy as np\n",
    "import matplotlib.pyplot as plt"
   ]
  },
  {
   "cell_type": "markdown",
   "metadata": {},
   "source": [
    "Data Model: data = signal+noise    \n",
    "signal           = Ax+mu  \n",
    "x is a random number drawn from a standard normal distribution, < x >=0, <x^2>=1    \n",
    "the noise is Gaussian with mean =< noise >=0 and variance = < ( x-< x >)**2 >=sigma^2\n",
    "\n",
    "A and mu depend on the parameters a,b. a and b are the parameters we are interested in inferring."
   ]
  },
  {
   "cell_type": "code",
   "execution_count": 2,
   "metadata": {},
   "outputs": [],
   "source": [
    "#get A as a function of a,b\n",
    "def get_A(a,b,dim=1):\n",
    "    A = a**2*np.ones((dim,dim))+b/2.\n",
    "    return A"
   ]
  },
  {
   "cell_type": "code",
   "execution_count": 3,
   "metadata": {},
   "outputs": [],
   "source": [
    "#get mu as a function of a,b\n",
    "def get_mu(a,b, dim=1):\n",
    "    mu = a**3/np.exp(b)*np.ones(dim)\n",
    "    return mu"
   ]
  },
  {
   "cell_type": "markdown",
   "metadata": {},
   "source": [
    "Fiducial Parameters (this is the underlying truth)"
   ]
  },
  {
   "cell_type": "code",
   "execution_count": 4,
   "metadata": {},
   "outputs": [],
   "source": [
    "a_0=2; b_0=0.5"
   ]
  },
  {
   "cell_type": "code",
   "execution_count": 5,
   "metadata": {},
   "outputs": [],
   "source": [
    "A_0  = get_A(a_0,b_0)\n",
    "mu_0 = get_mu(a_0, b_0)"
   ]
  },
  {
   "cell_type": "markdown",
   "metadata": {},
   "source": [
    "Noise level"
   ]
  },
  {
   "cell_type": "code",
   "execution_count": 6,
   "metadata": {},
   "outputs": [],
   "source": [
    "sigma = 0.1"
   ]
  },
  {
   "cell_type": "code",
   "execution_count": 7,
   "metadata": {},
   "outputs": [],
   "source": [
    "def generate_noise(sigma,dim=1,nsamples=100,rand_seed=None):\n",
    "    np.random.seed(rand_seed)\n",
    "    noise = np.random.randn(nsamples,dim)*sigma\n",
    "    return noise"
   ]
  },
  {
   "cell_type": "code",
   "execution_count": 8,
   "metadata": {},
   "outputs": [],
   "source": [
    "def generate_signal(A,mu,sigma,dim=1, nsamples=100,rand_seed=None):\n",
    "    \n",
    "    np.random.seed(rand_seed)\n",
    "    x      = np.random.randn(nsamples,dim)\n",
    "    signal = A*x+mu\n",
    "    \n",
    "    return signal"
   ]
  },
  {
   "cell_type": "code",
   "execution_count": 9,
   "metadata": {},
   "outputs": [],
   "source": [
    "def generate_data(A,mu,sigma,dim,nsamples,rand_seed=None):\n",
    "    \n",
    "    signal = generate_signal(A,mu,sigma,dim,nsamples,rand_seed)\n",
    "    noise  = generate_noise(sigma,dim,nsamples,rand_seed)\n",
    "    data   = signal+noise\n",
    "    \n",
    "    return data"
   ]
  },
  {
   "cell_type": "markdown",
   "metadata": {},
   "source": [
    "fiducial data (that's the assumed truth)"
   ]
  },
  {
   "cell_type": "code",
   "execution_count": 10,
   "metadata": {},
   "outputs": [],
   "source": [
    "fid_data = generate_data(A_0,mu_0,sigma,dim=1, nsamples=1000,rand_seed=None)"
   ]
  },
  {
   "cell_type": "code",
   "execution_count": 11,
   "metadata": {},
   "outputs": [],
   "source": [
    "def Gaussian(x,Mu,Sigma):\n",
    "    return 1/np.sqrt(np.pi*2.)/Sigma*np.exp(-0.5*(x-Mu)**2/Sigma**2)"
   ]
  },
  {
   "cell_type": "code",
   "execution_count": 12,
   "metadata": {},
   "outputs": [
    {
     "data": {
      "image/png": "[encoded data removed]",
      "text/plain": [
       "<Figure size 432x288 with 1 Axes>"
      ]
     },
     "metadata": {
      "needs_background": "light"
     },
     "output_type": "display_data"
    }
   ],
   "source": [
    "_, bins,_ = plt.hist(fid_data, density=True,bins=100)\n",
    "plt.axvline(mu_0,color='orange')\n",
    "delta = np.diff(bins) \n",
    "bins  = bins[0:-1]+delta\n",
    "plt.plot(bins,np.squeeze(Gaussian(bins,mu_0,(A_0**2+sigma**2)**(0.5))))\n",
    "plt.show()"
   ]
  },
  {
   "cell_type": "markdown",
   "metadata": {},
   "source": [
    "#### Fit P(A|d) by Fisher Analysis"
   ]
  },
  {
   "cell_type": "markdown",
   "metadata": {},
   "source": [
    "Here, we assume that P(data|parameters) is given. The real data is one a sample drawn from this distribution. From this we want to infer the true parameter distribution P(params|data). The prior P(params) is flat.\n",
    "We want to look at P(params|data) in two ways:  \n",
    "1) brute-force evaluation (this is possible, because we only have two parameters, if we had more this would soon become computationally intractable)    \n",
    "2) Fisher analysis: find the maximum of P(params|data): argmax(P)=params* and fit a Gaussian with mean = param* and C= d/dparams_ij P(params|data)|params=params*"
   ]
  },
  {
   "cell_type": "code",
   "execution_count": 37,
   "metadata": {},
   "outputs": [],
   "source": [
    "#this function returns a 1d Gaussian\n",
    "def get_Gaussian_1d(mu,Sigma):    \n",
    "    def Gaussian(x):\n",
    "        return 1/np.sqrt((2.*np.pi))/Sigma*np.exp(-0.5*(x-mu)**2/Sigma**2)    \n",
    "    return Gaussian\n",
    "\n",
    "#this function returns an Nd Gaussian\n",
    "def get_Gaussian_nd(mu,C):\n",
    "    Cinv = np.linalg.inv(C)\n",
    "    N    = mu.shape[-1]\n",
    "    def Gaussian(x):\n",
    "        x_ = x-mu\n",
    "        return 1./np.sqrt(np.linalg.det(2*np.pi*C))*np.exp(-0.5*np.einsum('ij,jk,ik->i',x_,Cinv,x_))\n",
    "    return Gaussian"
   ]
  },
  {
   "cell_type": "code",
   "execution_count": 14,
   "metadata": {},
   "outputs": [],
   "source": [
    "def get_Sigma(params):\n",
    "    a,b = params\n",
    "    return a**2*3+1.\n",
    "\n",
    "def get_mu(params):\n",
    "    a,b = params\n",
    "    return (b-2)**2"
   ]
  },
  {
   "cell_type": "code",
   "execution_count": 15,
   "metadata": {},
   "outputs": [],
   "source": [
    "# this function returns P(data|params)\n",
    "def data_probability(params,data):\n",
    "    Sigma = get_Sigma(params)\n",
    "    mu    = get_mu(params)\n",
    "    prob  = get_Gaussian_1d(mu, Sigma)\n",
    "    return prob(data)"
   ]
  },
  {
   "cell_type": "code",
   "execution_count": 16,
   "metadata": {},
   "outputs": [],
   "source": [
    "# this function computes the derivative of a function wrt to params\n",
    "def finite_diff(params,func,h=1e-2):\n",
    "    result = np.zeros(len(params))\n",
    "    for ii in range(len(params)):\n",
    "        delta_params     = np.zeros_like(params)\n",
    "        delta_params[ii] = h\n",
    "        derivative       = (func(params+delta_params)-func(params-delta_params))/(2*h)\n",
    "        result[ii]       = derivative \n",
    "    return result"
   ]
  },
  {
   "cell_type": "code",
   "execution_count": 17,
   "metadata": {},
   "outputs": [],
   "source": [
    "from functools import partial"
   ]
  },
  {
   "cell_type": "code",
   "execution_count": 18,
   "metadata": {},
   "outputs": [],
   "source": [
    "# this function draws a data sample from P(data|params)\n",
    "def generate_data(params):\n",
    "    Sigma = get_Sigma(params)\n",
    "    mu    = get_mu(params)\n",
    "    data  = Sigma*np.random.randn(1)+mu\n",
    "    return data"
   ]
  },
  {
   "cell_type": "code",
   "execution_count": 19,
   "metadata": {},
   "outputs": [],
   "source": [
    "# these are pour true, underlying parameters\n",
    "true_params = [1,0.4]"
   ]
  },
  {
   "cell_type": "code",
   "execution_count": 20,
   "metadata": {},
   "outputs": [],
   "source": [
    "# which we use to create one single data sample\n",
    "data = generate_data(true_params)\n",
    "# to reproduce my results:\n",
    "# data= 3.90317064"
   ]
  },
  {
   "cell_type": "code",
   "execution_count": 21,
   "metadata": {},
   "outputs": [],
   "source": [
    "p_of_params = partial(data_probability, data=data)\n",
    "deriv       = partial(finite_diff,func=p_of_params, h=1e-3)"
   ]
  },
  {
   "cell_type": "code",
   "execution_count": 22,
   "metadata": {},
   "outputs": [
    {
     "data": {
      "image/png": "[encoded data removed]",
      "text/plain": [
       "<Figure size 432x288 with 1 Axes>"
      ]
     },
     "metadata": {
      "needs_background": "light"
     },
     "output_type": "display_data"
    }
   ],
   "source": [
    "#  let's first sample P(params|data) on a grid\n",
    "a_ = np.linspace(-5,5,100)\n",
    "b_ = np.linspace(-2,6,100)\n",
    "a_, b_ = np.meshgrid(a_,b_)\n",
    "p  = p_of_params([a_,b_])\n",
    "\n",
    "# and plot \n",
    "fig,ax=plt.subplots(1,1)\n",
    "cp = ax.contourf(a_, b_, p)\n",
    "plt.show()"
   ]
  },
  {
   "cell_type": "code",
   "execution_count": 23,
   "metadata": {},
   "outputs": [],
   "source": [
    "# now let's turn to the Fisher analysis\n",
    "from scipy.optimize import fsolve, minimize"
   ]
  },
  {
   "cell_type": "code",
   "execution_count": 24,
   "metadata": {},
   "outputs": [],
   "source": [
    "# these are our starting guesses for the minimization\n",
    "params_init = [0.5,1.]"
   ]
  },
  {
   "cell_type": "code",
   "execution_count": 25,
   "metadata": {},
   "outputs": [
    {
     "name": "stdout",
     "output_type": "stream",
     "text": [
      "(array([ 4.71280649e+12, -2.26065931e+12]), {'nfev': 182, 'fjac': array([[1., 0.],\n",
      "       [0., 1.]]), 'r': array([-0.,  0.,  0.]), 'qtf': array([2.15239444e-39, 0.00000000e+00]), 'fvec': array([ 2.15239444e-39, -0.00000000e+00])}, 5, 'The iteration is not making good progress, as measured by the \\n  improvement from the last ten iterations.')\n",
      "[ 4.71280649e+12 -2.26065931e+12]\n",
      "[-2.15239444e-39  0.00000000e+00]\n"
     ]
    },
    {
     "data": {
      "image/png": "[encoded data removed]",
      "text/plain": [
       "<Figure size 432x288 with 2 Axes>"
      ]
     },
     "metadata": {
      "needs_background": "light"
     },
     "output_type": "display_data"
    }
   ],
   "source": [
    "# this solver tries to minimize the derivative, to find the maximum\n",
    "output= fsolve(lambda x: -deriv(x),params_init,full_output=True,maxfev=1000,xtol=1e-10)\n",
    "print(output)\n",
    "best_params= output[0]\n",
    "print(best_params)\n",
    "print(deriv(best_params))\n",
    "\n",
    "fig,ax=plt.subplots(1,1)\n",
    "cp = ax.contourf(a_, b_, p)\n",
    "plt.scatter(best_params[0],best_params[1],color='red',label='best')\n",
    "plt.scatter(params_init[0],params_init[1],color='skyblue',label='init')\n",
    "plt.scatter(true_params[0],true_params[1],color='yellow',label='true')\n",
    "fig.colorbar(cp)\n",
    "plt.legend()\n",
    "plt.show()\n",
    "\n",
    "# for these starting values, it finds a saddle point and not the maximum!"
   ]
  },
  {
   "cell_type": "code",
   "execution_count": 26,
   "metadata": {},
   "outputs": [
    {
     "name": "stdout",
     "output_type": "stream",
     "text": [
      " final_simplex: (array([[ 3.79635375e-06,  9.80424191e-01],\n",
      "       [-5.85707692e-06,  9.80489709e-01],\n",
      "       [-3.66262924e-05,  9.80451564e-01]]), array([-0.39894228, -0.39894228, -0.39894228]))\n",
      "           fun: -0.39894227971278384\n",
      "       message: 'Optimization terminated successfully.'\n",
      "          nfev: 69\n",
      "           nit: 35\n",
      "        status: 0\n",
      "       success: True\n",
      "             x: array([3.79635375e-06, 9.80424191e-01])\n",
      "[3.79635375e-06 9.80424191e-01]\n",
      "[-9.08710157e-06  4.80099442e-05]\n"
     ]
    },
    {
     "data": {
      "image/png": "[encoded data removed]",
      "text/plain": [
       "<Figure size 432x288 with 2 Axes>"
      ]
     },
     "metadata": {
      "needs_background": "light"
     },
     "output_type": "display_data"
    }
   ],
   "source": [
    "#let's switch to minimization instead. This is the Nelder-Mead algorithm\n",
    "result = minimize(lambda params: -p_of_params(params),params_init, method='Nelder-Mead')\n",
    "print(result)\n",
    "best_params=result['x']\n",
    "\n",
    "print(best_params)\n",
    "print(deriv(best_params))\n",
    "\n",
    "fig,ax=plt.subplots(1,1)\n",
    "cp = ax.contourf(a_, b_, p)\n",
    "plt.scatter(best_params[0],best_params[1],color='red',label='best')\n",
    "plt.scatter(params_init[0],params_init[1],color='skyblue',label='init')\n",
    "plt.scatter(true_params[0],true_params[1],color='yellow',label='true')\n",
    "fig.colorbar(cp)\n",
    "plt.legend()\n",
    "plt.show()\n",
    "## -> it works very well"
   ]
  },
  {
   "cell_type": "code",
   "execution_count": 27,
   "metadata": {},
   "outputs": [
    {
     "name": "stdout",
     "output_type": "stream",
     "text": [
      "      fun: array([-0.39894228])\n",
      " hess_inv: <2x2 LbfgsInvHessProduct with dtype=float64>\n",
      "      jac: array([-1.22255928e-07, -7.87781174e-07])\n",
      "  message: b'CONVERGENCE: REL_REDUCTION_OF_F_<=_FACTR*EPSMCH'\n",
      "     nfev: 34\n",
      "      nit: 6\n",
      "   status: 0\n",
      "  success: True\n",
      "        x: array([-5.10753250e-08,  9.80452658e-01])\n",
      "[-5.10753250e-08  9.80452658e-01]\n",
      "[1.22255928e-07 7.87781174e-07]\n"
     ]
    },
    {
     "data": {
      "image/png": "[encoded data removed]",
      "text/plain": [
       "<Figure size 432x288 with 2 Axes>"
      ]
     },
     "metadata": {
      "needs_background": "light"
     },
     "output_type": "display_data"
    }
   ],
   "source": [
    "#let's try another algorithm\n",
    "result = minimize(lambda params: -p_of_params(params),params_init, jac=lambda params: -deriv(params), method='L-BFGS-B', options=dict(gtol=1e-40,ftol=1e-40))\n",
    "print(result)\n",
    "best_params=result['x']\n",
    "\n",
    "print(best_params)\n",
    "print(deriv(best_params))\n",
    "\n",
    "fig,ax=plt.subplots(1,1)\n",
    "cp = ax.contourf(a_, b_, p)\n",
    "plt.scatter(best_params[0],best_params[1],color='red',label='best')\n",
    "plt.scatter(params_init[0],params_init[1],color='skyblue',label='init')\n",
    "plt.scatter(true_params[0],true_params[1],color='yellow',label='true')\n",
    "fig.colorbar(cp)\n",
    "plt.legend()\n",
    "plt.show()\n",
    "## -> it works very well, too, but try a different starting value: (2,2), what happens there?"
   ]
  },
  {
   "cell_type": "markdown",
   "metadata": {},
   "source": [
    "Can you try other algorithms? :) \n",
    "https://docs.scipy.org/doc/scipy/reference/generated/scipy.optimize.minimize.html\n",
    "Some of them require a Hessian - you might already have a finite differencing function for Hessians. (See also next question)\n",
    "Try to find out what these different algorithms do differently."
   ]
  },
  {
   "cell_type": "markdown",
   "metadata": {},
   "source": [
    "If you have coded the Hessian yourself and want to check your implementation, or if you want to skip that step and get the Hessian for free, check out 'numdifftools'. To install simply run \"pip install numdifftools\" after activating your conda environment.\n"
   ]
  },
  {
   "cell_type": "markdown",
   "metadata": {},
   "source": [
    "Can you compute the Fisher information from finite differencing and plot the Gaussian that we get to approximate P(params|data) from the Fisher analysis?"
   ]
  },
  {
   "cell_type": "code",
   "execution_count": 32,
   "metadata": {
    "scrolled": true,
    "tags": [
     "remove_cell"
    ]
   },
   "outputs": [
    {
     "name": "stdout",
     "output_type": "stream",
     "text": [
      "[[-4.17771379e-01  9.11479463e-14]\n",
      " [ 9.11479463e-14 -6.02858177e-01]] [[-2.39365368e+00 -3.61903721e-13]\n",
      " [-3.61903721e-13 -1.65876493e+00]]\n"
     ]
    }
   ],
   "source": [
    "import numdifftools as nd\n",
    "F           = nd.Hessian(p_of_params)(best_params)\n",
    "C           = np.linalg.inv(F)\n",
    "print(C, F)"
   ]
  },
  {
   "cell_type": "code",
   "execution_count": 33,
   "metadata": {
    "tags": [
     "remove_cell"
    ]
   },
   "outputs": [
    {
     "name": "stdout",
     "output_type": "stream",
     "text": [
      "[-5.10753250e-08  9.80452658e-01]\n"
     ]
    }
   ],
   "source": [
    "approx_posterior = get_Gaussian_nd(best_params,C)\n",
    "print(best_params)"
   ]
  },
  {
   "cell_type": "code",
   "execution_count": 34,
   "metadata": {},
   "outputs": [
    {
     "data": {
      "text/plain": [
       "(array([-5.10753250e-08,  9.80452658e-01]),\n",
       " array([[-4.17771379e-01,  9.11479463e-14],\n",
       "        [ 9.11479463e-14, -6.02858177e-01]]))"
      ]
     },
     "execution_count": 34,
     "metadata": {},
     "output_type": "execute_result"
    }
   ],
   "source": [
    "best_params, C"
   ]
  },
  {
   "cell_type": "code",
   "execution_count": 36,
   "metadata": {},
   "outputs": [
    {
     "data": {
      "text/plain": [
       "array([0.3171343])"
      ]
     },
     "execution_count": 36,
     "metadata": {},
     "output_type": "execute_result"
    }
   ],
   "source": [
    "approx_posterior(best_params[np.newaxis,:])"
   ]
  },
  {
   "cell_type": "code",
   "execution_count": null,
   "metadata": {
    "tags": [
     "remove_cell"
    ]
   },
   "outputs": [],
   "source": [
    "pp = approx_posterior(np.vstack((a_.flatten(),b_.flatten())).T).reshape(a_.shape)"
   ]
  },
  {
   "cell_type": "code",
   "execution_count": null,
   "metadata": {
    "tags": [
     "remove_cell"
    ]
   },
   "outputs": [],
   "source": [
    "fig,ax = plt.subplots(1,1)\n",
    "ax.contourf(a_,b_,np.log(pp))\n",
    "plt.show()"
   ]
  },
  {
   "cell_type": "markdown",
   "metadata": {},
   "source": [
    "What do you notice? Is it a good approximation? Why? Why not?\n",
    "How could we improve on this?"
   ]
  },
  {
   "cell_type": "markdown",
   "metadata": {},
   "source": [
    "Imagine we can do more than one measurement. How would we combine many data points? \n",
    "Can you get and plot the the posterior P(params|data1,data2,data3...) ?"
   ]
  },
  {
   "cell_type": "code",
   "execution_count": null,
   "metadata": {},
   "outputs": [],
   "source": []
  }
 ],
 "metadata": {
  "celltoolbar": "Tags",
  "kernelspec": {
   "display_name": "fwdmodel",
   "language": "python",
   "name": "fwdmodel"
  },
  "language_info": {
   "codemirror_mode": {
    "name": "ipython",
    "version": 3
   },
   "file_extension": ".py",
   "mimetype": "text/x-python",
   "name": "python",
   "nbconvert_exporter": "python",
   "pygments_lexer": "ipython3",
   "version": "3.7.4"
  }
 },
 "nbformat": 4,
 "nbformat_minor": 4
}
