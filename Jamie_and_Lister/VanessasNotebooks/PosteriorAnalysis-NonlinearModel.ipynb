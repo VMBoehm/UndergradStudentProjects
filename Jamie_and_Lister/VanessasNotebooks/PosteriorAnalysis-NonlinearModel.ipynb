{
 "cells": [
  {
   "cell_type": "code",
   "execution_count": 189,
   "metadata": {},
   "outputs": [],
   "source": [
    "import numpy as np\n",
    "import matplotlib.pyplot as plt\n",
    "import scipy"
   ]
  },
  {
   "cell_type": "markdown",
   "metadata": {},
   "source": [
    "### d = f(x,a,b) + n, f a non-linear function, x and n Gaussian variables"
   ]
  },
  {
   "cell_type": "code",
   "execution_count": 166,
   "metadata": {},
   "outputs": [],
   "source": [
    "def f(x,thetas):\n",
    "    np.random.seed(35)\n",
    "    A = np.random.randint(low=1, high=6, size=[x.shape[-1]-1,x.shape[-1]])\n",
    "    print(A)\n",
    "    y = np.einsum('jk,ik->ij',A,x)\n",
    "    return thetas[0]*y+thetas[1]*y**2"
   ]
  },
  {
   "cell_type": "markdown",
   "metadata": {},
   "source": [
    "Noise level"
   ]
  },
  {
   "cell_type": "code",
   "execution_count": 196,
   "metadata": {},
   "outputs": [],
   "source": [
    "# data dimensionality\n",
    "data_dim   = 2\n",
    "sig_dim    = 3\n",
    "# noise level\n",
    "sigma = 2\n",
    "# model parameters\n",
    "theta_true = [2,0.1]\n",
    "theta_fid  = [1.5,0.2]"
   ]
  },
  {
   "cell_type": "code",
   "execution_count": 197,
   "metadata": {},
   "outputs": [],
   "source": [
    "def generate_noise(sigma,dim=1,nsamples=100,rand_seed=None):\n",
    "    np.random.seed(rand_seed)\n",
    "    noise = np.random.randn(nsamples,dim)*sigma\n",
    "    return noise"
   ]
  },
  {
   "cell_type": "code",
   "execution_count": 198,
   "metadata": {},
   "outputs": [],
   "source": [
    "def generate_signal(dim=1, nsamples=100,rand_seed=None):\n",
    "    \n",
    "    np.random.seed(rand_seed)\n",
    "    x      = np.random.randn(nsamples,dim)\n",
    "    \n",
    "    return x"
   ]
  },
  {
   "cell_type": "code",
   "execution_count": 199,
   "metadata": {},
   "outputs": [],
   "source": [
    "def generate_data(thetas,sigma,sig_dim,data_dim,nsamples,rand_seed=None):\n",
    "    \n",
    "    x      = generate_signal(sig_dim,nsamples,rand_seed)\n",
    "    noise  = generate_noise(sigma,data_dim,nsamples,rand_seed)\n",
    "    data   = f(x,thetas)+noise\n",
    "    \n",
    "    return data"
   ]
  },
  {
   "cell_type": "code",
   "execution_count": 200,
   "metadata": {},
   "outputs": [
    {
     "name": "stdout",
     "output_type": "stream",
     "text": [
      "[[2 5 2]\n",
      " [5 1 2]]\n",
      "[[2 5 2]\n",
      " [5 1 2]]\n"
     ]
    }
   ],
   "source": [
    "true_data = generate_data(theta_true,sigma,sig_dim=sig_dim, data_dim=data_dim, nsamples=1,rand_seed=902)\n",
    "fid_data  = generate_data(theta_fid,sigma,sig_dim=sig_dim, data_dim=data_dim, nsamples=10000,rand_seed=104)"
   ]
  },
  {
   "cell_type": "code",
   "execution_count": 201,
   "metadata": {},
   "outputs": [
    {
     "data": {
      "image/png": "[encoded data removed]",
      "text/plain": [
       "<Figure size 432x288 with 2 Axes>"
      ]
     },
     "metadata": {
      "needs_background": "light"
     },
     "output_type": "display_data"
    }
   ],
   "source": [
    "plt.title('data histogram')\n",
    "for ii in range(data_dim):\n",
    "    plt.subplot(1,data_dim,ii+1)\n",
    "    _, bins,_ = plt.hist(fid_data[:,ii], density=True,bins=100)\n",
    "    plt.axvline(true_data[:,ii], c='orange', label='true data')\n",
    "plt.legend()\n",
    "plt.show()"
   ]
  },
  {
   "cell_type": "code",
   "execution_count": 202,
   "metadata": {},
   "outputs": [],
   "source": [
    "def estimate_covariance(data):\n",
    "    mean = np.mean(data)\n",
    "    cov  = np.dot((data-mean).T,(data-mean))\n",
    "    return cov/(len(data)-1)"
   ]
  },
  {
   "cell_type": "code",
   "execution_count": 206,
   "metadata": {},
   "outputs": [
    {
     "data": {
      "image/png": "[encoded data removed]",
      "text/plain": [
       "<Figure size 432x288 with 1 Axes>"
      ]
     },
     "metadata": {
      "needs_background": "light"
     },
     "output_type": "display_data"
    }
   ],
   "source": [
    "n_splits = 100\n",
    "split_data = np.split(fid_data,n_splits)\n",
    "data_chunk = split_data[0]\n",
    "covs = [estimate_covariance(data_chunk)]\n",
    "for ii in range(n_splits-1):\n",
    "    ii+=1\n",
    "    data_chunk=np.concatenate((data_chunk,split_data[ii]),axis=0)\n",
    "    covs.append(estimate_covariance(data_chunk))\n",
    "covs= np.asarray(covs)\n",
    "eigvals = np.linalg.eigvals(covs)\n",
    "\n",
    "plt.title('Eigenvalues of Covariance Matrix')\n",
    "for ii in range(2):\n",
    "    plt.plot((np.arange(n_splits)+1)*(len(fid_data)//n_splits),eigvals[:,ii], marker='o')\n",
    "plt.xlabel('number of sims at fiducial values')\n",
    "plt.show()\n",
    "\n",
    "cov = estimate_covariance(fid_data)"
   ]
  },
  {
   "cell_type": "code",
   "execution_count": 207,
   "metadata": {},
   "outputs": [],
   "source": [
    "def get_Gaussian(mu,Sigma):\n",
    "    \n",
    "    def Gaussian(x):\n",
    "        return 1/np.sqrt((2.*np.pi))/Sigma*np.exp(-0.5*(x-mu)**2/Sigma**2)\n",
    "    \n",
    "    return Gaussian\n",
    "\n",
    "#Gaussian estimation of fiducial P(d|theta):\n",
    "likelihood = get_Gaussian(true_data,cov)\n",
    "prior      = get_Gaussian(theta_fid,np.array([[3,0],[0,3]]))\n",
    "\n",
    "\n",
    "def joint_distribution(thetas,rand_seed):\n",
    "    fwd = generate_data(thetas,sigma,sig_dim=sig_dim, data_dim=data_dim, nsamples=1,rand_seed=rand_seed)\n",
    "    return likelihood(fwd)+prior(thetas)"
   ]
  },
  {
   "cell_type": "markdown",
   "metadata": {},
   "source": [
    "#### Fit P(A|d) by Fisher Analysis"
   ]
  },
  {
   "cell_type": "code",
   "execution_count": 14,
   "metadata": {},
   "outputs": [],
   "source": []
  },
  {
   "cell_type": "code",
   "execution_count": 104,
   "metadata": {},
   "outputs": [],
   "source": [
    "def get_Sigma(params):\n",
    "    a,b = params\n",
    "    return a**2+1\n",
    "\n",
    "def get_mu(params):\n",
    "    a,b = params\n",
    "    return (b-2)**2"
   ]
  },
  {
   "cell_type": "code",
   "execution_count": 105,
   "metadata": {},
   "outputs": [],
   "source": [
    "def data_probability(params,data):\n",
    "    Sigma = get_Sigma(params)\n",
    "    mu    = get_mu(params)\n",
    "    prob  = get_Gaussian(mu, Sigma)\n",
    "    return prob(data)"
   ]
  },
  {
   "cell_type": "code",
   "execution_count": 226,
   "metadata": {},
   "outputs": [],
   "source": [
    "def finite_diff(params,func):\n",
    "    delta_params = np.asarray([0.001,0.001])\n",
    "    derivative = (func(params+delta_params)-func(params-delta_params))/(2*delta_params)\n",
    "    return derivative"
   ]
  },
  {
   "cell_type": "code",
   "execution_count": 227,
   "metadata": {},
   "outputs": [],
   "source": [
    "from functools import partial"
   ]
  },
  {
   "cell_type": "code",
   "execution_count": 228,
   "metadata": {},
   "outputs": [],
   "source": [
    "def generate_data(params):\n",
    "    Sigma = get_Sigma(params)\n",
    "    mu    = get_mu(params)\n",
    "    data  = Sigma*np.random.randn(1)+mu\n",
    "    return data"
   ]
  },
  {
   "cell_type": "code",
   "execution_count": 229,
   "metadata": {},
   "outputs": [],
   "source": [
    "true_params = [1.5,2]"
   ]
  },
  {
   "cell_type": "code",
   "execution_count": 310,
   "metadata": {},
   "outputs": [
    {
     "name": "stdout",
     "output_type": "stream",
     "text": [
      "[-7.65952663]\n"
     ]
    }
   ],
   "source": [
    "data = generate_data(true_params)\n",
    "print(data)\n",
    "#to make it a hard problem, set data to 3.71343085\n",
    "#data = 3.71343085\n",
    "# to make it an easy problem, set data to -2.08261133"
   ]
  },
  {
   "cell_type": "code",
   "execution_count": 311,
   "metadata": {},
   "outputs": [],
   "source": [
    "p_of_params = partial(data_probability, data=data)\n",
    "deriv       = partial(finite_diff,func=p_of_params)\n",
    "# if it's not too much work: maybe you can try to replace the finite differencing operator by it's analytical derivative?"
   ]
  },
  {
   "cell_type": "code",
   "execution_count": 312,
   "metadata": {},
   "outputs": [],
   "source": [
    "from scipy.optimize import fsolve, minimize"
   ]
  },
  {
   "cell_type": "code",
   "execution_count": 313,
   "metadata": {},
   "outputs": [],
   "source": [
    "params_init = [1.,2.]"
   ]
  },
  {
   "cell_type": "code",
   "execution_count": 314,
   "metadata": {},
   "outputs": [
    {
     "name": "stdout",
     "output_type": "stream",
     "text": [
      "(array([0.90268926, 9.69388583]), {'nfev': 1000, 'fjac': array([[-0.70710678, -0.70710678],\n",
      "       [-0.70710678,  0.70710678]]), 'r': array([ 3.27416458e-284,  8.04570754e-284, -3.34263791e-304]), 'qtf': array([-1.65748383e-292,  6.67515272e-308]), 'fvec': array([5.68985824e-293, 5.68985824e-293])}, 2, 'The number of calls to function has reached maxfev = 1000.')\n",
      "[0.90268926 9.69388583]\n"
     ]
    }
   ],
   "source": [
    "# this solver is not working well, as you can see\n",
    "output= fsolve(deriv,params_init,full_output=True,maxfev=1000,xtol=1e-10)\n",
    "print(output)\n",
    "best_params= output[0]\n",
    "print(best_params)"
   ]
  },
  {
   "cell_type": "code",
   "execution_count": 315,
   "metadata": {},
   "outputs": [],
   "source": [
    "# here we sample the probability distribution on a grid\n",
    "# (I think that's what Lister tried to do, or maybe even did?)\n",
    "a_ = np.linspace(-5,5,100)\n",
    "b_ = np.linspace(-2,5,100)\n",
    "a_, b_ = np.meshgrid(a_,b_)\n",
    "p  = p_of_params([a_,b_])\n"
   ]
  },
  {
   "cell_type": "code",
   "execution_count": 316,
   "metadata": {},
   "outputs": [
    {
     "data": {
      "text/plain": [
       "<matplotlib.colorbar.Colorbar at 0x7ff46bff4b10>"
      ]
     },
     "execution_count": 316,
     "metadata": {},
     "output_type": "execute_result"
    },
    {
     "data": {
      "image/png": "[encoded data removed]",
      "text/plain": [
       "<Figure size 432x288 with 2 Axes>"
      ]
     },
     "metadata": {
      "needs_background": "light"
     },
     "output_type": "display_data"
    }
   ],
   "source": [
    "fig,ax=plt.subplots(1,1)\n",
    "cp = ax.contourf(a_, b_, p)\n",
    "plt.scatter(best_params[0],best_params[1],color='red')\n",
    "plt.scatter(params_init[0],params_init[1],color='skyblue')\n",
    "fig.colorbar(cp)"
   ]
  },
  {
   "cell_type": "code",
   "execution_count": 317,
   "metadata": {},
   "outputs": [
    {
     "name": "stdout",
     "output_type": "stream",
     "text": [
      " final_simplex: (array([[2.58062186, 2.00005914],\n",
      "       [2.58052859, 1.99997961],\n",
      "       [2.58054624, 2.0000969 ]]), array([-0.03159082, -0.03159082, -0.03159082]))\n",
      "           fun: -0.03159081963698711\n",
      "       message: 'Optimization terminated successfully.'\n",
      "          nfev: 77\n",
      "           nit: 40\n",
      "        status: 0\n",
      "       success: True\n",
      "             x: array([2.58062186, 2.00005914])\n"
     ]
    }
   ],
   "source": [
    "#let's switch to minimization instead. This is the Nelder-Mead algorithm\n",
    "result = minimize(lambda params: -p_of_params(params),params_init, method='Nelder-Mead')\n",
    "print(result)\n",
    "best_params=result['x']"
   ]
  },
  {
   "cell_type": "code",
   "execution_count": 318,
   "metadata": {},
   "outputs": [
    {
     "data": {
      "text/plain": [
       "<matplotlib.colorbar.Colorbar at 0x7ff46becca50>"
      ]
     },
     "execution_count": 318,
     "metadata": {},
     "output_type": "execute_result"
    },
    {
     "data": {
      "image/png": "[encoded data removed]",
      "text/plain": [
       "<Figure size 432x288 with 2 Axes>"
      ]
     },
     "metadata": {
      "needs_background": "light"
     },
     "output_type": "display_data"
    }
   ],
   "source": [
    "fig,ax=plt.subplots(1,1)\n",
    "cp = ax.contourf(a_, b_, p)\n",
    "plt.scatter(best_params[0],best_params[1],color='red')\n",
    "plt.scatter(params_init[0],params_init[1],color='skyblue')\n",
    "fig.colorbar(cp)\n",
    "## -> it works very well"
   ]
  },
  {
   "cell_type": "code",
   "execution_count": 319,
   "metadata": {},
   "outputs": [
    {
     "name": "stdout",
     "output_type": "stream",
     "text": [
      "      fun: array([-0.02163483])\n",
      " hess_inv: <2x2 LbfgsInvHessProduct with dtype=float64>\n",
      "      jac: array([-0., -0.])\n",
      "  message: b'CONVERGENCE: NORM_OF_PROJECTED_GRADIENT_<=_PGTOL'\n",
      "     nfev: 16\n",
      "      nit: 7\n",
      "   status: 0\n",
      "  success: True\n",
      "        x: array([2.53683109, 3.53683109])\n"
     ]
    }
   ],
   "source": [
    "#let's try another algorithm\n",
    "result = minimize(lambda params: -p_of_params(params),params_init, jac=lambda params: -deriv(params), method='L-BFGS-B', options=dict(gtol=1e-40,ftol=1e-40))\n",
    "print(result)\n",
    "best_params=result['x']\n",
    "#it get's stuck "
   ]
  },
  {
   "cell_type": "code",
   "execution_count": 320,
   "metadata": {},
   "outputs": [
    {
     "data": {
      "text/plain": [
       "<matplotlib.colorbar.Colorbar at 0x7ff46be2aa90>"
      ]
     },
     "execution_count": 320,
     "metadata": {},
     "output_type": "execute_result"
    },
    {
     "data": {
      "image/png": "[encoded data removed]",
      "text/plain": [
       "<Figure size 432x288 with 2 Axes>"
      ]
     },
     "metadata": {
      "needs_background": "light"
     },
     "output_type": "display_data"
    }
   ],
   "source": [
    "fig,ax=plt.subplots(1,1)\n",
    "cp = ax.contourf(a_, b_, p)\n",
    "plt.scatter(best_params[0],best_params[1],color='red')\n",
    "plt.scatter(params_init[0],params_init[1],color='skyblue')\n",
    "fig.colorbar(cp)"
   ]
  },
  {
   "cell_type": "code",
   "execution_count": 321,
   "metadata": {},
   "outputs": [
    {
     "name": "stdout",
     "output_type": "stream",
     "text": [
      "   direc: array([[0.00000000e+00, 1.00000000e+00],\n",
      "       [2.44131089e-05, 3.12836529e-16]])\n",
      "     fun: array(-0.03159082)\n",
      " message: 'Optimization terminated successfully.'\n",
      "    nfev: 79\n",
      "     nit: 2\n",
      "  status: 0\n",
      " success: True\n",
      "       x: array([2.58060588, 2.        ])\n"
     ]
    }
   ],
   "source": [
    "#let's try another algorithm\n",
    "result = minimize(lambda params: -p_of_params(params),params_init, jac=lambda params: -deriv(params), method='Powell')\n",
    "print(result)\n",
    "best_params=result['x']"
   ]
  },
  {
   "cell_type": "code",
   "execution_count": 322,
   "metadata": {},
   "outputs": [
    {
     "data": {
      "text/plain": [
       "<matplotlib.colorbar.Colorbar at 0x7ff46bd049d0>"
      ]
     },
     "execution_count": 322,
     "metadata": {},
     "output_type": "execute_result"
    },
    {
     "data": {
      "image/png": "[encoded data removed]",
      "text/plain": [
       "<Figure size 432x288 with 2 Axes>"
      ]
     },
     "metadata": {
      "needs_background": "light"
     },
     "output_type": "display_data"
    }
   ],
   "source": [
    "fig,ax=plt.subplots(1,1)\n",
    "cp = ax.contourf(a_, b_, p)\n",
    "plt.scatter(best_params[0],best_params[1],color='red')\n",
    "plt.scatter(params_init[0],params_init[1],color='skyblue')\n",
    "#fig.colorbar(cp)"
   ]
  },
  {
   "cell_type": "code",
   "execution_count": 330,
   "metadata": {},
   "outputs": [
    {
     "name": "stdout",
     "output_type": "stream",
     "text": [
      "     fun: array([-0.02101414])\n",
      "     jac: array([0.0038605, 0.0038605])\n",
      " message: 'Desired error not necessarily achieved due to precision loss.'\n",
      "    nfev: 33\n",
      "     nit: 1\n",
      "    njev: 21\n",
      "  status: 2\n",
      " success: False\n",
      "       x: array([2.82366548, 3.82366548])\n",
      "     fun: -0.03035250312742422\n",
      "     jac: array([3.3131742e-06, 3.3131742e-06])\n",
      " message: 'Optimization terminated successfully.'\n",
      "    nfev: 26\n",
      "     nit: 5\n",
      "    njev: 26\n",
      "  status: 0\n",
      " success: True\n",
      "       x: array([2.48254563, 2.48254563])\n"
     ]
    }
   ],
   "source": [
    "### explore different starting values\n",
    "#let's try another algorithm\n",
    "result = minimize(lambda params: -p_of_params(params),params_init, jac=lambda params: -deriv(params), method='CG')\n",
    "print(result)\n",
    "best_params=result['x']\n",
    "\n",
    "params_init_2=[3,3]\n",
    "#let's try another algorithm\n",
    "result = minimize(lambda params: -p_of_params(params),params_init_2, jac=lambda params: -deriv(params), method='CG')\n",
    "print(result)\n",
    "best_params2=result['x']\n",
    "#it get's stuck and tells us so"
   ]
  },
  {
   "cell_type": "code",
   "execution_count": 333,
   "metadata": {},
   "outputs": [
    {
     "data": {
      "text/plain": [
       "<matplotlib.colorbar.Colorbar at 0x7ff46b696510>"
      ]
     },
     "execution_count": 333,
     "metadata": {},
     "output_type": "execute_result"
    },
    {
     "data": {
      "image/png": "[encoded data removed]",
      "text/plain": [
       "<Figure size 432x288 with 2 Axes>"
      ]
     },
     "metadata": {
      "needs_background": "light"
     },
     "output_type": "display_data"
    },
    {
     "data": {
      "image/png": "[encoded data removed]",
      "text/plain": [
       "<Figure size 432x288 with 2 Axes>"
      ]
     },
     "metadata": {
      "needs_background": "light"
     },
     "output_type": "display_data"
    }
   ],
   "source": [
    "fig,ax=plt.subplots(1,1)\n",
    "cp = ax.contourf(a_, b_, p)\n",
    "plt.scatter(best_params[0],best_params[1],color='red')\n",
    "plt.scatter(params_init[0],params_init[1],color='skyblue')\n",
    "fig.colorbar(cp)\n",
    "fig,ax=plt.subplots(1,1)\n",
    "cp = ax.contourf(a_, b_, p)\n",
    "plt.scatter(best_params2[0],best_params2[1],color='red')\n",
    "plt.scatter(params_init_2[0],params_init_2[1],color='skyblue')\n",
    "fig.colorbar(cp)"
   ]
  },
  {
   "cell_type": "markdown",
   "metadata": {},
   "source": [
    "Can you try other algorithms? :) \n",
    "https://docs.scipy.org/doc/scipy/reference/generated/scipy.optimize.minimize.html\n",
    "Some of them require a Hessian - you might already have a finite differencing function for Hessians. (See also next question)\n",
    "Try to find out what these different algorithms do differently."
   ]
  },
  {
   "cell_type": "markdown",
   "metadata": {},
   "source": [
    "Can you compute the Fisher information from finite differencing and plot the Gaussian that we get for P(A) from the Fisher analysis?"
   ]
  },
  {
   "cell_type": "code",
   "execution_count": null,
   "metadata": {},
   "outputs": [],
   "source": []
  },
  {
   "cell_type": "code",
   "execution_count": null,
   "metadata": {},
   "outputs": [],
   "source": []
  }
 ],
 "metadata": {
  "kernelspec": {
   "display_name": "Python 3",
   "language": "python",
   "name": "python3"
  },
  "language_info": {
   "codemirror_mode": {
    "name": "ipython",
    "version": 3
   },
   "file_extension": ".py",
   "mimetype": "text/x-python",
   "name": "python",
   "nbconvert_exporter": "python",
   "pygments_lexer": "ipython3",
   "version": "3.7.4"
  }
 },
 "nbformat": 4,
 "nbformat_minor": 4
}
