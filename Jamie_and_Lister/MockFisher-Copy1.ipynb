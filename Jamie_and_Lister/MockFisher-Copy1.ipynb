{
 "cells": [
  {
   "cell_type": "code",
   "execution_count": 8,
   "metadata": {},
   "outputs": [],
   "source": [
    "import numpy as np\n",
    "import matplotlib.pyplot as plt"
   ]
  },
  {
   "cell_type": "markdown",
   "metadata": {},
   "source": [
    "Data Model: data = signal+noise    \n",
    "signal           = Ax+mu  \n",
    "x is a random number drawn from a standard normal distribution, < x >=0, <x^2>=1    \n",
    "the noise is Gaussian with mean =< noise >=0 and variance = < ( x-< x >)**2 >=sigma^2\n",
    "\n",
    "A and mu depend on the parameters a,b. a and b are the parameters we are interested in inferring."
   ]
  },
  {
   "cell_type": "code",
   "execution_count": 9,
   "metadata": {},
   "outputs": [],
   "source": [
    "#get A as a function of a,b\n",
    "def get_A(a,b,dim=1):\n",
    "    A = a**2*np.ones((dim,dim))+b/2.\n",
    "    return A"
   ]
  },
  {
   "cell_type": "code",
   "execution_count": 10,
   "metadata": {},
   "outputs": [],
   "source": [
    "#get mu as a function of a,b\n",
    "def get_mu(a,b, dim=1):\n",
    "    mu = a**3/np.exp(b)*np.ones(dim)\n",
    "    return mu"
   ]
  },
  {
   "cell_type": "markdown",
   "metadata": {},
   "source": [
    "Fiducial Parameters (this is the underlying truth)"
   ]
  },
  {
   "cell_type": "code",
   "execution_count": 11,
   "metadata": {},
   "outputs": [],
   "source": [
    "a_0=2; b_0=0.5"
   ]
  },
  {
   "cell_type": "code",
   "execution_count": 12,
   "metadata": {},
   "outputs": [],
   "source": [
    "A_0  = get_A(a_0,b_0)\n",
    "mu_0 = get_mu(a_0, b_0)"
   ]
  },
  {
   "cell_type": "markdown",
   "metadata": {},
   "source": [
    "Noise level"
   ]
  },
  {
   "cell_type": "code",
   "execution_count": 13,
   "metadata": {},
   "outputs": [],
   "source": [
    "sigma = 0.1"
   ]
  },
  {
   "cell_type": "code",
   "execution_count": 195,
   "metadata": {},
   "outputs": [],
   "source": [
    "def generate_noise(sigma,dim=1):\n",
    "    #fill in\n",
    "    return noise"
   ]
  },
  {
   "cell_type": "code",
   "execution_count": 196,
   "metadata": {},
   "outputs": [],
   "source": [
    "def generate_signal(A,mu,sigma,rand_seed,dim=1):\n",
    "    \n",
    "    #fill in\n",
    "    \n",
    "    return data"
   ]
  },
  {
   "cell_type": "code",
   "execution_count": 197,
   "metadata": {},
   "outputs": [],
   "source": [
    "def generate_data(A,mu,sigma,rand_seed=None,dim=1):\n",
    "    \n",
    "    #fill in\n",
    "    \n",
    "    return data"
   ]
  },
  {
   "cell_type": "markdown",
   "metadata": {},
   "source": [
    "fiducial data (that's the assumed truth)"
   ]
  },
  {
   "cell_type": "code",
   "execution_count": 198,
   "metadata": {},
   "outputs": [],
   "source": [
    "fid_data = generate_data(A_0,mu_0,sigma,rand_seed=123)"
   ]
  },
  {
   "cell_type": "markdown",
   "metadata": {},
   "source": [
    "take derivatives at fixed random seed"
   ]
  },
  {
   "cell_type": "markdown",
   "metadata": {},
   "source": [
    "Questions:  \n",
    "1) What's the mean and the vraiance of the data? Which distribution does the data follow? (Write down an equation P(d)=...)   \n",
    "2) How can I estimate the variance of the data, given a big enough data sample? Can you write some code for this? (maybe start with the mean) Does your estimate confirm your calculation from 1)?   \n",
    "3) Write a finite differencing operatator with respect to a and b for the data."
   ]
  },
  {
   "cell_type": "code",
   "execution_count": null,
   "metadata": {},
   "outputs": [],
   "source": []
  },
  {
   "cell_type": "code",
   "execution_count": null,
   "metadata": {},
   "outputs": [],
   "source": []
  },
  {
   "cell_type": "code",
   "execution_count": null,
   "metadata": {},
   "outputs": [],
   "source": []
  },
  {
   "cell_type": "code",
   "execution_count": null,
   "metadata": {},
   "outputs": [],
   "source": []
  },
  {
   "cell_type": "code",
   "execution_count": null,
   "metadata": {},
   "outputs": [],
   "source": []
  },
  {
   "cell_type": "markdown",
   "metadata": {},
   "source": [
    "-log L(data|x) is what we want to take thed erivative of wrt to parameters"
   ]
  },
  {
   "cell_type": "code",
   "execution_count": 231,
   "metadata": {},
   "outputs": [],
   "source": [
    "def chi2(fwd,data_fid,sigma):\n",
    "    return np.sum(0.5*((fwd-data_fid)/sigma)**2,axis=0)"
   ]
  },
  {
   "cell_type": "code",
   "execution_count": 232,
   "metadata": {},
   "outputs": [],
   "source": [
    "def first_derivative(delta_a,delta_b,a_0,b_0,sigma,random_seed):\n",
    "    \n",
    "    A_fwd_a = get_A(a_0+delta_a,b_0)\n",
    "    A_bwd_a = get_A(a_0-delta_a,b_0)\n",
    "    A_fwd_b = get_A(a_0,b_0+delta_b)\n",
    "    A_bwd_b = get_A(a_0,b_0-delta_b)\n",
    "\n",
    "    mu_fwd_a = get_mu(a_0+delta_a,b_0)\n",
    "    mu_bwd_a = get_mu(a_0-delta_a,b_0)\n",
    "    mu_fwd_b = get_mu(a_0,b_0+delta_b)\n",
    "    mu_bwd_b = get_mu(a_0,b_0-delta_b)\n",
    "    \n",
    "    data_fwd_a  = forward_model(A_fwd_a,mu_fwd_a,sigma,rand_seed=random_seed)\n",
    "    data_bwd_a  = forward_model(A_bwd_a,mu_bwd_a,sigma,rand_seed=random_seed)\n",
    "    data_fwd_b  = forward_model(A_fwd_b,mu_fwd_b,sigma,rand_seed=random_seed)\n",
    "    data_bwd_b  = forward_model(A_bwd_b,mu_bwd_b,sigma,rand_seed=random_seed)\n",
    "\n",
    "    \n",
    "    dLda = (chi2(data_fwd_a,data_fid,sigma)-chi2(data_bwd_a,data_fid,sigma))/(2.*delta_a)\n",
    "    dLdb = (chi2(data_fwd_b,data_fid,sigma)-chi2(data_bwd_b,data_fid,sigma))/(2.*delta_b)\n",
    "    \n",
    "    return dLda, dLdb"
   ]
  },
  {
   "cell_type": "code",
   "execution_count": 238,
   "metadata": {},
   "outputs": [
    {
     "name": "stdout",
     "output_type": "stream",
     "text": [
      "1.0\n",
      "40.0\n"
     ]
    }
   ],
   "source": [
    "means=[]\n",
    "for ii in np.linspace(1,40,2):\n",
    "    print(ii)\n",
    "    derives=[]\n",
    "    for ii in range(10000*(int(ii)+1)):\n",
    "        np.random.seed(None)\n",
    "        random_seed = np.random.randint(low=0,high=1e6)\n",
    "        derives.append(first_derivative(delta_a,delta_b,a_0,b_0,sigma,random_seed))\n",
    "    means.append(np.mean(np.asarray(derives)[:,0,0]))"
   ]
  },
  {
   "cell_type": "code",
   "execution_count": 239,
   "metadata": {},
   "outputs": [
    {
     "data": {
      "text/plain": [
       "<matplotlib.collections.PathCollection at 0x2aaadd8cf630>"
      ]
     },
     "execution_count": 239,
     "metadata": {},
     "output_type": "execute_result"
    },
    {
     "data": {
      "image/png": "[encoded data removed]",
      "text/plain": [
       "<Figure size 432x288 with 1 Axes>"
      ]
     },
     "metadata": {
      "needs_background": "light"
     },
     "output_type": "display_data"
    }
   ],
   "source": [
    "plt.scatter(np.arange(len(means)),means)"
   ]
  },
  {
   "cell_type": "code",
   "execution_count": 240,
   "metadata": {},
   "outputs": [],
   "source": [
    "A_fwd_a = get_A(a_0+delta_a,b_0)\n",
    "A_bwd_a = get_A(a_0-delta_a,b_0)\n",
    "A_fwd_b = get_A(a_0,b_0+delta_b)\n",
    "A_bwd_b = get_A(a_0,b_0-delta_b)\n",
    "\n",
    "mu_fwd_a = get_mu(a_0+delta_a,b_0)\n",
    "mu_bwd_a = get_mu(a_0-delta_a,b_0)\n",
    "mu_fwd_b = get_mu(a_0,b_0+delta_b)\n",
    "mu_bwd_b = get_mu(a_0,b_0-delta_b)"
   ]
  },
  {
   "cell_type": "code",
   "execution_count": 241,
   "metadata": {},
   "outputs": [
    {
     "data": {
      "text/plain": [
       "array([[ 5934.10406359]])"
      ]
     },
     "execution_count": 241,
     "metadata": {},
     "output_type": "execute_result"
    }
   ],
   "source": [
    "((mu_fwd_a**2-mu_bwd_a**2+2*data_fid*(mu_fwd_a-mu_bwd_a)+A_fwd_a**2-A_bwd_a**2)/sigma**2)/(delta_a*4)"
   ]
  },
  {
   "cell_type": "code",
   "execution_count": 242,
   "metadata": {},
   "outputs": [
    {
     "name": "stdout",
     "output_type": "stream",
     "text": [
      "[4655.7223742473807, 4600.9050771774982]\n"
     ]
    }
   ],
   "source": [
    "print(means)"
   ]
  },
  {
   "cell_type": "code",
   "execution_count": null,
   "metadata": {},
   "outputs": [],
   "source": []
  },
  {
   "cell_type": "code",
   "execution_count": null,
   "metadata": {},
   "outputs": [],
   "source": []
  }
 ],
 "metadata": {
  "kernelspec": {
   "display_name": "PyROOT - Python3 [conda env:root] *",
   "language": "python",
   "name": "conda-root-pyroot3"
  },
  "language_info": {
   "codemirror_mode": {
    "name": "ipython",
    "version": 3
   },
   "file_extension": ".py",
   "mimetype": "text/x-python",
   "name": "python",
   "nbconvert_exporter": "python",
   "pygments_lexer": "ipython3",
   "version": "3.6.8"
  }
 },
 "nbformat": 4,
 "nbformat_minor": 4
}
