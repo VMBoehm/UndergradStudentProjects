{
 "cells": [
  {
   "cell_type": "code",
   "execution_count": 17,
   "metadata": {},
   "outputs": [],
   "source": [
    "import matplotlib.pyplot as plt\n",
    "import autograd.numpy as np\n",
    "import numpy.linalg as linalg\n",
    "from autograd import grad\n",
    "import scipy.stats as st"
   ]
  },
  {
   "cell_type": "code",
   "execution_count": 35,
   "metadata": {},
   "outputs": [],
   "source": [
    "means = [np.asarray([1,-4]), np.asarray([-2,2])]\n",
    "covs  = [np.asarray([[2.,-0.5,],[-0.5,2]]),np.asarray([[2,0.5],[0.5,2]])]\n",
    "weights = [0.5,0.5]\n",
    "\n",
    "# checking for pos def\n",
    "for cov in covs:\n",
    "    _ = linalg.cholesky(cov)"
   ]
  },
  {
   "cell_type": "code",
   "execution_count": 36,
   "metadata": {},
   "outputs": [],
   "source": [
    "def create_neg_log_prob(means, covs,weights):\n",
    "    \n",
    "    def negative_log_prob(x):\n",
    "        gs = []\n",
    "        N  = means[0].shape[0]\n",
    "        for mean,cov in zip(means,covs):\n",
    "            m = (x-mean)\n",
    "            _, det= np.linalg.slogdet(cov)\n",
    "            gs+=[-0.5*np.dot(m,np.dot(cov,m))-N/2.*np.log(2*np.pi)-N*det]\n",
    "        res = gs[0]+weights[0]\n",
    "        for ii, w in enumerate(weights[1::]):\n",
    "            res=np.logaddexp(res,w+gs[ii+1])\n",
    "        return -res\n",
    "    return negative_log_prob"
   ]
  },
  {
   "cell_type": "code",
   "execution_count": 37,
   "metadata": {},
   "outputs": [],
   "source": [
    "negative_log_prob = create_neg_log_prob(means,covs,weights)"
   ]
  },
  {
   "cell_type": "code",
   "execution_count": 38,
   "metadata": {},
   "outputs": [
    {
     "data": {
      "text/plain": [
       "9.981386486047132"
      ]
     },
     "execution_count": 38,
     "metadata": {},
     "output_type": "execute_result"
    }
   ],
   "source": [
    "negative_log_prob([0.,0.])"
   ]
  },
  {
   "cell_type": "code",
   "execution_count": 39,
   "metadata": {},
   "outputs": [
    {
     "data": {
      "text/plain": [
       "<function autograd.wrap_util.unary_to_nary.<locals>.nary_operator.<locals>.nary_f(*args, **kwargs)>"
      ]
     },
     "execution_count": 39,
     "metadata": {},
     "output_type": "execute_result"
    }
   ],
   "source": [
    "grad(negative_log_prob)"
   ]
  },
  {
   "cell_type": "code",
   "execution_count": 40,
   "metadata": {},
   "outputs": [],
   "source": [
    "def hamiltonian_monte_carlo(n_samples, negative_log_prob, initial_position, path_len=1, step_size=0.5):\n",
    "    \"\"\"Run Hamiltonian Monte Carlo sampling.\n",
    "\n",
    "    Parameters\n",
    "    ----------\n",
    "    n_samples : int\n",
    "        Number of samples to return\n",
    "    negative_log_prob : callable\n",
    "        The negative log probability to sample from\n",
    "    initial_position : np.array\n",
    "        A place to start sampling from.\n",
    "    path_len : float\n",
    "        How long each integration path is. Smaller is faster and more correlated.\n",
    "    step_size : float\n",
    "        How long each integration step is. Smaller is slower and more accurate.\n",
    "\n",
    "    Returns\n",
    "    -------\n",
    "    np.array\n",
    "        Array of length `n_samples`.\n",
    "    \"\"\"\n",
    "    # autograd magic\n",
    "    dVdq = grad(negative_log_prob)\n",
    "\n",
    "    # collect all our samples in a list\n",
    "    samples = [initial_position]\n",
    "\n",
    "    # Keep a single object for momentum resampling\n",
    "    momentum = st.norm(0, 1)\n",
    "\n",
    "    # If initial_position is a 10d vector and n_samples is 100, we want\n",
    "    # 100 x 10 momentum draws. We can do this in one call to momentum.rvs, and\n",
    "    # iterate over rows\n",
    "    size = (n_samples,) + initial_position.shape[:1]\n",
    "    for p0 in momentum.rvs(size=size):\n",
    "        # Integrate over our path to get a new position and momentum\n",
    "        q_new, p_new = leapfrog(\n",
    "            samples[-1],\n",
    "            p0,\n",
    "            dVdq,\n",
    "            path_len=path_len,\n",
    "            step_size=step_size,\n",
    "        )\n",
    "\n",
    "        # Check Metropolis acceptance criterion\n",
    "        start_log_p = negative_log_prob(samples[-1]) - np.sum(momentum.logpdf(p0))\n",
    "        new_log_p = negative_log_prob(q_new) - np.sum(momentum.logpdf(p_new))\n",
    "        if np.log(np.random.rand()) < start_log_p - new_log_p:\n",
    "            samples.append(q_new)\n",
    "        else:\n",
    "            samples.append(np.copy(samples[-1]))\n",
    "\n",
    "    return np.array(samples[1:])"
   ]
  },
  {
   "cell_type": "code",
   "execution_count": 41,
   "metadata": {},
   "outputs": [],
   "source": [
    "\n",
    "def leapfrog(q, p, dVdq, path_len, step_size):\n",
    "    \"\"\"Leapfrog integrator for Hamiltonian Monte Carlo.\n",
    "\n",
    "    Parameters\n",
    "    ----------\n",
    "    q : np.floatX\n",
    "        Initial position\n",
    "    p : np.floatX\n",
    "        Initial momentum\n",
    "    dVdq : callable\n",
    "        Gradient of the velocity\n",
    "    path_len : float\n",
    "        How long to integrate for\n",
    "    step_size : float\n",
    "        How long each integration step should be\n",
    "\n",
    "    Returns\n",
    "    -------\n",
    "    q, p : np.floatX, np.floatX\n",
    "        New position and momentum\n",
    "    \"\"\"\n",
    "    q, p = np.copy(q), np.copy(p)\n",
    "\n",
    "    p -= step_size * dVdq(q) / 2  # half step\n",
    "    for _ in range(int(path_len / step_size) - 1):\n",
    "        q += step_size * p  # whole step\n",
    "        p -= step_size * dVdq(q)  # whole step\n",
    "    q += step_size * p  # whole step\n",
    "    p -= step_size * dVdq(q) / 2  # half step\n",
    "\n",
    "    # momentum flip at end\n",
    "    return q, -p\n"
   ]
  },
  {
   "cell_type": "code",
   "execution_count": 46,
   "metadata": {},
   "outputs": [],
   "source": [
    "samples = hamiltonian_monte_carlo(n_samples=10000, negative_log_prob=negative_log_prob, initial_position=np.asarray([1.,-4.]))"
   ]
  },
  {
   "cell_type": "code",
   "execution_count": 47,
   "metadata": {},
   "outputs": [
    {
     "data": {
      "image/png": "[encoded data removed]",
      "text/plain": [
       "<Figure size 432x288 with 1 Axes>"
      ]
     },
     "metadata": {
      "needs_background": "light"
     },
     "output_type": "display_data"
    }
   ],
   "source": [
    "plt.scatter(samples[1000:,0],samples[1000:,1])\n",
    "plt.scatter(means[0][0], means[0][1])\n",
    "plt.scatter(means[1][0], means[1][1], color='g')\n",
    "plt.show()"
   ]
  },
  {
   "cell_type": "code",
   "execution_count": null,
   "metadata": {},
   "outputs": [],
   "source": []
  },
  {
   "cell_type": "code",
   "execution_count": null,
   "metadata": {},
   "outputs": [],
   "source": []
  }
 ],
 "metadata": {
  "kernelspec": {
   "display_name": "AKDE",
   "language": "python",
   "name": "akde"
  },
  "language_info": {
   "codemirror_mode": {
    "name": "ipython",
    "version": 3
   },
   "file_extension": ".py",
   "mimetype": "text/x-python",
   "name": "python",
   "nbconvert_exporter": "python",
   "pygments_lexer": "ipython3",
   "version": "3.7.5"
  }
 },
 "nbformat": 4,
 "nbformat_minor": 2
}
