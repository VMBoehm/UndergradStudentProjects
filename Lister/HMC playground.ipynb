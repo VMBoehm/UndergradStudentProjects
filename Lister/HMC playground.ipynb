{
 "cells": [
  {
   "cell_type": "code",
   "execution_count": 38,
   "metadata": {},
   "outputs": [],
   "source": [
    "import matplotlib.pyplot as plt\n",
    "import autograd.numpy as np\n",
    "import numpy.linalg as linalg\n",
    "from autograd import grad"
   ]
  },
  {
   "cell_type": "code",
   "execution_count": 39,
   "metadata": {},
   "outputs": [],
   "source": [
    "means = [np.asarray([1,-2]), np.asarray([0,1])]\n",
    "covs  = [np.asarray([[1.,-0.5,],[-0.5,1]]),np.asarray([[2,0.5],[0.5,2]])]\n",
    "weights = [0.3,0.7]\n",
    "\n",
    "# checking for pos def\n",
    "for cov in covs:\n",
    "    _ = linalg.cholesky(cov)"
   ]
  },
  {
   "cell_type": "code",
   "execution_count": 40,
   "metadata": {},
   "outputs": [],
   "source": [
    "def create_neg_log_prob(means, covs,weights):\n",
    "    def negative_log_prob(x):\n",
    "        gs = []\n",
    "        N  = means[0].shape[0]\n",
    "        for mean,cov in zip(means,covs):\n",
    "            m = (x-mean)\n",
    "            _, det= np.linalg.slogdet(cov)\n",
    "            gs+=[0.5*np.dot(m,np.dot(cov,m))+N/2.*np.log(2*np.pi)+N*det]\n",
    "        res = np.logaddexp(gs[0],weights[0])\n",
    "        for ii, w in enumerate(weights[1::]):\n",
    "            res+=np.logaddexp(res,w*gs[ii])\n",
    "        return res\n",
    "    return negative_log_prob"
   ]
  },
  {
   "cell_type": "code",
   "execution_count": 41,
   "metadata": {},
   "outputs": [],
   "source": [
    "negative_log_prob = create_neg_log_prob(means,covs,weights)"
   ]
  },
  {
   "cell_type": "code",
   "execution_count": 42,
   "metadata": {},
   "outputs": [
    {
     "data": {
      "text/plain": [
       "9.760548849504818"
      ]
     },
     "execution_count": 42,
     "metadata": {},
     "output_type": "execute_result"
    }
   ],
   "source": [
    "negative_log_prob([0.,0.])"
   ]
  },
  {
   "cell_type": "code",
   "execution_count": 43,
   "metadata": {},
   "outputs": [
    {
     "data": {
      "text/plain": [
       "<function autograd.wrap_util.unary_to_nary.<locals>.nary_operator.<locals>.nary_f(*args, **kwargs)>"
      ]
     },
     "execution_count": 43,
     "metadata": {},
     "output_type": "execute_result"
    }
   ],
   "source": [
    "grad(negative_log_prob)"
   ]
  },
  {
   "cell_type": "code",
   "execution_count": null,
   "metadata": {},
   "outputs": [],
   "source": []
  }
 ],
 "metadata": {
  "kernelspec": {
   "display_name": "AKDE",
   "language": "python",
   "name": "akde"
  },
  "language_info": {
   "codemirror_mode": {
    "name": "ipython",
    "version": 3
   },
   "file_extension": ".py",
   "mimetype": "text/x-python",
   "name": "python",
   "nbconvert_exporter": "python",
   "pygments_lexer": "ipython3",
   "version": "3.7.5"
  }
 },
 "nbformat": 4,
 "nbformat_minor": 2
}
